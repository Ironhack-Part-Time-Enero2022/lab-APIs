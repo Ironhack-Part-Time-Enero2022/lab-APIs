{
 "cells": [
  {
   "cell_type": "markdown",
   "metadata": {},
   "source": [
    "# Introducción"
   ]
  },
  {
   "cell_type": "markdown",
   "metadata": {},
   "source": [
    "Vamos a sacar datos del servidor de ajedrez lichess.\n",
    "\n",
    "Lichess es un servidor de ajedrez de código abierto muy popular entre profesionales y aficionados, que se mantiene a base de patreons, pero que presenta todo su contenido y funciones de forma gratuita y sin anuncios. Si bien hay servidores de ajedrez de pago, diría que crecen y se mantienen gracias a sus inversiones en publicidad, porque sinceramente no aportan casi nada que no tengas en lichess.\n",
    "\n",
    "Sea como fuere, lichess sirve de escaparate a maestros y grandes maestros que ofreen sus servicios de profesores de ajederz online. Dado que su única forma de darse a conocer es ocupar los puestos más elevados en alguna de las disciplinas de ajedrez clásico (disciplinas organizadas por el tiempo de duración de la partida), la calidad y la competitividad en los niveles más altos está asegurada.\n",
    "\n",
    "Vamos a analizar la evolución deportiva de los campeones en las 5 modalidades principales: ultrabullet (entre 15 segundos y 1 minuto), bullet (entre 1 y 3 minutos), blitz (entre 3 y 8 minutos), rapid (entre 8 y 24 minutos) y classical (más de 25). El objetivo del estudio será dirimir cuál o cuáles de ellos presentan mejores cualidades ajedrecísticas a la hora de contratarlos como profesores\n"
   ]
  },
  {
   "cell_type": "markdown",
   "metadata": {},
   "source": [
    "Antes  de nada instalaremos bersek, una biblioteca que nos va a ayudar a interactuar con la API en general y con las necesidades de la información ajedrecística en particular.\n",
    "Tiene dos características destacables:\n",
    "\n",
    "- Reconoce la notación algebraica de las partidas como pgn y puede transformar un pgn en un string con la notación algebraica. ♟️pgn es la extensión en la que se guardan las partidas de ajedrez♟️\n",
    "- Reconoce la notación fen para anotar posiciones. ♟️El sistema de notación fen (Forsyth-Edwards Notation) es una suerte de regex para anotar la posición de las piezas en un momento determinado. Se inventó a finales del XIX para apuntar la posición de partidas aplazadas♟️"
   ]
  },
  {
   "cell_type": "code",
   "execution_count": null,
   "metadata": {},
   "outputs": [],
   "source": [
    "!pip install berserk"
   ]
  },
  {
   "cell_type": "code",
   "execution_count": 6,
   "metadata": {},
   "outputs": [],
   "source": [
    "import pandas as pd\n",
    "import matplotlib.pyplot as plt\n",
    "import berserk\n",
    "import os \n",
    "from dotenv import load_dotenv"
   ]
  },
  {
   "cell_type": "code",
   "execution_count": 7,
   "metadata": {},
   "outputs": [],
   "source": [
    "plt.rcParams[\"figure.figsize\"] = (15,6)"
   ]
  },
  {
   "cell_type": "code",
   "execution_count": 8,
   "metadata": {},
   "outputs": [
    {
     "data": {
      "text/plain": [
       "True"
      ]
     },
     "execution_count": 8,
     "metadata": {},
     "output_type": "execute_result"
    }
   ],
   "source": [
    "load_dotenv()"
   ]
  },
  {
   "cell_type": "code",
   "execution_count": 9,
   "metadata": {},
   "outputs": [],
   "source": [
    "token = os.getenv(\"LICHESS\") "
   ]
  },
  {
   "cell_type": "code",
   "execution_count": 10,
   "metadata": {},
   "outputs": [],
   "source": [
    "endpoint = 'https://lichess.org'"
   ]
  },
  {
   "cell_type": "markdown",
   "metadata": {},
   "source": [
    "Autentificacion con token e inicio de sesion"
   ]
  },
  {
   "cell_type": "code",
   "execution_count": 11,
   "metadata": {},
   "outputs": [],
   "source": [
    "session = berserk.TokenSession(token)\n",
    "client =  berserk.Client(session=session)"
   ]
  },
  {
   "cell_type": "markdown",
   "metadata": {},
   "source": [
    "# 1. Encontrar el mejor jugador de cada categoría"
   ]
  },
  {
   "cell_type": "markdown",
   "metadata": {},
   "source": [
    "Primero vamos a pedirle al servidor los 10 mejores jugadores de cada categoría, para extraer el mejor de cada  una"
   ]
  },
  {
   "cell_type": "code",
   "execution_count": 7,
   "metadata": {},
   "outputs": [
    {
     "data": {
      "text/html": [
       "<div>\n",
       "<style scoped>\n",
       "    .dataframe tbody tr th:only-of-type {\n",
       "        vertical-align: middle;\n",
       "    }\n",
       "\n",
       "    .dataframe tbody tr th {\n",
       "        vertical-align: top;\n",
       "    }\n",
       "\n",
       "    .dataframe thead th {\n",
       "        text-align: right;\n",
       "    }\n",
       "</style>\n",
       "<table border=\"1\" class=\"dataframe\">\n",
       "  <thead>\n",
       "    <tr style=\"text-align: right;\">\n",
       "      <th></th>\n",
       "      <th>bullet</th>\n",
       "      <th>blitz</th>\n",
       "      <th>rapid</th>\n",
       "      <th>classical</th>\n",
       "      <th>ultraBullet</th>\n",
       "      <th>crazyhouse</th>\n",
       "      <th>chess960</th>\n",
       "      <th>kingOfTheHill</th>\n",
       "      <th>threeCheck</th>\n",
       "      <th>antichess</th>\n",
       "      <th>atomic</th>\n",
       "      <th>horde</th>\n",
       "      <th>racingKings</th>\n",
       "    </tr>\n",
       "  </thead>\n",
       "  <tbody>\n",
       "    <tr>\n",
       "      <th>0</th>\n",
       "      <td>{'id': 'night-king96', 'username': 'Night-King...</td>\n",
       "      <td>{'id': 'feokl1995', 'username': 'Feokl1995', '...</td>\n",
       "      <td>{'id': 'zhigalko_sergei', 'username': 'Zhigalk...</td>\n",
       "      <td>{'id': 'loy_konstantin', 'username': 'Loy_Kons...</td>\n",
       "      <td>{'id': 'ohanyaneminchess', 'username': 'Ohanya...</td>\n",
       "      <td>{'id': 'jannlee', 'username': 'JannLee', 'perf...</td>\n",
       "      <td>{'id': 'zhigalko_sergei', 'username': 'Zhigalk...</td>\n",
       "      <td>{'id': 'zhigalko_sergei', 'username': 'Zhigalk...</td>\n",
       "      <td>{'id': 'variantsonly', 'username': 'VariantsOn...</td>\n",
       "      <td>{'id': 'devansh2008', 'username': 'devansh2008...</td>\n",
       "      <td>{'id': 'cqq', 'username': 'CQQ', 'perfs': {'at...</td>\n",
       "      <td>{'id': 'mindhunter0101', 'username': 'mindhunt...</td>\n",
       "      <td>{'id': 'royalmaniac', 'username': 'RoyalManiac...</td>\n",
       "    </tr>\n",
       "    <tr>\n",
       "      <th>1</th>\n",
       "      <td>{'id': 'friendlyfish', 'username': 'friendlyfi...</td>\n",
       "      <td>{'id': 'friendlyfish', 'username': 'friendlyfi...</td>\n",
       "      <td>{'id': 'drvitman', 'username': 'Drvitman', 'pe...</td>\n",
       "      <td>{'id': 'casabianka', 'username': 'Casabianka',...</td>\n",
       "      <td>{'id': 'think_fast_move_fast', 'username': 'Th...</td>\n",
       "      <td>{'id': 'blitzbullet', 'username': 'blitzbullet...</td>\n",
       "      <td>{'id': 'blazinq', 'username': 'Blazinq', 'perf...</td>\n",
       "      <td>{'id': 'fmshawnrl123', 'username': 'fmshawnrl1...</td>\n",
       "      <td>{'id': 'zhigalko_sergei', 'username': 'Zhigalk...</td>\n",
       "      <td>{'id': 'kex09', 'username': 'Kex09', 'perfs': ...</td>\n",
       "      <td>{'id': 'fast-tsunami', 'username': 'fast-tsuna...</td>\n",
       "      <td>{'id': 'rayholt', 'username': 'RayHolt', 'perf...</td>\n",
       "      <td>{'id': 'r2300', 'username': 'r2300', 'perfs': ...</td>\n",
       "    </tr>\n",
       "    <tr>\n",
       "      <th>2</th>\n",
       "      <td>{'id': 'mutdpro', 'username': 'mutdpro', 'perf...</td>\n",
       "      <td>{'id': 'miawlet', 'username': 'Miawlet', 'perf...</td>\n",
       "      <td>{'id': 'durarbayli', 'username': 'Durarbayli',...</td>\n",
       "      <td>{'id': 'dennis1989', 'username': 'Dennis1989',...</td>\n",
       "      <td>{'id': 'blazinq', 'username': 'Blazinq', 'perf...</td>\n",
       "      <td>{'id': 'mugwort', 'username': 'Mugwort', 'perf...</td>\n",
       "      <td>{'id': 'ragehunter', 'username': 'Ragehunter',...</td>\n",
       "      <td>{'id': 'ragehunter', 'username': 'Ragehunter',...</td>\n",
       "      <td>{'id': 'cragpanda', 'username': 'cragpanda', '...</td>\n",
       "      <td>{'id': 'firebatprime', 'username': 'firebatpri...</td>\n",
       "      <td>{'id': 'subs123', 'username': 'Subs123', 'perf...</td>\n",
       "      <td>{'id': 'luquihorde08', 'username': 'LuquiHorde...</td>\n",
       "      <td>{'id': 'artem_medvedev-04', 'username': 'Artem...</td>\n",
       "    </tr>\n",
       "    <tr>\n",
       "      <th>3</th>\n",
       "      <td>{'id': 'watneg', 'username': 'Watneg', 'perfs'...</td>\n",
       "      <td>{'id': 'wollongong2021', 'username': 'Wollongo...</td>\n",
       "      <td>{'id': 'realdavidnavara', 'username': 'RealDav...</td>\n",
       "      <td>{'id': 'mw1966', 'username': 'MW1966', 'perfs'...</td>\n",
       "      <td>{'id': 'genialnost', 'username': 'genialnost',...</td>\n",
       "      <td>{'id': 'zyxon', 'username': 'zyxon', 'perfs': ...</td>\n",
       "      <td>{'id': 'spacecloser', 'username': 'spacecloser...</td>\n",
       "      <td>{'id': 'ragadingdong', 'username': 'Ragadingdo...</td>\n",
       "      <td>{'id': 'blitzbullet', 'username': 'blitzbullet...</td>\n",
       "      <td>{'id': 'europrofesional', 'username': 'EUROPRO...</td>\n",
       "      <td>{'id': 'vlad_00', 'username': 'vlad_00', 'perf...</td>\n",
       "      <td>{'id': 'stubenfisch', 'username': 'Stubenfisch...</td>\n",
       "      <td>{'id': 'thorax_laneus', 'username': 'Thorax_La...</td>\n",
       "    </tr>\n",
       "    <tr>\n",
       "      <th>4</th>\n",
       "      <td>{'id': 'arm-777777', 'username': 'ARM-777777',...</td>\n",
       "      <td>{'id': 'rebeccaharris', 'username': 'RebeccaHa...</td>\n",
       "      <td>{'id': 'ragadingdong', 'username': 'Ragadingdo...</td>\n",
       "      <td>{'id': 'self_service', 'username': 'self_servi...</td>\n",
       "      <td>{'id': 'zhigalko_sergei', 'username': 'Zhigalk...</td>\n",
       "      <td>{'id': 'kingswitcher', 'username': 'Kingswitch...</td>\n",
       "      <td>{'id': 'meneermandje', 'username': 'MeneerMand...</td>\n",
       "      <td>{'id': 'plohishhihi', 'username': 'PloHishHIHI...</td>\n",
       "      <td>{'id': 'neverenough', 'username': 'NeverEnough...</td>\n",
       "      <td>{'id': 'arimakat', 'username': 'arimakat', 'pe...</td>\n",
       "      <td>{'id': 'wolfram_ep', 'username': 'Wolfram_EP',...</td>\n",
       "      <td>{'id': 'sinamon73', 'username': 'Sinamon73', '...</td>\n",
       "      <td>{'id': 'seth_7777777', 'username': 'seth_77777...</td>\n",
       "    </tr>\n",
       "  </tbody>\n",
       "</table>\n",
       "</div>"
      ],
      "text/plain": [
       "                                              bullet  \\\n",
       "0  {'id': 'night-king96', 'username': 'Night-King...   \n",
       "1  {'id': 'friendlyfish', 'username': 'friendlyfi...   \n",
       "2  {'id': 'mutdpro', 'username': 'mutdpro', 'perf...   \n",
       "3  {'id': 'watneg', 'username': 'Watneg', 'perfs'...   \n",
       "4  {'id': 'arm-777777', 'username': 'ARM-777777',...   \n",
       "\n",
       "                                               blitz  \\\n",
       "0  {'id': 'feokl1995', 'username': 'Feokl1995', '...   \n",
       "1  {'id': 'friendlyfish', 'username': 'friendlyfi...   \n",
       "2  {'id': 'miawlet', 'username': 'Miawlet', 'perf...   \n",
       "3  {'id': 'wollongong2021', 'username': 'Wollongo...   \n",
       "4  {'id': 'rebeccaharris', 'username': 'RebeccaHa...   \n",
       "\n",
       "                                               rapid  \\\n",
       "0  {'id': 'zhigalko_sergei', 'username': 'Zhigalk...   \n",
       "1  {'id': 'drvitman', 'username': 'Drvitman', 'pe...   \n",
       "2  {'id': 'durarbayli', 'username': 'Durarbayli',...   \n",
       "3  {'id': 'realdavidnavara', 'username': 'RealDav...   \n",
       "4  {'id': 'ragadingdong', 'username': 'Ragadingdo...   \n",
       "\n",
       "                                           classical  \\\n",
       "0  {'id': 'loy_konstantin', 'username': 'Loy_Kons...   \n",
       "1  {'id': 'casabianka', 'username': 'Casabianka',...   \n",
       "2  {'id': 'dennis1989', 'username': 'Dennis1989',...   \n",
       "3  {'id': 'mw1966', 'username': 'MW1966', 'perfs'...   \n",
       "4  {'id': 'self_service', 'username': 'self_servi...   \n",
       "\n",
       "                                         ultraBullet  \\\n",
       "0  {'id': 'ohanyaneminchess', 'username': 'Ohanya...   \n",
       "1  {'id': 'think_fast_move_fast', 'username': 'Th...   \n",
       "2  {'id': 'blazinq', 'username': 'Blazinq', 'perf...   \n",
       "3  {'id': 'genialnost', 'username': 'genialnost',...   \n",
       "4  {'id': 'zhigalko_sergei', 'username': 'Zhigalk...   \n",
       "\n",
       "                                          crazyhouse  \\\n",
       "0  {'id': 'jannlee', 'username': 'JannLee', 'perf...   \n",
       "1  {'id': 'blitzbullet', 'username': 'blitzbullet...   \n",
       "2  {'id': 'mugwort', 'username': 'Mugwort', 'perf...   \n",
       "3  {'id': 'zyxon', 'username': 'zyxon', 'perfs': ...   \n",
       "4  {'id': 'kingswitcher', 'username': 'Kingswitch...   \n",
       "\n",
       "                                            chess960  \\\n",
       "0  {'id': 'zhigalko_sergei', 'username': 'Zhigalk...   \n",
       "1  {'id': 'blazinq', 'username': 'Blazinq', 'perf...   \n",
       "2  {'id': 'ragehunter', 'username': 'Ragehunter',...   \n",
       "3  {'id': 'spacecloser', 'username': 'spacecloser...   \n",
       "4  {'id': 'meneermandje', 'username': 'MeneerMand...   \n",
       "\n",
       "                                       kingOfTheHill  \\\n",
       "0  {'id': 'zhigalko_sergei', 'username': 'Zhigalk...   \n",
       "1  {'id': 'fmshawnrl123', 'username': 'fmshawnrl1...   \n",
       "2  {'id': 'ragehunter', 'username': 'Ragehunter',...   \n",
       "3  {'id': 'ragadingdong', 'username': 'Ragadingdo...   \n",
       "4  {'id': 'plohishhihi', 'username': 'PloHishHIHI...   \n",
       "\n",
       "                                          threeCheck  \\\n",
       "0  {'id': 'variantsonly', 'username': 'VariantsOn...   \n",
       "1  {'id': 'zhigalko_sergei', 'username': 'Zhigalk...   \n",
       "2  {'id': 'cragpanda', 'username': 'cragpanda', '...   \n",
       "3  {'id': 'blitzbullet', 'username': 'blitzbullet...   \n",
       "4  {'id': 'neverenough', 'username': 'NeverEnough...   \n",
       "\n",
       "                                           antichess  \\\n",
       "0  {'id': 'devansh2008', 'username': 'devansh2008...   \n",
       "1  {'id': 'kex09', 'username': 'Kex09', 'perfs': ...   \n",
       "2  {'id': 'firebatprime', 'username': 'firebatpri...   \n",
       "3  {'id': 'europrofesional', 'username': 'EUROPRO...   \n",
       "4  {'id': 'arimakat', 'username': 'arimakat', 'pe...   \n",
       "\n",
       "                                              atomic  \\\n",
       "0  {'id': 'cqq', 'username': 'CQQ', 'perfs': {'at...   \n",
       "1  {'id': 'fast-tsunami', 'username': 'fast-tsuna...   \n",
       "2  {'id': 'subs123', 'username': 'Subs123', 'perf...   \n",
       "3  {'id': 'vlad_00', 'username': 'vlad_00', 'perf...   \n",
       "4  {'id': 'wolfram_ep', 'username': 'Wolfram_EP',...   \n",
       "\n",
       "                                               horde  \\\n",
       "0  {'id': 'mindhunter0101', 'username': 'mindhunt...   \n",
       "1  {'id': 'rayholt', 'username': 'RayHolt', 'perf...   \n",
       "2  {'id': 'luquihorde08', 'username': 'LuquiHorde...   \n",
       "3  {'id': 'stubenfisch', 'username': 'Stubenfisch...   \n",
       "4  {'id': 'sinamon73', 'username': 'Sinamon73', '...   \n",
       "\n",
       "                                         racingKings  \n",
       "0  {'id': 'royalmaniac', 'username': 'RoyalManiac...  \n",
       "1  {'id': 'r2300', 'username': 'r2300', 'perfs': ...  \n",
       "2  {'id': 'artem_medvedev-04', 'username': 'Artem...  \n",
       "3  {'id': 'thorax_laneus', 'username': 'Thorax_La...  \n",
       "4  {'id': 'seth_7777777', 'username': 'seth_77777...  "
      ]
     },
     "execution_count": 7,
     "metadata": {},
     "output_type": "execute_result"
    }
   ],
   "source": [
    "top10 = client.users.get_all_top_10()\n",
    "df_top10 = pd.DataFrame(top10)\n",
    "df_top10.head(5)"
   ]
  },
  {
   "cell_type": "markdown",
   "metadata": {},
   "source": [
    "Solo nos interesan las variantes de ajedrez con las reglas clásicas, así que vamos a eliminar las columnas que no nos interesan y a quedarnos con el primerclasificado de cada disciplina"
   ]
  },
  {
   "cell_type": "code",
   "execution_count": 8,
   "metadata": {},
   "outputs": [],
   "source": [
    "# Eliminamos las categorias que no nos interesan\n",
    "df_top10.drop(['crazyhouse', 'chess960', 'kingOfTheHill', 'threeCheck', \n",
    "                          'antichess', 'atomic', 'horde', 'racingKings'], \n",
    "                          axis=1, inplace=True)"
   ]
  },
  {
   "cell_type": "code",
   "execution_count": 9,
   "metadata": {},
   "outputs": [
    {
     "data": {
      "text/html": [
       "<div>\n",
       "<style scoped>\n",
       "    .dataframe tbody tr th:only-of-type {\n",
       "        vertical-align: middle;\n",
       "    }\n",
       "\n",
       "    .dataframe tbody tr th {\n",
       "        vertical-align: top;\n",
       "    }\n",
       "\n",
       "    .dataframe thead th {\n",
       "        text-align: right;\n",
       "    }\n",
       "</style>\n",
       "<table border=\"1\" class=\"dataframe\">\n",
       "  <thead>\n",
       "    <tr style=\"text-align: right;\">\n",
       "      <th></th>\n",
       "      <th>BULLET</th>\n",
       "      <th>BLITZ</th>\n",
       "      <th>RAPID</th>\n",
       "      <th>CLASSICAL</th>\n",
       "      <th>ULTRABULLET</th>\n",
       "    </tr>\n",
       "  </thead>\n",
       "  <tbody>\n",
       "    <tr>\n",
       "      <th>0</th>\n",
       "      <td>{'id': 'night-king96', 'username': 'Night-King...</td>\n",
       "      <td>{'id': 'feokl1995', 'username': 'Feokl1995', '...</td>\n",
       "      <td>{'id': 'zhigalko_sergei', 'username': 'Zhigalk...</td>\n",
       "      <td>{'id': 'loy_konstantin', 'username': 'Loy_Kons...</td>\n",
       "      <td>{'id': 'ohanyaneminchess', 'username': 'Ohanya...</td>\n",
       "    </tr>\n",
       "    <tr>\n",
       "      <th>1</th>\n",
       "      <td>{'id': 'friendlyfish', 'username': 'friendlyfi...</td>\n",
       "      <td>{'id': 'friendlyfish', 'username': 'friendlyfi...</td>\n",
       "      <td>{'id': 'drvitman', 'username': 'Drvitman', 'pe...</td>\n",
       "      <td>{'id': 'casabianka', 'username': 'Casabianka',...</td>\n",
       "      <td>{'id': 'think_fast_move_fast', 'username': 'Th...</td>\n",
       "    </tr>\n",
       "    <tr>\n",
       "      <th>2</th>\n",
       "      <td>{'id': 'mutdpro', 'username': 'mutdpro', 'perf...</td>\n",
       "      <td>{'id': 'miawlet', 'username': 'Miawlet', 'perf...</td>\n",
       "      <td>{'id': 'durarbayli', 'username': 'Durarbayli',...</td>\n",
       "      <td>{'id': 'dennis1989', 'username': 'Dennis1989',...</td>\n",
       "      <td>{'id': 'blazinq', 'username': 'Blazinq', 'perf...</td>\n",
       "    </tr>\n",
       "    <tr>\n",
       "      <th>3</th>\n",
       "      <td>{'id': 'watneg', 'username': 'Watneg', 'perfs'...</td>\n",
       "      <td>{'id': 'wollongong2021', 'username': 'Wollongo...</td>\n",
       "      <td>{'id': 'realdavidnavara', 'username': 'RealDav...</td>\n",
       "      <td>{'id': 'mw1966', 'username': 'MW1966', 'perfs'...</td>\n",
       "      <td>{'id': 'genialnost', 'username': 'genialnost',...</td>\n",
       "    </tr>\n",
       "    <tr>\n",
       "      <th>4</th>\n",
       "      <td>{'id': 'arm-777777', 'username': 'ARM-777777',...</td>\n",
       "      <td>{'id': 'rebeccaharris', 'username': 'RebeccaHa...</td>\n",
       "      <td>{'id': 'ragadingdong', 'username': 'Ragadingdo...</td>\n",
       "      <td>{'id': 'self_service', 'username': 'self_servi...</td>\n",
       "      <td>{'id': 'zhigalko_sergei', 'username': 'Zhigalk...</td>\n",
       "    </tr>\n",
       "  </tbody>\n",
       "</table>\n",
       "</div>"
      ],
      "text/plain": [
       "                                              BULLET  \\\n",
       "0  {'id': 'night-king96', 'username': 'Night-King...   \n",
       "1  {'id': 'friendlyfish', 'username': 'friendlyfi...   \n",
       "2  {'id': 'mutdpro', 'username': 'mutdpro', 'perf...   \n",
       "3  {'id': 'watneg', 'username': 'Watneg', 'perfs'...   \n",
       "4  {'id': 'arm-777777', 'username': 'ARM-777777',...   \n",
       "\n",
       "                                               BLITZ  \\\n",
       "0  {'id': 'feokl1995', 'username': 'Feokl1995', '...   \n",
       "1  {'id': 'friendlyfish', 'username': 'friendlyfi...   \n",
       "2  {'id': 'miawlet', 'username': 'Miawlet', 'perf...   \n",
       "3  {'id': 'wollongong2021', 'username': 'Wollongo...   \n",
       "4  {'id': 'rebeccaharris', 'username': 'RebeccaHa...   \n",
       "\n",
       "                                               RAPID  \\\n",
       "0  {'id': 'zhigalko_sergei', 'username': 'Zhigalk...   \n",
       "1  {'id': 'drvitman', 'username': 'Drvitman', 'pe...   \n",
       "2  {'id': 'durarbayli', 'username': 'Durarbayli',...   \n",
       "3  {'id': 'realdavidnavara', 'username': 'RealDav...   \n",
       "4  {'id': 'ragadingdong', 'username': 'Ragadingdo...   \n",
       "\n",
       "                                           CLASSICAL  \\\n",
       "0  {'id': 'loy_konstantin', 'username': 'Loy_Kons...   \n",
       "1  {'id': 'casabianka', 'username': 'Casabianka',...   \n",
       "2  {'id': 'dennis1989', 'username': 'Dennis1989',...   \n",
       "3  {'id': 'mw1966', 'username': 'MW1966', 'perfs'...   \n",
       "4  {'id': 'self_service', 'username': 'self_servi...   \n",
       "\n",
       "                                         ULTRABULLET  \n",
       "0  {'id': 'ohanyaneminchess', 'username': 'Ohanya...  \n",
       "1  {'id': 'think_fast_move_fast', 'username': 'Th...  \n",
       "2  {'id': 'blazinq', 'username': 'Blazinq', 'perf...  \n",
       "3  {'id': 'genialnost', 'username': 'genialnost',...  \n",
       "4  {'id': 'zhigalko_sergei', 'username': 'Zhigalk...  "
      ]
     },
     "execution_count": 9,
     "metadata": {},
     "output_type": "execute_result"
    }
   ],
   "source": [
    "df_top10.columns = df_top10.columns.str.upper()\n",
    "df_top10.head(5)"
   ]
  },
  {
   "cell_type": "code",
   "execution_count": 11,
   "metadata": {},
   "outputs": [],
   "source": [
    "# Extraemos los mejores jugadores de cada categoría\n",
    "best_players = []\n",
    "for i in list(df_top10.columns):\n",
    "    best_players.append(df_top10[i][0])"
   ]
  },
  {
   "cell_type": "code",
   "execution_count": 12,
   "metadata": {},
   "outputs": [],
   "source": [
    "# Hacemos un dataframe con los datos de los mejores jugadores de cada categoría\n",
    "df_top_palyers = pd.DataFrame(best_players, index=[list(df_top10.columns)])\n",
    "df_top_palyers.drop(['patron', 'online'], axis = 1, inplace = True)"
   ]
  },
  {
   "cell_type": "code",
   "execution_count": 13,
   "metadata": {},
   "outputs": [
    {
     "data": {
      "text/html": [
       "<div>\n",
       "<style scoped>\n",
       "    .dataframe tbody tr th:only-of-type {\n",
       "        vertical-align: middle;\n",
       "    }\n",
       "\n",
       "    .dataframe tbody tr th {\n",
       "        vertical-align: top;\n",
       "    }\n",
       "\n",
       "    .dataframe thead th {\n",
       "        text-align: right;\n",
       "    }\n",
       "</style>\n",
       "<table border=\"1\" class=\"dataframe\">\n",
       "  <thead>\n",
       "    <tr style=\"text-align: right;\">\n",
       "      <th></th>\n",
       "      <th>id</th>\n",
       "      <th>username</th>\n",
       "      <th>perfs</th>\n",
       "      <th>title</th>\n",
       "    </tr>\n",
       "  </thead>\n",
       "  <tbody>\n",
       "    <tr>\n",
       "      <th>BULLET</th>\n",
       "      <td>night-king96</td>\n",
       "      <td>Night-King96</td>\n",
       "      <td>{'bullet': {'rating': 3146, 'progress': 30}}</td>\n",
       "      <td>GM</td>\n",
       "    </tr>\n",
       "    <tr>\n",
       "      <th>BLITZ</th>\n",
       "      <td>feokl1995</td>\n",
       "      <td>Feokl1995</td>\n",
       "      <td>{'blitz': {'rating': 3042, 'progress': 2}}</td>\n",
       "      <td>GM</td>\n",
       "    </tr>\n",
       "    <tr>\n",
       "      <th>RAPID</th>\n",
       "      <td>zhigalko_sergei</td>\n",
       "      <td>Zhigalko_Sergei</td>\n",
       "      <td>{'rapid': {'rating': 3016, 'progress': 33}}</td>\n",
       "      <td>GM</td>\n",
       "    </tr>\n",
       "    <tr>\n",
       "      <th>CLASSICAL</th>\n",
       "      <td>loy_konstantin</td>\n",
       "      <td>Loy_Konstantin</td>\n",
       "      <td>{'classical': {'rating': 2518, 'progress': -4}}</td>\n",
       "      <td>NM</td>\n",
       "    </tr>\n",
       "    <tr>\n",
       "      <th>ULTRABULLET</th>\n",
       "      <td>ohanyaneminchess</td>\n",
       "      <td>OhanyanEminChess</td>\n",
       "      <td>{'ultraBullet': {'rating': 2646, 'progress': 7}}</td>\n",
       "      <td>IM</td>\n",
       "    </tr>\n",
       "  </tbody>\n",
       "</table>\n",
       "</div>"
      ],
      "text/plain": [
       "                           id          username  \\\n",
       "BULLET           night-king96      Night-King96   \n",
       "BLITZ               feokl1995         Feokl1995   \n",
       "RAPID         zhigalko_sergei   Zhigalko_Sergei   \n",
       "CLASSICAL      loy_konstantin    Loy_Konstantin   \n",
       "ULTRABULLET  ohanyaneminchess  OhanyanEminChess   \n",
       "\n",
       "                                                        perfs title  \n",
       "BULLET           {'bullet': {'rating': 3146, 'progress': 30}}    GM  \n",
       "BLITZ              {'blitz': {'rating': 3042, 'progress': 2}}    GM  \n",
       "RAPID             {'rapid': {'rating': 3016, 'progress': 33}}    GM  \n",
       "CLASSICAL     {'classical': {'rating': 2518, 'progress': -4}}    NM  \n",
       "ULTRABULLET  {'ultraBullet': {'rating': 2646, 'progress': 7}}    IM  "
      ]
     },
     "execution_count": 13,
     "metadata": {},
     "output_type": "execute_result"
    }
   ],
   "source": [
    "df_top_palyers\n"
   ]
  },
  {
   "cell_type": "code",
   "execution_count": 14,
   "metadata": {},
   "outputs": [],
   "source": [
    "# De la columna perfs solo nos interesa el rating, así que extraemos ese dato y eliminamos la columna\n",
    "rat = []\n",
    "for i in range(5):\n",
    "    rat.append(df_top_palyers['perfs'][i][list(df_top_palyers['perfs'][i])[0]]['rating'])\n",
    "\n",
    "df_top_palyers['rating']= rat\n",
    "df_top_palyers.drop(['perfs'], axis = 1, inplace = True)\n"
   ]
  },
  {
   "cell_type": "code",
   "execution_count": 15,
   "metadata": {},
   "outputs": [
    {
     "data": {
      "text/html": [
       "<div>\n",
       "<style scoped>\n",
       "    .dataframe tbody tr th:only-of-type {\n",
       "        vertical-align: middle;\n",
       "    }\n",
       "\n",
       "    .dataframe tbody tr th {\n",
       "        vertical-align: top;\n",
       "    }\n",
       "\n",
       "    .dataframe thead th {\n",
       "        text-align: right;\n",
       "    }\n",
       "</style>\n",
       "<table border=\"1\" class=\"dataframe\">\n",
       "  <thead>\n",
       "    <tr style=\"text-align: right;\">\n",
       "      <th></th>\n",
       "      <th>id</th>\n",
       "      <th>username</th>\n",
       "      <th>title</th>\n",
       "      <th>rating</th>\n",
       "    </tr>\n",
       "  </thead>\n",
       "  <tbody>\n",
       "    <tr>\n",
       "      <th>BULLET</th>\n",
       "      <td>night-king96</td>\n",
       "      <td>Night-King96</td>\n",
       "      <td>GM</td>\n",
       "      <td>3146</td>\n",
       "    </tr>\n",
       "    <tr>\n",
       "      <th>BLITZ</th>\n",
       "      <td>feokl1995</td>\n",
       "      <td>Feokl1995</td>\n",
       "      <td>GM</td>\n",
       "      <td>3042</td>\n",
       "    </tr>\n",
       "    <tr>\n",
       "      <th>RAPID</th>\n",
       "      <td>zhigalko_sergei</td>\n",
       "      <td>Zhigalko_Sergei</td>\n",
       "      <td>GM</td>\n",
       "      <td>3016</td>\n",
       "    </tr>\n",
       "    <tr>\n",
       "      <th>CLASSICAL</th>\n",
       "      <td>loy_konstantin</td>\n",
       "      <td>Loy_Konstantin</td>\n",
       "      <td>NM</td>\n",
       "      <td>2518</td>\n",
       "    </tr>\n",
       "    <tr>\n",
       "      <th>ULTRABULLET</th>\n",
       "      <td>ohanyaneminchess</td>\n",
       "      <td>OhanyanEminChess</td>\n",
       "      <td>IM</td>\n",
       "      <td>2646</td>\n",
       "    </tr>\n",
       "  </tbody>\n",
       "</table>\n",
       "</div>"
      ],
      "text/plain": [
       "                           id          username title  rating\n",
       "BULLET           night-king96      Night-King96    GM    3146\n",
       "BLITZ               feokl1995         Feokl1995    GM    3042\n",
       "RAPID         zhigalko_sergei   Zhigalko_Sergei    GM    3016\n",
       "CLASSICAL      loy_konstantin    Loy_Konstantin    NM    2518\n",
       "ULTRABULLET  ohanyaneminchess  OhanyanEminChess    IM    2646"
      ]
     },
     "execution_count": 15,
     "metadata": {},
     "output_type": "execute_result"
    }
   ],
   "source": [
    "# Ya tenemos una tabla con los datos que nos interesan de los mejores jugadores\n",
    "df_top_palyers"
   ]
  },
  {
   "cell_type": "markdown",
   "metadata": {},
   "source": [
    "# 2. Analizar la evolución de cada campeón"
   ]
  },
  {
   "cell_type": "markdown",
   "metadata": {},
   "source": [
    "Ahora que tenemos el nombre y el id de los jugadores que nos interesan, podemos analizar su evolución desde que se dieron de alta en lichess"
   ]
  },
  {
   "cell_type": "code",
   "execution_count": 81,
   "metadata": {},
   "outputs": [],
   "source": [
    "# Descargamos todas las partidas de Night-King96\n",
    "games_night = client.games.export_by_player('Night-King96')"
   ]
  },
  {
   "cell_type": "code",
   "execution_count": 82,
   "metadata": {},
   "outputs": [],
   "source": [
    "# Convertimos las partidas en un data frame\n",
    "df_night = pd.DataFrame(games_night)"
   ]
  },
  {
   "cell_type": "code",
   "execution_count": 83,
   "metadata": {},
   "outputs": [
    {
     "data": {
      "text/plain": [
       "array(['bullet', 'threeCheck', 'ultraBullet', 'kingOfTheHill', 'blitz',\n",
       "       'chess960', 'fromPosition', 'horde', 'correspondence', 'rapid'],\n",
       "      dtype=object)"
      ]
     },
     "execution_count": 83,
     "metadata": {},
     "output_type": "execute_result"
    }
   ],
   "source": [
    "# Comprobamos que hay partidas de modalidades que no nos interesan\n",
    "df_night.perf.unique()"
   ]
  },
  {
   "cell_type": "code",
   "execution_count": null,
   "metadata": {},
   "outputs": [],
   "source": [
    "fuera = ['threeCheck', 'kingOfTheHill',\n",
    "       'chess960', 'fromPosition', 'horde', 'correspondence']\n",
    "\n",
    "for i in fuera:\n",
    "    df_night.drop(df_night[df_night['perf'] == i].index, inplace=True)"
   ]
  },
  {
   "cell_type": "code",
   "execution_count": 94,
   "metadata": {},
   "outputs": [
    {
     "data": {
      "text/plain": [
       "array(['bullet', 'ultraBullet', 'blitz', 'rapid'], dtype=object)"
      ]
     },
     "execution_count": 94,
     "metadata": {},
     "output_type": "execute_result"
    }
   ],
   "source": [
    "# Comprobamos que ya solo tenemos las partidas que nos interesan\n",
    "df_night.perf.unique()"
   ]
  },
  {
   "cell_type": "code",
   "execution_count": 104,
   "metadata": {},
   "outputs": [],
   "source": [
    "# Guardamos el data frame para no tener que volver a generarlo\n",
    "df_night.to_pickle('night_games.pkl')"
   ]
  },
  {
   "cell_type": "code",
   "execution_count": 12,
   "metadata": {},
   "outputs": [],
   "source": [
    "df_night = pd.read_pickle('night_games.pkl')"
   ]
  },
  {
   "cell_type": "code",
   "execution_count": 13,
   "metadata": {},
   "outputs": [],
   "source": [
    "# Organizamos las partidas por fechas para luego ver su evolución en el rating\n",
    "df_night.sort_values(by='lastMoveAt', inplace=True)"
   ]
  },
  {
   "cell_type": "code",
   "execution_count": 39,
   "metadata": {},
   "outputs": [
    {
     "data": {
      "text/html": [
       "<div>\n",
       "<style scoped>\n",
       "    .dataframe tbody tr th:only-of-type {\n",
       "        vertical-align: middle;\n",
       "    }\n",
       "\n",
       "    .dataframe tbody tr th {\n",
       "        vertical-align: top;\n",
       "    }\n",
       "\n",
       "    .dataframe thead th {\n",
       "        text-align: right;\n",
       "    }\n",
       "</style>\n",
       "<table border=\"1\" class=\"dataframe\">\n",
       "  <thead>\n",
       "    <tr style=\"text-align: right;\">\n",
       "      <th></th>\n",
       "      <th>id</th>\n",
       "      <th>rated</th>\n",
       "      <th>variant</th>\n",
       "      <th>speed</th>\n",
       "      <th>perf</th>\n",
       "      <th>createdAt</th>\n",
       "      <th>lastMoveAt</th>\n",
       "      <th>status</th>\n",
       "      <th>players</th>\n",
       "      <th>winner</th>\n",
       "      <th>moves</th>\n",
       "      <th>clock</th>\n",
       "      <th>tournament</th>\n",
       "      <th>initialFen</th>\n",
       "      <th>swiss</th>\n",
       "    </tr>\n",
       "  </thead>\n",
       "  <tbody>\n",
       "    <tr>\n",
       "      <th>12891</th>\n",
       "      <td>3vAEfxK5</td>\n",
       "      <td>True</td>\n",
       "      <td>standard</td>\n",
       "      <td>bullet</td>\n",
       "      <td>bullet</td>\n",
       "      <td>2018-02-20 23:44:53.189000+00:00</td>\n",
       "      <td>2018-02-20 23:46:31.176000+00:00</td>\n",
       "      <td>outoftime</td>\n",
       "      <td>{'white': {'user': {'name': 'Night-King96', 't...</td>\n",
       "      <td>white</td>\n",
       "      <td>d4 g6 Nc3 Bg7 e4 d6 Be3 Nf6 f3 O-O Qd2 e5 dxe5...</td>\n",
       "      <td>{'initial': 60, 'increment': 0, 'totalTime': 60}</td>\n",
       "      <td>NaN</td>\n",
       "      <td>NaN</td>\n",
       "      <td>NaN</td>\n",
       "    </tr>\n",
       "  </tbody>\n",
       "</table>\n",
       "</div>"
      ],
      "text/plain": [
       "             id  rated   variant   speed    perf  \\\n",
       "12891  3vAEfxK5   True  standard  bullet  bullet   \n",
       "\n",
       "                             createdAt                       lastMoveAt  \\\n",
       "12891 2018-02-20 23:44:53.189000+00:00 2018-02-20 23:46:31.176000+00:00   \n",
       "\n",
       "          status                                            players winner  \\\n",
       "12891  outoftime  {'white': {'user': {'name': 'Night-King96', 't...  white   \n",
       "\n",
       "                                                   moves  \\\n",
       "12891  d4 g6 Nc3 Bg7 e4 d6 Be3 Nf6 f3 O-O Qd2 e5 dxe5...   \n",
       "\n",
       "                                                  clock tournament initialFen  \\\n",
       "12891  {'initial': 60, 'increment': 0, 'totalTime': 60}        NaN        NaN   \n",
       "\n",
       "      swiss  \n",
       "12891   NaN  "
      ]
     },
     "execution_count": 39,
     "metadata": {},
     "output_type": "execute_result"
    }
   ],
   "source": [
    "df_night.head(1)"
   ]
  },
  {
   "cell_type": "markdown",
   "metadata": {},
   "source": [
    "Ahora vamos a crear una función que nos saque el ELO y la fecha para cada partida.\n",
    "\n",
    "♟️ELO es la puntuación con la que se valora a los jugadores de ajedrez.\n",
    "\n",
    "♟️En estos data frames el ELO se llama 'rating'"
   ]
  },
  {
   "cell_type": "code",
   "execution_count": 14,
   "metadata": {},
   "outputs": [],
   "source": [
    "def evol_elo(df, name):\n",
    "    '''\n",
    "    Función para extraer el elo y la fecha de las partidas.\n",
    "    Es importante tener en cuenta que no todas las partidas\n",
    "    que se juegan reciben rating, también las hay amistosas,\n",
    "    así que es conveniente aplicar programación defensiva.\n",
    "    Arg:\n",
    "        df (data frame): data frame del que vamos a extraer los datos\n",
    "        name (string): nombre del jugador del que vamos a extraer los datos\n",
    "    Return:\n",
    "        Devuelve el elo y la fecha por cada partida\n",
    "    '''\n",
    "    rating = []\n",
    "    date = []\n",
    "    for i in range(len(df['id'])):\n",
    "        try:\n",
    "            if (df['players'][i]['white']['user']['name'] == name):\n",
    "                rating.append(df['players'][i]['white']['rating'])\n",
    "                date.append(df['lastMoveAt'][i])\n",
    "            elif (df_night_bullet['players'][i]['black']['user']['name'] == name):\n",
    "                rating.append(df['players'][i]['black']['rating'])\n",
    "                date.append(df['lastMoveAt'][i])\n",
    "        except:\n",
    "            pass\n",
    "    return rating, date"
   ]
  },
  {
   "cell_type": "code",
   "execution_count": null,
   "metadata": {},
   "outputs": [],
   "source": [
    "# Vamos a aislar las partidas bullet\n",
    "df_night_bullet = df_night\n",
    "\n",
    "fuera = ['ultraBullet', 'blitz', 'rapid']\n",
    "\n",
    "for i in fuera:\n",
    "    df_night_bullet.drop(df_night_bullet[df_night_bullet['perf'] == i].index, inplace=True)"
   ]
  },
  {
   "cell_type": "code",
   "execution_count": 32,
   "metadata": {},
   "outputs": [],
   "source": [
    "# Y lo guardamos\n",
    "df_night_bullet.to_pickle('night_games_bullet.pkl')"
   ]
  },
  {
   "cell_type": "code",
   "execution_count": 15,
   "metadata": {},
   "outputs": [],
   "source": [
    "df_night_bullet = pd.read_pickle('night_games_bullet.pkl')"
   ]
  },
  {
   "cell_type": "code",
   "execution_count": null,
   "metadata": {},
   "outputs": [],
   "source": [
    "# Vamos a aislar las partidas ultraBullet\n",
    "df_night_ultraBullet = df_night\n",
    "\n",
    "fuera = ['rapid', 'blitz', 'rapid']\n",
    "\n",
    "for i in fuera:\n",
    "    df_night_ultraBullet.drop(df_night_ultraBullet[df_night_ultraBullet['perf'] == i].index, inplace=True)"
   ]
  },
  {
   "cell_type": "code",
   "execution_count": 130,
   "metadata": {},
   "outputs": [],
   "source": [
    "# Y lo guardamos\n",
    "df_night_ultraBullet.to_pickle('night_games_ultraBullet.pkl')"
   ]
  },
  {
   "cell_type": "code",
   "execution_count": 16,
   "metadata": {},
   "outputs": [],
   "source": [
    "df_night_ultraBullet = pd.read_pickle('night_games_ultraBullet.pkl')"
   ]
  },
  {
   "cell_type": "code",
   "execution_count": null,
   "metadata": {},
   "outputs": [],
   "source": [
    "# Vamos a aislar las partidas blitz\n",
    "df_night_blitz = df_night\n",
    "\n",
    "fuera = ['rapid', 'bullet', 'ultraBullet']\n",
    "\n",
    "for i in fuera:\n",
    "    df_night_blitz.drop(df_night_blitz[df_night_blitz['perf'] == i].index, inplace=True)"
   ]
  },
  {
   "cell_type": "code",
   "execution_count": 88,
   "metadata": {},
   "outputs": [],
   "source": [
    "# Y lo guardamos\n",
    "df_night_blitz.to_pickle('night_games_blitz.pkl')"
   ]
  },
  {
   "cell_type": "code",
   "execution_count": 17,
   "metadata": {},
   "outputs": [],
   "source": [
    "df_night_blitz = pd.read_pickle('night_games_blitz.pkl')"
   ]
  },
  {
   "cell_type": "code",
   "execution_count": null,
   "metadata": {},
   "outputs": [],
   "source": [
    "# Vamos a aislar las partidas rapid\n",
    "df_night_rapid = df_night\n",
    "\n",
    "fuera = ['blitz', 'bullet', 'ultraBullet']\n",
    "\n",
    "for i in fuera:\n",
    "    df_night_blitz.drop(df_night_blitz[df_night_blitz['perf'] == i].index, inplace=True)"
   ]
  },
  {
   "cell_type": "code",
   "execution_count": 96,
   "metadata": {},
   "outputs": [],
   "source": [
    "# Y lo guardamos\n",
    "df_night_rapid.to_pickle('night_games_rapid.pkl')"
   ]
  },
  {
   "cell_type": "code",
   "execution_count": 18,
   "metadata": {},
   "outputs": [],
   "source": [
    "df_night_rapid = pd.read_pickle('night_games_rapid.pkl')"
   ]
  },
  {
   "cell_type": "code",
   "execution_count": 19,
   "metadata": {},
   "outputs": [],
   "source": [
    "# Aplicamos la funcion elo_evol para extraer lo valores en partidas bullet\n",
    "date_night_bullet = evol_elo(df_night_bullet, 'Night-King96')[1]\n",
    "rating_night_bullet = evol_elo(df_night_bullet, 'Night-King96')[0]"
   ]
  },
  {
   "cell_type": "code",
   "execution_count": 20,
   "metadata": {},
   "outputs": [],
   "source": [
    "# Aplicamos la funcion elo_evol para extraer lo valores en partidas ultraBullet\n",
    "date_night_ultraBullet = evol_elo(df_night_ultraBullet, 'Night-King96')[1]\n",
    "rating_night_ultraBullet = evol_elo(df_night_ultraBullet, 'Night-King96')[0]"
   ]
  },
  {
   "cell_type": "code",
   "execution_count": 21,
   "metadata": {},
   "outputs": [],
   "source": [
    "# Aplicamos la funcion elo_evol para extraer lo valores en partidas blitz\n",
    "date_night_blitz = evol_elo(df_night_blitz, 'Night-King96')[1]\n",
    "rating_night_blitz = evol_elo(df_night_blitz, 'Night-King96')[0]"
   ]
  },
  {
   "cell_type": "code",
   "execution_count": 22,
   "metadata": {},
   "outputs": [],
   "source": [
    "# Aplicamos la funcion elo_evol para extraer lo valores en partidas rapid\n",
    "date_night_rapid = evol_elo(df_night_rapid, 'Night-King96')[1]\n",
    "rating_night_rapid = evol_elo(df_night_rapid, 'Night-King96')[0]"
   ]
  },
  {
   "cell_type": "markdown",
   "metadata": {},
   "source": [
    "Y ahora nos vamos a hacer una tabla guapa para ver cómo ha evolucionado el jugador en cada una de las disciplinas desde que se dio de alta en el servidor"
   ]
  },
  {
   "cell_type": "code",
   "execution_count": 103,
   "metadata": {},
   "outputs": [
    {
     "data": {
      "image/png": "[encoded data removed]",
      "text/plain": [
       "<Figure size 1080x432 with 1 Axes>"
      ]
     },
     "metadata": {
      "needs_background": "light"
     },
     "output_type": "display_data"
    }
   ],
   "source": [
    "plt.plot(date_night_bullet, rating_night_bullet, label = 'bullet')\n",
    "plt.plot(date_night_ultraBullet, rating_night_ultraBullet, label = 'ultraBullet')\n",
    "plt.plot(date_night_blitz, rating_night_blitz, label = 'blitz')\n",
    "plt.plot(date_night_rapid, rating_night_rapid, label = 'rapid')\n",
    "plt.xlabel(\"Fecha\")\n",
    "plt.ylabel(\"ELO\")\n",
    "plt.xticks(rotation=45)\n",
    "\n",
    "plt.show()"
   ]
  },
  {
   "cell_type": "markdown",
   "metadata": {},
   "source": [
    "Podemos comprobar que prácticamente sólo ha jugado en la categoría en la que ocupa el primer puesto.\n",
    "En ultraBullet y blitz a penas empezó a jugar con rating hace unos meses y en rapid no ha jugado ninguna partida con puntuación.\n",
    "También queda constatado que ha mejorado su nivel desde que comenzó a competir en el servidor."
   ]
  },
  {
   "cell_type": "markdown",
   "metadata": {},
   "source": [
    "Ahora vamos a sacar la gráfica de los otros campeones, pero sólo en la modalidad en la que son los mejores, para comprobar si todos han tenido una evolución en su juego similar"
   ]
  },
  {
   "cell_type": "code",
   "execution_count": 8,
   "metadata": {},
   "outputs": [],
   "source": [
    "# Descargamos todas las partidas de Feokl1995\n",
    "games_feok = client.games.export_by_player('Feokl1995')"
   ]
  },
  {
   "cell_type": "code",
   "execution_count": 9,
   "metadata": {},
   "outputs": [],
   "source": [
    "# Convertimos las partidas en un data frame\n",
    "df_feok = pd.DataFrame(games_feok)"
   ]
  },
  {
   "cell_type": "code",
   "execution_count": 10,
   "metadata": {},
   "outputs": [
    {
     "data": {
      "text/plain": [
       "array(['blitz', 'bullet', 'fromPosition', 'chess960', 'rapid',\n",
       "       'classical'], dtype=object)"
      ]
     },
     "execution_count": 10,
     "metadata": {},
     "output_type": "execute_result"
    }
   ],
   "source": [
    "# Comprobamos que hay partidas de modalidades que no nos interesan\n",
    "df_feok.perf.unique()"
   ]
  },
  {
   "cell_type": "code",
   "execution_count": 11,
   "metadata": {},
   "outputs": [],
   "source": [
    "# Guardamos el data frame para no tener que volver a generarlo\n",
    "df_feok.to_pickle('feok_games.pkl')"
   ]
  },
  {
   "cell_type": "code",
   "execution_count": null,
   "metadata": {},
   "outputs": [],
   "source": [
    "df_feok_biltz = df_feok\n",
    "\n",
    "fuera = ['bullet', 'fromPosition', 'chess960', 'rapid',\n",
    "       'classical']\n",
    "\n",
    "for i in fuera:\n",
    "    df_feok_biltz.drop(df_feok_biltz[df_feok_biltz['perf'] == i].index, inplace=True)"
   ]
  },
  {
   "cell_type": "code",
   "execution_count": 15,
   "metadata": {},
   "outputs": [],
   "source": [
    "# Eliminamos las partidas jugadas en modalidades que no nos interesan para quedarno solo con blitz\n",
    "df_feok_biltz = df_feok.drop(df_feok[(df_feok['perf'] == 'bullet') & \n",
    "                        (df_feok['perf'] == 'rapid') &\n",
    "                        (df_feok['perf'] == 'chess960') &\n",
    "                        (df_feok['perf'] == 'fromPosition') &\n",
    "                        (df_feok['perf'] == 'classical')].index)"
   ]
  },
  {
   "cell_type": "code",
   "execution_count": 31,
   "metadata": {},
   "outputs": [
    {
     "data": {
      "text/plain": [
       "array(['blitz'], dtype=object)"
      ]
     },
     "execution_count": 31,
     "metadata": {},
     "output_type": "execute_result"
    }
   ],
   "source": [
    "df_feok_biltz.perf.unique()"
   ]
  },
  {
   "cell_type": "code",
   "execution_count": 36,
   "metadata": {},
   "outputs": [],
   "source": [
    "# Organizamos las partidas por fechas para luego ver su evolución en el rating\n",
    "df_feok_biltz.sort_values(by='lastMoveAt', inplace=True)"
   ]
  },
  {
   "cell_type": "code",
   "execution_count": 35,
   "metadata": {},
   "outputs": [],
   "source": [
    "# Y lo guardamos\n",
    "df_feok_biltz.to_pickle('feok_biltz_games.pkl')"
   ]
  },
  {
   "cell_type": "code",
   "execution_count": 23,
   "metadata": {},
   "outputs": [],
   "source": [
    "df_feok_biltz = pd.read_pickle('feok_biltz_games.pkl')"
   ]
  },
  {
   "cell_type": "code",
   "execution_count": 24,
   "metadata": {},
   "outputs": [],
   "source": [
    "# Aplicamos la funcion elo_evol para extraer lo valores en partidas blitz\n",
    "date_feok_blitz = evol_elo(df_feok_biltz, 'Feokl1995')[1]\n",
    "rating_feok_blitz = evol_elo(df_feok_biltz, 'Feokl1995')[0]"
   ]
  },
  {
   "cell_type": "code",
   "execution_count": 100,
   "metadata": {},
   "outputs": [],
   "source": [
    "# Descargamos todas las partidas de Zhigalko_Sergei\n",
    "games_zhigalko = client.games.export_by_player('Zhigalko_Sergei')"
   ]
  },
  {
   "cell_type": "code",
   "execution_count": 101,
   "metadata": {},
   "outputs": [],
   "source": [
    "# Convertimos las partidas en un data frame\n",
    "df_zhigalko = pd.DataFrame(games_zhigalko)"
   ]
  },
  {
   "cell_type": "code",
   "execution_count": 102,
   "metadata": {},
   "outputs": [
    {
     "data": {
      "text/plain": [
       "array(['blitz', 'chess960', 'kingOfTheHill', 'threeCheck', 'bullet',\n",
       "       'rapid', 'ultraBullet', 'crazyhouse', 'fromPosition', 'classical',\n",
       "       'racingKings'], dtype=object)"
      ]
     },
     "execution_count": 102,
     "metadata": {},
     "output_type": "execute_result"
    }
   ],
   "source": [
    "# Comprobamos que hay partidas de modalidades que no nos interesan\n",
    "df_zhigalko.perf.unique()"
   ]
  },
  {
   "cell_type": "code",
   "execution_count": 103,
   "metadata": {},
   "outputs": [],
   "source": [
    "# Guardamos el data frame para no tener que volver a generarlo\n",
    "df_zhigalko.to_pickle('zhigalko_games.pkl')"
   ]
  },
  {
   "cell_type": "code",
   "execution_count": null,
   "metadata": {},
   "outputs": [],
   "source": [
    "df_zhigalko_rapid = df_zhigalko\n",
    "\n",
    "fuera = ['blitz', 'chess960', 'kingOfTheHill', 'threeCheck', 'bullet',\n",
    "         'ultraBullet', 'crazyhouse', 'fromPosition', 'classical',\n",
    "         'racingKings']\n",
    "\n",
    "for i in fuera:\n",
    "    df_zhigalko_rapid.drop(df_zhigalko_rapid[df_zhigalko_rapid['perf'] == i].index, inplace=True)"
   ]
  },
  {
   "cell_type": "code",
   "execution_count": 159,
   "metadata": {},
   "outputs": [
    {
     "data": {
      "text/plain": [
       "array(['rapid'], dtype=object)"
      ]
     },
     "execution_count": 159,
     "metadata": {},
     "output_type": "execute_result"
    }
   ],
   "source": [
    "df_zhigalko_rapid.perf.unique()"
   ]
  },
  {
   "cell_type": "code",
   "execution_count": 160,
   "metadata": {},
   "outputs": [],
   "source": [
    "# Organizamos las partidas por fechas para luego ver su evolución en el rating\n",
    "df_zhigalko_rapid.sort_values(by='lastMoveAt', inplace=True)"
   ]
  },
  {
   "cell_type": "code",
   "execution_count": 161,
   "metadata": {},
   "outputs": [],
   "source": [
    "# Y lo guardamos\n",
    "df_zhigalko_rapid.to_pickle('zhigalko_rapid_games.pkl')"
   ]
  },
  {
   "cell_type": "code",
   "execution_count": 25,
   "metadata": {},
   "outputs": [],
   "source": [
    "df_zhigalko_rapid = pd.read_pickle('zhigalko_rapid_games.pkl')"
   ]
  },
  {
   "cell_type": "code",
   "execution_count": 26,
   "metadata": {},
   "outputs": [],
   "source": [
    "# Aplicamos la funcion elo_evol para extraer lo valores en partidas rapid\n",
    "date_zhigalko_rapid = evol_elo(df_zhigalko_rapid, 'Zhigalko_Sergei')[1]\n",
    "rating_zhigalko_rapid = evol_elo(df_zhigalko_rapid, 'Zhigalko_Sergei')[0]"
   ]
  },
  {
   "cell_type": "code",
   "execution_count": 106,
   "metadata": {},
   "outputs": [],
   "source": [
    "# Descargamos todas las partidas de Loy_Konstantin\n",
    "games_loy = client.games.export_by_player('Loy_Konstantin')"
   ]
  },
  {
   "cell_type": "code",
   "execution_count": 107,
   "metadata": {},
   "outputs": [],
   "source": [
    "# Convertimos las partidas en un data frame\n",
    "df_loy = pd.DataFrame(games_loy)"
   ]
  },
  {
   "cell_type": "code",
   "execution_count": 111,
   "metadata": {},
   "outputs": [
    {
     "data": {
      "text/plain": [
       "array(['classical', 'blitz', 'fromPosition', 'rapid', 'bullet',\n",
       "       'correspondence', 'chess960', 'ultraBullet', 'crazyhouse',\n",
       "       'antichess', 'atomic', 'racingKings', 'kingOfTheHill', 'horde',\n",
       "       'threeCheck'], dtype=object)"
      ]
     },
     "execution_count": 111,
     "metadata": {},
     "output_type": "execute_result"
    }
   ],
   "source": [
    "# Comprobamos que hay partidas de modalidades que no nos interesan\n",
    "df_loy.perf.unique()"
   ]
  },
  {
   "cell_type": "code",
   "execution_count": 108,
   "metadata": {},
   "outputs": [],
   "source": [
    "# Guardamos el data frame para no tener que volver a generarlo\n",
    "df_loy.to_pickle('loy_games.pkl')"
   ]
  },
  {
   "cell_type": "code",
   "execution_count": 28,
   "metadata": {},
   "outputs": [],
   "source": [
    "df_loy = pd.read_pickle('loy_games.pkl')"
   ]
  },
  {
   "cell_type": "code",
   "execution_count": null,
   "metadata": {},
   "outputs": [],
   "source": [
    "# Eliminamos las partidas jugadas en modalidades que no nos interesan para quedarno solo con rapid\n",
    "df_loy_classical = df_loy\n",
    "\n",
    "fuera = ['blitz', 'fromPosition', 'rapid', 'bullet',\n",
    "       'correspondence', 'chess960', 'ultraBullet', 'crazyhouse',\n",
    "       'antichess', 'atomic', 'racingKings', 'kingOfTheHill', 'horde',\n",
    "       'threeCheck']\n",
    "\n",
    "for i in fuera:\n",
    "    df_loy_classical.drop(df_loy_classical[df_loy_classical['perf'] == i].index, inplace=True)"
   ]
  },
  {
   "cell_type": "code",
   "execution_count": 58,
   "metadata": {},
   "outputs": [
    {
     "data": {
      "text/plain": [
       "array(['classical'], dtype=object)"
      ]
     },
     "execution_count": 58,
     "metadata": {},
     "output_type": "execute_result"
    }
   ],
   "source": [
    "df_loy_classical.perf.unique()"
   ]
  },
  {
   "cell_type": "code",
   "execution_count": 59,
   "metadata": {},
   "outputs": [],
   "source": [
    "# Organizamos las partidas por fechas para luego ver su evolución en el rating\n",
    "df_loy_classical.sort_values(by='lastMoveAt', inplace=True)"
   ]
  },
  {
   "cell_type": "code",
   "execution_count": 60,
   "metadata": {},
   "outputs": [],
   "source": [
    "# Y lo guardamos\n",
    "df_loy_classical.to_pickle('loy_classical_games.pkl')"
   ]
  },
  {
   "cell_type": "code",
   "execution_count": 61,
   "metadata": {},
   "outputs": [],
   "source": [
    "# Aplicamos la funcion elo_evol para extraer lo valores en partidas rapid\n",
    "date_loy_classical = evol_elo(df_loy_classical, 'Loy_Konstantin')[1]\n",
    "rating_loy_classical = evol_elo(df_loy_classical, 'Loy_Konstantin')[0]"
   ]
  },
  {
   "cell_type": "code",
   "execution_count": 124,
   "metadata": {},
   "outputs": [],
   "source": [
    "# Descargamos todas las partidas de OhanyanEminChess\n",
    "games_ohan = client.games.export_by_player('OhanyanEminChess')"
   ]
  },
  {
   "cell_type": "code",
   "execution_count": 125,
   "metadata": {},
   "outputs": [],
   "source": [
    "# Convertimos las partidas en un data frame\n",
    "df_ohan = pd.DataFrame(games_ohan)"
   ]
  },
  {
   "cell_type": "code",
   "execution_count": 126,
   "metadata": {},
   "outputs": [],
   "source": [
    "# Guardamos el data frame para no tener que volver a generarlo\n",
    "df_ohan.to_pickle('ohan_games.pkl')"
   ]
  },
  {
   "cell_type": "code",
   "execution_count": 66,
   "metadata": {},
   "outputs": [],
   "source": [
    "df_ohan = pd.read_pickle('ohan_games.pkl')"
   ]
  },
  {
   "cell_type": "code",
   "execution_count": 67,
   "metadata": {},
   "outputs": [
    {
     "data": {
      "text/plain": [
       "array(['blitz', 'classical', 'bullet', 'chess960', 'racingKings', 'horde',\n",
       "       'kingOfTheHill', 'threeCheck', 'ultraBullet', 'antichess',\n",
       "       'crazyhouse', 'atomic', 'rapid', 'correspondence', 'fromPosition'],\n",
       "      dtype=object)"
      ]
     },
     "execution_count": 67,
     "metadata": {},
     "output_type": "execute_result"
    }
   ],
   "source": [
    "# Comprobamos que hay partidas de modalidades que no nos interesan\n",
    "df_ohan.perf.unique()"
   ]
  },
  {
   "cell_type": "code",
   "execution_count": 69,
   "metadata": {},
   "outputs": [],
   "source": [
    "# Eliminamos las partidas jugadas en modalidades que no nos interesan para quedarno solo con rapid\n",
    "df_ohan_ultraBullet = df_ohan\n",
    "\n",
    "fuera = ['blitz', 'classical', 'bullet', 'chess960', 'racingKings', 'horde', 'kingOfTheHill'\n",
    "        'threeCheck', 'antichess', 'crazyhouse', 'atomic', 'rapid', 'correspondence', 'fromPosition']\n",
    "\n",
    "for i in fuera:\n",
    "    df_ohan_ultraBullet.drop(df_ohan_ultraBullet[df_ohan_ultraBullet['perf'] == i].index, inplace=True)"
   ]
  },
  {
   "cell_type": "code",
   "execution_count": 84,
   "metadata": {},
   "outputs": [
    {
     "data": {
      "text/plain": [
       "array(['ultraBullet'], dtype=object)"
      ]
     },
     "execution_count": 84,
     "metadata": {},
     "output_type": "execute_result"
    }
   ],
   "source": [
    "df_ohan_ultraBullet.perf.unique()"
   ]
  },
  {
   "cell_type": "code",
   "execution_count": 85,
   "metadata": {},
   "outputs": [],
   "source": [
    "# Organizamos las partidas por fechas para luego ver su evolución en el rating\n",
    "df_ohan_ultraBullet.sort_values(by='lastMoveAt', inplace=True)\n"
   ]
  },
  {
   "cell_type": "code",
   "execution_count": 86,
   "metadata": {},
   "outputs": [],
   "source": [
    "# Y lo guardamos\n",
    "df_ohan_ultraBullet.to_pickle('ohan_ultraBullet_games.pkl')"
   ]
  },
  {
   "cell_type": "code",
   "execution_count": null,
   "metadata": {},
   "outputs": [],
   "source": [
    "df_ohan_ultraBullet = pd.read_pickle('ohan_ultraBullet_games.pkl')"
   ]
  },
  {
   "cell_type": "code",
   "execution_count": 87,
   "metadata": {},
   "outputs": [],
   "source": [
    "# Aplicamos la funcion elo_evol para extraer lo valores en partidas rapid\n",
    "date_ohan_ultraBullet = evol_elo(df_ohan_ultraBullet, 'OhanyanEminChess')[1]\n",
    "rating_ohan_ultraBullet = evol_elo(df_ohan_ultraBullet, 'OhanyanEminChess')[0]"
   ]
  },
  {
   "cell_type": "code",
   "execution_count": 89,
   "metadata": {},
   "outputs": [
    {
     "data": {
      "image/png": "[encoded data removed]",
      "text/plain": [
       "<Figure size 1080x432 with 1 Axes>"
      ]
     },
     "metadata": {
      "needs_background": "light"
     },
     "output_type": "display_data"
    }
   ],
   "source": [
    "plt.plot(date_night_bullet, rating_night_bullet, label = 'bullet')\n",
    "plt.plot(date_feok_blitz, rating_feok_blitz, label = 'blitz')\n",
    "plt.plot(date_zhigalko_rapid, rating_zhigalko_rapid, label = 'rapid')\n",
    "plt.plot(date_loy_classical, rating_loy_classical, label = 'classical')\n",
    "plt.plot(date_ohan_ultraBullet, rating_ohan_ultraBullet, label = 'ultraBullet')\n",
    "plt.xlabel(\"Fecha\")\n",
    "plt.ylabel(\"ELO\")\n",
    "plt.xticks(rotation=45)\n",
    "\n",
    "plt.show()"
   ]
  },
  {
   "cell_type": "markdown",
   "metadata": {},
   "source": [
    "# Conclusiones"
   ]
  },
  {
   "cell_type": "markdown",
   "metadata": {},
   "source": [
    "Aunque los cinco jugadores poseen título de la FIDE (International Chess Federation), siendo cuatro de ellos Grandes Maestros y el otro Maestro Nacional, tan sólo Feokl1995 muestra una evolución propia de un entrenamiento disciplinado.\n",
    "Los otros cuatro presentan un desarrollo muy irregular, con muchos altibajos, impropio de un entrenamiento constante. Feokl1995 en cambio tiene un crecimiento escalonado: subidas de nivel que se mantienen durante unos 6 meses aproximadamente, durante los cuales parece seguir su estudio permitiéndole el siguiente salto cuando pone su entrenamiento en práctica.\n",
    "Aunque los 5 ofrecen sus servicios como profesores de ajedrez online, parece que tan solo Feokl1995 presenta resultados propios de un profesional con capacidad para transmitir sus conocimientos."
   ]
  }
 ],
 "metadata": {
  "interpreter": {
   "hash": "badd9f49954df54cdd353c432e2a87bc9c11d5d068e247fbabe4f1e19545a08a"
  },
  "kernelspec": {
   "display_name": "Python 3.8.8 ('base')",
   "language": "python",
   "name": "python3"
  },
  "language_info": {
   "codemirror_mode": {
    "name": "ipython",
    "version": 3
   },
   "file_extension": ".py",
   "mimetype": "text/x-python",
   "name": "python",
   "nbconvert_exporter": "python",
   "pygments_lexer": "ipython3",
   "version": "3.9.7"
  },
  "orig_nbformat": 4
 },
 "nbformat": 4,
 "nbformat_minor": 2
}
