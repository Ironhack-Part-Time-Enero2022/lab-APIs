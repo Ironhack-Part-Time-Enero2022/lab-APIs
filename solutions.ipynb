{
 "cells": [
  {
   "cell_type": "markdown",
   "id": "6593bda9",
   "metadata": {},
   "source": [
    "# APIs Lab - AEMET API - Eduardo Arroyo"
   ]
  },
  {
   "cell_type": "markdown",
   "id": "cd0f05b7",
   "metadata": {},
   "source": [
    "Importamos librerias de pandas y requests"
   ]
  },
  {
   "cell_type": "code",
   "execution_count": 1,
   "id": "3e31bf85",
   "metadata": {},
   "outputs": [
    {
     "data": {
      "text/plain": [
       "True"
      ]
     },
     "execution_count": 1,
     "metadata": {},
     "output_type": "execute_result"
    }
   ],
   "source": [
    "import pandas as pd\n",
    "import requests\n",
    "import folium\n",
    "import os \n",
    "from dotenv import load_dotenv\n",
    "\n",
    "load_dotenv()"
   ]
  },
  {
   "cell_type": "code",
   "execution_count": 2,
   "id": "fa7ef28c",
   "metadata": {},
   "outputs": [],
   "source": [
    "token = os.getenv(\"AEMET_APIKEY\") "
   ]
  },
  {
   "cell_type": "markdown",
   "id": "80bee0d9",
   "metadata": {},
   "source": [
    "Hacemos un acopio de los links que vamos a necesitar para el caso de estudio"
   ]
  },
  {
   "cell_type": "code",
   "execution_count": 3,
   "id": "f4f081f6",
   "metadata": {},
   "outputs": [],
   "source": [
    "url_common = \"https://opendata.aemet.es/opendata\"\n",
    "\n",
    "url_allstations = url_common + \"/api/valores/climatologicos/inventarioestaciones/todasestaciones/\"\n",
    "\n",
    "url_weather_actual_all = url_common + '/api/observacion/convencional/todas'"
   ]
  },
  {
   "cell_type": "markdown",
   "id": "30a699c2",
   "metadata": {},
   "source": [
    "Definimos las funciones necesarias para la totalidad del ejercicio"
   ]
  },
  {
   "cell_type": "code",
   "execution_count": 4,
   "id": "ebebcb73",
   "metadata": {},
   "outputs": [],
   "source": [
    "def callaemet_url(url):\n",
    "    '''\n",
    "    Funcion que obtiene la respuesta de la URL de la api de AEMET que le pases\n",
    "    '''\n",
    "    querystring = {\"api_key\":token}\n",
    "\n",
    "    headers = {\n",
    "        'cache-control': \"no-cache\"\n",
    "        }\n",
    "\n",
    "    \n",
    "    res = requests.request(\"GET\", url, headers=headers, params=querystring)\n",
    "    \n",
    "    return res, res.json()\n",
    "\n",
    "def call_data(url):\n",
    "    '''\n",
    "    Funcion que obtiene los datos de la URL de la api de AEMET que le pases. Esto es debido a que la respuesta de las\n",
    "    urls de la api de aemet responden siempre con una estructura donde en el apartado datos te dan otra url donde te\n",
    "    dan los datos finales que se estan buscando.\n",
    "    '''\n",
    "    res = callaemet_url(url)\n",
    "    \n",
    "    final_res = callaemet_url(res[1][\"datos\"])\n",
    "    \n",
    "    return final_res\n",
    "\n",
    "def simple_dict2df(dict_):\n",
    "    '''\n",
    "    funcion que obtiene un diccionario con un solo escalon de valores y lo convierte en df. Es decir el diccionario\n",
    "    ha de tener una esturcura donde en el esquema \"clave-valor\" dicho valor no sea tambien una clave de algo mas.\n",
    "    '''\n",
    "    col = ['column','value']\n",
    "    df = pd.DataFrame(list(dict_.items()),columns = col)\n",
    "    \n",
    "    df2=df.T\n",
    "    header=df2.iloc[0]\n",
    "    df2=df2[1:]\n",
    "    df2.columns=header\n",
    "    \n",
    "    return df2\n",
    "\n",
    "def get_df_from_response(res,cols):\n",
    "    '''\n",
    "    funcion que obtiene todos los diccionarios de la respuesta de la api y los concatena en un solo data frame\n",
    "    con las columnas que se le pasen. Comprueba que todas las columnas existan si no, no lo concatena.\n",
    "    '''\n",
    "    my_dict = res[1][0]\n",
    "    df = simple_dict2df(my_dict)\n",
    "    df_total = df.drop(['value'])[cols]\n",
    "\n",
    "    for dict_ in res[1]:\n",
    "        df = simple_dict2df(dict_)\n",
    "        if set(cols).issubset(df.columns):\n",
    "            df = df[cols]\n",
    "            df_total = pd.concat([df_total,df])\n",
    "            \n",
    "    return df_total"
   ]
  },
  {
   "cell_type": "markdown",
   "id": "c930f1cf",
   "metadata": {},
   "source": [
    "obtenemos los datos de las estaciones actualizados y los metemos en un data frame. Cogemos solo las columnas que nos interesan: Idema (id de la estacion que toma los datos), longitud, latitud, temperatura, temperatura maxima, temperatura minima y ubicacion (descripcion del lugar donde se toman los datos)"
   ]
  },
  {
   "cell_type": "code",
   "execution_count": 5,
   "id": "d023d494",
   "metadata": {
    "scrolled": true
   },
   "outputs": [
    {
     "data": {
      "text/html": [
       "<div>\n",
       "<style scoped>\n",
       "    .dataframe tbody tr th:only-of-type {\n",
       "        vertical-align: middle;\n",
       "    }\n",
       "\n",
       "    .dataframe tbody tr th {\n",
       "        vertical-align: top;\n",
       "    }\n",
       "\n",
       "    .dataframe thead th {\n",
       "        text-align: right;\n",
       "    }\n",
       "</style>\n",
       "<table border=\"1\" class=\"dataframe\">\n",
       "  <thead>\n",
       "    <tr style=\"text-align: right;\">\n",
       "      <th>column</th>\n",
       "      <th>idema</th>\n",
       "      <th>lon</th>\n",
       "      <th>lat</th>\n",
       "      <th>ta</th>\n",
       "      <th>tamin</th>\n",
       "      <th>tamax</th>\n",
       "      <th>ubi</th>\n",
       "    </tr>\n",
       "  </thead>\n",
       "  <tbody>\n",
       "    <tr>\n",
       "      <th>value</th>\n",
       "      <td>1279X</td>\n",
       "      <td>-6.230729</td>\n",
       "      <td>43.425</td>\n",
       "      <td>7.5</td>\n",
       "      <td>7.4</td>\n",
       "      <td>7.5</td>\n",
       "      <td>CAMUÑO</td>\n",
       "    </tr>\n",
       "    <tr>\n",
       "      <th>value</th>\n",
       "      <td>5515X</td>\n",
       "      <td>-3.59555</td>\n",
       "      <td>37.18972</td>\n",
       "      <td>7.9</td>\n",
       "      <td>7.7</td>\n",
       "      <td>7.9</td>\n",
       "      <td>GRANADA-CARTUJA</td>\n",
       "    </tr>\n",
       "    <tr>\n",
       "      <th>value</th>\n",
       "      <td>7172X</td>\n",
       "      <td>-1.449172</td>\n",
       "      <td>38.041386</td>\n",
       "      <td>14.5</td>\n",
       "      <td>14.5</td>\n",
       "      <td>14.9</td>\n",
       "      <td>MULA (P. BOMBEROS - AUT.)</td>\n",
       "    </tr>\n",
       "    <tr>\n",
       "      <th>value</th>\n",
       "      <td>5598X</td>\n",
       "      <td>-4.547788</td>\n",
       "      <td>37.23093</td>\n",
       "      <td>16.3</td>\n",
       "      <td>16.2</td>\n",
       "      <td>16.5</td>\n",
       "      <td>BENAMEJÍ-ALCACHOFARES ALTOS</td>\n",
       "    </tr>\n",
       "    <tr>\n",
       "      <th>value</th>\n",
       "      <td>1014A</td>\n",
       "      <td>-1.792116</td>\n",
       "      <td>43.357075</td>\n",
       "      <td>11.9</td>\n",
       "      <td>11.7</td>\n",
       "      <td>13.6</td>\n",
       "      <td>SAN SEBASTIÁN/FUENTERRABIA</td>\n",
       "    </tr>\n",
       "  </tbody>\n",
       "</table>\n",
       "</div>"
      ],
      "text/plain": [
       "column  idema       lon        lat    ta tamin tamax  \\\n",
       "value   1279X -6.230729     43.425   7.5   7.4   7.5   \n",
       "value   5515X  -3.59555   37.18972   7.9   7.7   7.9   \n",
       "value   7172X -1.449172  38.041386  14.5  14.5  14.9   \n",
       "value   5598X -4.547788   37.23093  16.3  16.2  16.5   \n",
       "value   1014A -1.792116  43.357075  11.9  11.7  13.6   \n",
       "\n",
       "column                          ubi  \n",
       "value                        CAMUÑO  \n",
       "value               GRANADA-CARTUJA  \n",
       "value     MULA (P. BOMBEROS - AUT.)  \n",
       "value   BENAMEJÍ-ALCACHOFARES ALTOS  \n",
       "value    SAN SEBASTIÁN/FUENTERRABIA  "
      ]
     },
     "metadata": {},
     "output_type": "display_data"
    }
   ],
   "source": [
    "respond_weather_actual_all = call_data(url_weather_actual_all)\n",
    "\n",
    "cols = ['idema','lon','lat','ta','tamin','tamax','ubi']\n",
    "df_ta_actuals = get_df_from_response(respond_weather_actual_all,cols)\n",
    "\n",
    "display(df_ta_actuals.sample(5))"
   ]
  },
  {
   "cell_type": "markdown",
   "id": "a9c7e860",
   "metadata": {},
   "source": [
    "Calculamos una media de las tres medidas (ta, tamin y tamax) para idema, lon, lat y ubi ya que pueden venir mas de una row para las últimas 24h dependiendo de la estación."
   ]
  },
  {
   "cell_type": "code",
   "execution_count": 6,
   "id": "74f6d648",
   "metadata": {},
   "outputs": [
    {
     "data": {
      "text/html": [
       "<div>\n",
       "<style scoped>\n",
       "    .dataframe tbody tr th:only-of-type {\n",
       "        vertical-align: middle;\n",
       "    }\n",
       "\n",
       "    .dataframe tbody tr th {\n",
       "        vertical-align: top;\n",
       "    }\n",
       "\n",
       "    .dataframe thead th {\n",
       "        text-align: right;\n",
       "    }\n",
       "</style>\n",
       "<table border=\"1\" class=\"dataframe\">\n",
       "  <thead>\n",
       "    <tr style=\"text-align: right;\">\n",
       "      <th>column</th>\n",
       "      <th>idema</th>\n",
       "      <th>lon</th>\n",
       "      <th>lat</th>\n",
       "      <th>ubi</th>\n",
       "      <th>ta</th>\n",
       "      <th>tamin</th>\n",
       "      <th>tamax</th>\n",
       "    </tr>\n",
       "  </thead>\n",
       "  <tbody>\n",
       "    <tr>\n",
       "      <th>206</th>\n",
       "      <td>2512Y</td>\n",
       "      <td>-5.018689</td>\n",
       "      <td>40.882130</td>\n",
       "      <td>RIVILLA DE BARAJAS</td>\n",
       "      <td>8.047826</td>\n",
       "      <td>7.726087</td>\n",
       "      <td>8.434783</td>\n",
       "    </tr>\n",
       "    <tr>\n",
       "      <th>66</th>\n",
       "      <td>1082</td>\n",
       "      <td>-2.906304</td>\n",
       "      <td>43.297950</td>\n",
       "      <td>BILBAO/AEROPUERTO</td>\n",
       "      <td>12.333333</td>\n",
       "      <td>11.895833</td>\n",
       "      <td>13.133333</td>\n",
       "    </tr>\n",
       "    <tr>\n",
       "      <th>281</th>\n",
       "      <td>3319D</td>\n",
       "      <td>-5.012748</td>\n",
       "      <td>40.339664</td>\n",
       "      <td>PUERTO EL PICO</td>\n",
       "      <td>3.969565</td>\n",
       "      <td>3.673913</td>\n",
       "      <td>4.530435</td>\n",
       "    </tr>\n",
       "    <tr>\n",
       "      <th>739</th>\n",
       "      <td>B986</td>\n",
       "      <td>1.463528</td>\n",
       "      <td>38.693710</td>\n",
       "      <td>FORMENTERA</td>\n",
       "      <td>12.595833</td>\n",
       "      <td>12.166667</td>\n",
       "      <td>13.045833</td>\n",
       "    </tr>\n",
       "    <tr>\n",
       "      <th>549</th>\n",
       "      <td>8325X</td>\n",
       "      <td>-0.371947</td>\n",
       "      <td>39.184723</td>\n",
       "      <td>POLINYA</td>\n",
       "      <td>9.937500</td>\n",
       "      <td>9.612500</td>\n",
       "      <td>10.354167</td>\n",
       "    </tr>\n",
       "  </tbody>\n",
       "</table>\n",
       "</div>"
      ],
      "text/plain": [
       "column  idema       lon        lat                 ubi         ta      tamin  \\\n",
       "206     2512Y -5.018689  40.882130  RIVILLA DE BARAJAS   8.047826   7.726087   \n",
       "66       1082 -2.906304  43.297950   BILBAO/AEROPUERTO  12.333333  11.895833   \n",
       "281     3319D -5.012748  40.339664      PUERTO EL PICO   3.969565   3.673913   \n",
       "739      B986  1.463528  38.693710          FORMENTERA  12.595833  12.166667   \n",
       "549     8325X -0.371947  39.184723             POLINYA   9.937500   9.612500   \n",
       "\n",
       "column      tamax  \n",
       "206      8.434783  \n",
       "66      13.133333  \n",
       "281      4.530435  \n",
       "739     13.045833  \n",
       "549     10.354167  "
      ]
     },
     "metadata": {},
     "output_type": "display_data"
    }
   ],
   "source": [
    "df_ta_actuals = df_ta_actuals.groupby(['idema','lon','lat','ubi']).mean().reset_index()\n",
    "\n",
    "display(df_ta_actuals.sample(5))"
   ]
  },
  {
   "cell_type": "markdown",
   "id": "e79c237e",
   "metadata": {},
   "source": [
    "Obtenemos los datos de la relacion de cada estacion y su provincia asociada"
   ]
  },
  {
   "cell_type": "code",
   "execution_count": 7,
   "id": "74d0f7c2",
   "metadata": {
    "scrolled": true
   },
   "outputs": [
    {
     "data": {
      "text/html": [
       "<div>\n",
       "<style scoped>\n",
       "    .dataframe tbody tr th:only-of-type {\n",
       "        vertical-align: middle;\n",
       "    }\n",
       "\n",
       "    .dataframe tbody tr th {\n",
       "        vertical-align: top;\n",
       "    }\n",
       "\n",
       "    .dataframe thead th {\n",
       "        text-align: right;\n",
       "    }\n",
       "</style>\n",
       "<table border=\"1\" class=\"dataframe\">\n",
       "  <thead>\n",
       "    <tr style=\"text-align: right;\">\n",
       "      <th>column</th>\n",
       "      <th>indicativo</th>\n",
       "      <th>nombre</th>\n",
       "      <th>provincia</th>\n",
       "    </tr>\n",
       "  </thead>\n",
       "  <tbody>\n",
       "    <tr>\n",
       "      <th>value</th>\n",
       "      <td>2030</td>\n",
       "      <td>SORIA</td>\n",
       "      <td>SORIA</td>\n",
       "    </tr>\n",
       "    <tr>\n",
       "      <th>value</th>\n",
       "      <td>3266A</td>\n",
       "      <td>PUERTO ALTO DEL LEÓN</td>\n",
       "      <td>MADRID</td>\n",
       "    </tr>\n",
       "    <tr>\n",
       "      <th>value</th>\n",
       "      <td>1207U</td>\n",
       "      <td>GIJÓN, CAMPUS</td>\n",
       "      <td>ASTURIAS</td>\n",
       "    </tr>\n",
       "    <tr>\n",
       "      <th>value</th>\n",
       "      <td>0252D</td>\n",
       "      <td>ARENYS DE MAR</td>\n",
       "      <td>BARCELONA</td>\n",
       "    </tr>\n",
       "    <tr>\n",
       "      <th>value</th>\n",
       "      <td>5910</td>\n",
       "      <td>ROTA, BASE NAVAL</td>\n",
       "      <td>CADIZ</td>\n",
       "    </tr>\n",
       "  </tbody>\n",
       "</table>\n",
       "</div>"
      ],
      "text/plain": [
       "column indicativo                nombre  provincia\n",
       "value        2030                 SORIA      SORIA\n",
       "value       3266A  PUERTO ALTO DEL LEÓN     MADRID\n",
       "value       1207U         GIJÓN, CAMPUS   ASTURIAS\n",
       "value       0252D         ARENYS DE MAR  BARCELONA\n",
       "value        5910      ROTA, BASE NAVAL      CADIZ"
      ]
     },
     "metadata": {},
     "output_type": "display_data"
    }
   ],
   "source": [
    "respond_all_station = call_data(url_allstations)\n",
    "\n",
    "cols = ['indicativo','nombre','provincia']\n",
    "df_provinces = get_df_from_response(respond_all_station,cols)\n",
    "\n",
    "display(df_provinces.sample(5))"
   ]
  },
  {
   "cell_type": "markdown",
   "id": "6df60a37",
   "metadata": {},
   "source": [
    "Juntamos los dos df en uno para tener disponible la provincia, y poder filtrar los datos a pintar (todos va muy lento)"
   ]
  },
  {
   "cell_type": "code",
   "execution_count": 8,
   "id": "b28aeb25",
   "metadata": {},
   "outputs": [
    {
     "data": {
      "text/html": [
       "<div>\n",
       "<style scoped>\n",
       "    .dataframe tbody tr th:only-of-type {\n",
       "        vertical-align: middle;\n",
       "    }\n",
       "\n",
       "    .dataframe tbody tr th {\n",
       "        vertical-align: top;\n",
       "    }\n",
       "\n",
       "    .dataframe thead th {\n",
       "        text-align: right;\n",
       "    }\n",
       "</style>\n",
       "<table border=\"1\" class=\"dataframe\">\n",
       "  <thead>\n",
       "    <tr style=\"text-align: right;\">\n",
       "      <th>column</th>\n",
       "      <th>idema</th>\n",
       "      <th>lon</th>\n",
       "      <th>lat</th>\n",
       "      <th>ubi</th>\n",
       "      <th>ta</th>\n",
       "      <th>tamin</th>\n",
       "      <th>tamax</th>\n",
       "      <th>indicativo</th>\n",
       "      <th>nombre</th>\n",
       "      <th>provincia</th>\n",
       "    </tr>\n",
       "  </thead>\n",
       "  <tbody>\n",
       "    <tr>\n",
       "      <th>620</th>\n",
       "      <td>9344C</td>\n",
       "      <td>-2.292964</td>\n",
       "      <td>41.216473</td>\n",
       "      <td>ARCOS DE JALÓN-COEX</td>\n",
       "      <td>8.778261</td>\n",
       "      <td>8.456522</td>\n",
       "      <td>9.126087</td>\n",
       "      <td>NaN</td>\n",
       "      <td>NaN</td>\n",
       "      <td>NaN</td>\n",
       "    </tr>\n",
       "    <tr>\n",
       "      <th>14</th>\n",
       "      <td>0171X</td>\n",
       "      <td>1.617778</td>\n",
       "      <td>41.578888</td>\n",
       "      <td>IGUALADA</td>\n",
       "      <td>7.954167</td>\n",
       "      <td>7.375000</td>\n",
       "      <td>8.670833</td>\n",
       "      <td>NaN</td>\n",
       "      <td>NaN</td>\n",
       "      <td>NaN</td>\n",
       "    </tr>\n",
       "    <tr>\n",
       "      <th>460</th>\n",
       "      <td>6106X</td>\n",
       "      <td>-4.748339</td>\n",
       "      <td>37.029446</td>\n",
       "      <td>ANTEQUERA-BOBADILLA</td>\n",
       "      <td>11.904167</td>\n",
       "      <td>11.545833</td>\n",
       "      <td>12.316667</td>\n",
       "      <td>6106X</td>\n",
       "      <td>ANTEQUERA</td>\n",
       "      <td>MALAGA</td>\n",
       "    </tr>\n",
       "    <tr>\n",
       "      <th>447</th>\n",
       "      <td>6001</td>\n",
       "      <td>-5.598830</td>\n",
       "      <td>36.013985</td>\n",
       "      <td>TARIFA</td>\n",
       "      <td>12.720833</td>\n",
       "      <td>12.454167</td>\n",
       "      <td>12.970833</td>\n",
       "      <td>6001</td>\n",
       "      <td>TARIFA</td>\n",
       "      <td>CADIZ</td>\n",
       "    </tr>\n",
       "    <tr>\n",
       "      <th>757</th>\n",
       "      <td>C314Z</td>\n",
       "      <td>-17.249166</td>\n",
       "      <td>28.106943</td>\n",
       "      <td>VALLEHERMOSO-ALTO IGUALERO</td>\n",
       "      <td>5.526087</td>\n",
       "      <td>5.269565</td>\n",
       "      <td>5.856522</td>\n",
       "      <td>NaN</td>\n",
       "      <td>NaN</td>\n",
       "      <td>NaN</td>\n",
       "    </tr>\n",
       "  </tbody>\n",
       "</table>\n",
       "</div>"
      ],
      "text/plain": [
       "column  idema        lon        lat                         ubi         ta  \\\n",
       "620     9344C  -2.292964  41.216473         ARCOS DE JALÓN-COEX   8.778261   \n",
       "14      0171X   1.617778  41.578888                    IGUALADA   7.954167   \n",
       "460     6106X  -4.748339  37.029446         ANTEQUERA-BOBADILLA  11.904167   \n",
       "447      6001  -5.598830  36.013985                      TARIFA  12.720833   \n",
       "757     C314Z -17.249166  28.106943  VALLEHERMOSO-ALTO IGUALERO   5.526087   \n",
       "\n",
       "column      tamin      tamax indicativo     nombre provincia  \n",
       "620      8.456522   9.126087        NaN        NaN       NaN  \n",
       "14       7.375000   8.670833        NaN        NaN       NaN  \n",
       "460     11.545833  12.316667      6106X  ANTEQUERA    MALAGA  \n",
       "447     12.454167  12.970833       6001     TARIFA     CADIZ  \n",
       "757      5.269565   5.856522        NaN        NaN       NaN  "
      ]
     },
     "metadata": {},
     "output_type": "display_data"
    }
   ],
   "source": [
    "df_ta_provinces = pd.merge(left=df_ta_actuals, right=df_provinces, how='left',\n",
    "                        left_on='idema', right_on='indicativo')\n",
    "\n",
    "display(df_ta_provinces.sample(5))"
   ]
  },
  {
   "cell_type": "markdown",
   "id": "2ecb137a",
   "metadata": {},
   "source": [
    "## Selección de la zona de análisis"
   ]
  },
  {
   "cell_type": "markdown",
   "id": "d22572a0",
   "metadata": {},
   "source": [
    "Elija una provincia para analizar"
   ]
  },
  {
   "cell_type": "code",
   "execution_count": 9,
   "id": "3a3f3a0a",
   "metadata": {},
   "outputs": [
    {
     "name": "stdout",
     "output_type": "stream",
     "text": [
      "¿Qué Provincia quieres analizar? madrid\n"
     ]
    }
   ],
   "source": [
    "province = input('¿Qué Provincia quieres analizar? ').upper()"
   ]
  },
  {
   "cell_type": "markdown",
   "id": "1a04e09d",
   "metadata": {},
   "source": [
    "Filtramos el Set de datos por la provincia seleccionada"
   ]
  },
  {
   "cell_type": "code",
   "execution_count": 10,
   "id": "3d046823",
   "metadata": {},
   "outputs": [
    {
     "data": {
      "text/html": [
       "<div>\n",
       "<style scoped>\n",
       "    .dataframe tbody tr th:only-of-type {\n",
       "        vertical-align: middle;\n",
       "    }\n",
       "\n",
       "    .dataframe tbody tr th {\n",
       "        vertical-align: top;\n",
       "    }\n",
       "\n",
       "    .dataframe thead th {\n",
       "        text-align: right;\n",
       "    }\n",
       "</style>\n",
       "<table border=\"1\" class=\"dataframe\">\n",
       "  <thead>\n",
       "    <tr style=\"text-align: right;\">\n",
       "      <th>column</th>\n",
       "      <th>idema</th>\n",
       "      <th>lon</th>\n",
       "      <th>lat</th>\n",
       "      <th>ubi</th>\n",
       "      <th>ta</th>\n",
       "      <th>tamin</th>\n",
       "      <th>tamax</th>\n",
       "      <th>indicativo</th>\n",
       "      <th>nombre</th>\n",
       "      <th>provincia</th>\n",
       "    </tr>\n",
       "  </thead>\n",
       "  <tbody>\n",
       "    <tr>\n",
       "      <th>199</th>\n",
       "      <td>2462</td>\n",
       "      <td>-4.010556</td>\n",
       "      <td>40.793056</td>\n",
       "      <td>NAVACERRADA PUERTO</td>\n",
       "      <td>1.825000</td>\n",
       "      <td>1.475000</td>\n",
       "      <td>2.204167</td>\n",
       "      <td>2462</td>\n",
       "      <td>PUERTO DE NAVACERRADA</td>\n",
       "      <td>MADRID</td>\n",
       "    </tr>\n",
       "    <tr>\n",
       "      <th>256</th>\n",
       "      <td>3100B</td>\n",
       "      <td>-3.546025</td>\n",
       "      <td>40.067140</td>\n",
       "      <td>ARANJUEZ</td>\n",
       "      <td>8.662500</td>\n",
       "      <td>8.229167</td>\n",
       "      <td>9.258333</td>\n",
       "      <td>3100B</td>\n",
       "      <td>ARANJUEZ</td>\n",
       "      <td>MADRID</td>\n",
       "    </tr>\n",
       "    <tr>\n",
       "      <th>259</th>\n",
       "      <td>3110C</td>\n",
       "      <td>-3.613809</td>\n",
       "      <td>41.006985</td>\n",
       "      <td>BUITRAGO</td>\n",
       "      <td>6.791667</td>\n",
       "      <td>6.425000</td>\n",
       "      <td>7.366667</td>\n",
       "      <td>3110C</td>\n",
       "      <td>BUITRAGO DEL LOZOYA</td>\n",
       "      <td>MADRID</td>\n",
       "    </tr>\n",
       "    <tr>\n",
       "      <th>260</th>\n",
       "      <td>3111D</td>\n",
       "      <td>-3.580467</td>\n",
       "      <td>41.135685</td>\n",
       "      <td>SOMOSIERRA</td>\n",
       "      <td>3.762500</td>\n",
       "      <td>3.370833</td>\n",
       "      <td>4.258333</td>\n",
       "      <td>3111D</td>\n",
       "      <td>SOMOSIERRA</td>\n",
       "      <td>MADRID</td>\n",
       "    </tr>\n",
       "    <tr>\n",
       "      <th>263</th>\n",
       "      <td>3129</td>\n",
       "      <td>-3.555593</td>\n",
       "      <td>40.466560</td>\n",
       "      <td>MADRID/BARAJAS</td>\n",
       "      <td>8.920833</td>\n",
       "      <td>8.516667</td>\n",
       "      <td>9.504167</td>\n",
       "      <td>3129</td>\n",
       "      <td>MADRID AEROPUERTO</td>\n",
       "      <td>MADRID</td>\n",
       "    </tr>\n",
       "  </tbody>\n",
       "</table>\n",
       "</div>"
      ],
      "text/plain": [
       "column  idema       lon        lat                 ubi        ta     tamin  \\\n",
       "199      2462 -4.010556  40.793056  NAVACERRADA PUERTO  1.825000  1.475000   \n",
       "256     3100B -3.546025  40.067140            ARANJUEZ  8.662500  8.229167   \n",
       "259     3110C -3.613809  41.006985            BUITRAGO  6.791667  6.425000   \n",
       "260     3111D -3.580467  41.135685          SOMOSIERRA  3.762500  3.370833   \n",
       "263      3129 -3.555593  40.466560      MADRID/BARAJAS  8.920833  8.516667   \n",
       "\n",
       "column     tamax indicativo                 nombre provincia  \n",
       "199     2.204167       2462  PUERTO DE NAVACERRADA    MADRID  \n",
       "256     9.258333      3100B               ARANJUEZ    MADRID  \n",
       "259     7.366667      3110C    BUITRAGO DEL LOZOYA    MADRID  \n",
       "260     4.258333      3111D             SOMOSIERRA    MADRID  \n",
       "263     9.504167       3129      MADRID AEROPUERTO    MADRID  "
      ]
     },
     "metadata": {},
     "output_type": "display_data"
    }
   ],
   "source": [
    "df_to_map = df_ta_provinces[df_ta_provinces.provincia == province]\n",
    "\n",
    "display(df_to_map.head())"
   ]
  },
  {
   "cell_type": "markdown",
   "id": "1e8a3f79",
   "metadata": {},
   "source": [
    "Obtenemos la media y los baremos con los que vamos a analizar la zona seleccionada"
   ]
  },
  {
   "cell_type": "code",
   "execution_count": 11,
   "id": "15ca603f",
   "metadata": {},
   "outputs": [
    {
     "name": "stdout",
     "output_type": "stream",
     "text": [
      "6.283308531746032 6.6578125 7.145907738095239\n"
     ]
    }
   ],
   "source": [
    "avg_ta = df_to_map[\"ta\"].mean()\n",
    "avg_tamax = df_to_map[\"tamax\"].mean()\n",
    "avg_tamin =df_to_map[\"tamin\"].mean()\n",
    "avg_ta_up = avg_ta + (avg_tamax - avg_ta)/1.05\n",
    "avg_ta_down = avg_ta - (avg_ta - avg_tamin)/1.05\n",
    "print(avg_ta_down, avg_ta, avg_ta_up)"
   ]
  },
  {
   "cell_type": "markdown",
   "id": "f74eb928",
   "metadata": {},
   "source": [
    "Graficamos la solucion en un mapa donde nos indiquen las medidas"
   ]
  },
  {
   "cell_type": "code",
   "execution_count": 12,
   "id": "9b85e0b3",
   "metadata": {},
   "outputs": [],
   "source": [
    "# crear mapa\n",
    "\n",
    "map_=folium.Map(location=[29.04824673674675, -13.604344913228068],  # la posicion\n",
    "                tiles='openstreetmap',            # tipo de mapa, theme\n",
    "                zoom_start=7)                    # zoom inicial\n",
    "\n"
   ]
  },
  {
   "cell_type": "code",
   "execution_count": 25,
   "id": "c8fc4cee",
   "metadata": {},
   "outputs": [],
   "source": [
    "for index, row in df_to_map.iterrows(): # método para iterar por los dataframes\n",
    "    \n",
    "    place_msg = row['nombre'] + \"--> \"\n",
    "    ta_msg = \" Tª: \" + str(round(row['ta'],1)) + \" Cº.\"\n",
    "    tamax_msg = \" Tª Max: \" + str(round(row['tamax'],1)) + \" Cº.\"\n",
    "    tamin_msg =\" Tª Min: \" + str(round(row['tamin'],1)) + \" Cº.\"\n",
    "    tooltip_message = place_msg + ta_msg + tamax_msg + tamin_msg\n",
    "    \n",
    "    if row['ta'] < avg_ta_down:\n",
    "    \n",
    "        folium.Marker([row[\"lat\"], row['lon']],\n",
    "                      radius=10, \n",
    "                      tooltip = tooltip_message,\n",
    "                      icon=folium.Icon(icon = \"cloud\", color = \"blue\")).add_to(map_)\n",
    "    elif row['ta']  < avg_ta_up:\n",
    "        folium.Marker([row[\"lat\"], row['lon']],\n",
    "                      radius=10, \n",
    "                      tooltip = tooltip_message,\n",
    "                      icon=folium.Icon(icon = \"cloud\", color = \"orange\")).add_to(map_)\n",
    "    else:\n",
    "        folium.Marker([row[\"lat\"], row['lon']],\n",
    "                      radius=10, \n",
    "                      tooltip = tooltip_message,\n",
    "                      icon=folium.Icon(icon = \"cloud\", color = \"red\")).add_to(map_)\n",
    "        \n",
    "        "
   ]
  },
  {
   "cell_type": "code",
   "execution_count": 24,
   "id": "43dda550",
   "metadata": {
    "scrolled": false
   },
   "outputs": [
    {
     "data": {
      "text/html": [
       "<div style=\"width:100%;\"><div style=\"position:relative;width:100%;height:0;padding-bottom:60%;\"><span style=\"color:#565656\">Make this Notebook Trusted to load map: File -> Trust Notebook</span><iframe src=\"about:blank\" style=\"position:absolute;width:100%;height:100%;left:0;top:0;border:none !important;\" data-html=%3C%21DOCTYPE%20html%3E%0A%3Chead%3E%20%20%20%20%0A%20%20%20%20%3Cmeta%20http-equiv%3D%22content-type%22%20content%3D%22text/html%3B%20charset%3DUTF-8%22%20/%3E%0A%20%20%20%20%0A%20%20%20%20%20%20%20%20%3Cscript%3E%0A%20%20%20%20%20%20%20%20%20%20%20%20L_NO_TOUCH%20%3D%20false%3B%0A%20%20%20%20%20%20%20%20%20%20%20%20L_DISABLE_3D%20%3D%20false%3B%0A%20%20%20%20%20%20%20%20%3C/script%3E%0A%20%20%20%20%0A%20%20%20%20%3Cstyle%3Ehtml%2C%20body%20%7Bwidth%3A%20100%25%3Bheight%3A%20100%25%3Bmargin%3A%200%3Bpadding%3A%200%3B%7D%3C/style%3E%0A%20%20%20%20%3Cstyle%3E%23map%20%7Bposition%3Aabsolute%3Btop%3A0%3Bbottom%3A0%3Bright%3A0%3Bleft%3A0%3B%7D%3C/style%3E%0A%20%20%20%20%3Cscript%20src%3D%22https%3A//cdn.jsdelivr.net/npm/leaflet%401.6.0/dist/leaflet.js%22%3E%3C/script%3E%0A%20%20%20%20%3Cscript%20src%3D%22https%3A//code.jquery.com/jquery-1.12.4.min.js%22%3E%3C/script%3E%0A%20%20%20%20%3Cscript%20src%3D%22https%3A//maxcdn.bootstrapcdn.com/bootstrap/3.2.0/js/bootstrap.min.js%22%3E%3C/script%3E%0A%20%20%20%20%3Cscript%20src%3D%22https%3A//cdnjs.cloudflare.com/ajax/libs/Leaflet.awesome-markers/2.0.2/leaflet.awesome-markers.js%22%3E%3C/script%3E%0A%20%20%20%20%3Clink%20rel%3D%22stylesheet%22%20href%3D%22https%3A//cdn.jsdelivr.net/npm/leaflet%401.6.0/dist/leaflet.css%22/%3E%0A%20%20%20%20%3Clink%20rel%3D%22stylesheet%22%20href%3D%22https%3A//maxcdn.bootstrapcdn.com/bootstrap/3.2.0/css/bootstrap.min.css%22/%3E%0A%20%20%20%20%3Clink%20rel%3D%22stylesheet%22%20href%3D%22https%3A//maxcdn.bootstrapcdn.com/bootstrap/3.2.0/css/bootstrap-theme.min.css%22/%3E%0A%20%20%20%20%3Clink%20rel%3D%22stylesheet%22%20href%3D%22https%3A//maxcdn.bootstrapcdn.com/font-awesome/4.6.3/css/font-awesome.min.css%22/%3E%0A%20%20%20%20%3Clink%20rel%3D%22stylesheet%22%20href%3D%22https%3A//cdnjs.cloudflare.com/ajax/libs/Leaflet.awesome-markers/2.0.2/leaflet.awesome-markers.css%22/%3E%0A%20%20%20%20%3Clink%20rel%3D%22stylesheet%22%20href%3D%22https%3A//cdn.jsdelivr.net/gh/python-visualization/folium/folium/templates/leaflet.awesome.rotate.min.css%22/%3E%0A%20%20%20%20%0A%20%20%20%20%20%20%20%20%20%20%20%20%3Cmeta%20name%3D%22viewport%22%20content%3D%22width%3Ddevice-width%2C%0A%20%20%20%20%20%20%20%20%20%20%20%20%20%20%20%20initial-scale%3D1.0%2C%20maximum-scale%3D1.0%2C%20user-scalable%3Dno%22%20/%3E%0A%20%20%20%20%20%20%20%20%20%20%20%20%3Cstyle%3E%0A%20%20%20%20%20%20%20%20%20%20%20%20%20%20%20%20%23map_571c908fc6e64247bde2c783446c399c%20%7B%0A%20%20%20%20%20%20%20%20%20%20%20%20%20%20%20%20%20%20%20%20position%3A%20relative%3B%0A%20%20%20%20%20%20%20%20%20%20%20%20%20%20%20%20%20%20%20%20width%3A%20100.0%25%3B%0A%20%20%20%20%20%20%20%20%20%20%20%20%20%20%20%20%20%20%20%20height%3A%20100.0%25%3B%0A%20%20%20%20%20%20%20%20%20%20%20%20%20%20%20%20%20%20%20%20left%3A%200.0%25%3B%0A%20%20%20%20%20%20%20%20%20%20%20%20%20%20%20%20%20%20%20%20top%3A%200.0%25%3B%0A%20%20%20%20%20%20%20%20%20%20%20%20%20%20%20%20%7D%0A%20%20%20%20%20%20%20%20%20%20%20%20%3C/style%3E%0A%20%20%20%20%20%20%20%20%0A%3C/head%3E%0A%3Cbody%3E%20%20%20%20%0A%20%20%20%20%0A%20%20%20%20%20%20%20%20%20%20%20%20%3Cdiv%20class%3D%22folium-map%22%20id%3D%22map_571c908fc6e64247bde2c783446c399c%22%20%3E%3C/div%3E%0A%20%20%20%20%20%20%20%20%0A%3C/body%3E%0A%3Cscript%3E%20%20%20%20%0A%20%20%20%20%0A%20%20%20%20%20%20%20%20%20%20%20%20var%20map_571c908fc6e64247bde2c783446c399c%20%3D%20L.map%28%0A%20%20%20%20%20%20%20%20%20%20%20%20%20%20%20%20%22map_571c908fc6e64247bde2c783446c399c%22%2C%0A%20%20%20%20%20%20%20%20%20%20%20%20%20%20%20%20%7B%0A%20%20%20%20%20%20%20%20%20%20%20%20%20%20%20%20%20%20%20%20center%3A%20%5B29.04824673674675%2C%20-13.604344913228068%5D%2C%0A%20%20%20%20%20%20%20%20%20%20%20%20%20%20%20%20%20%20%20%20crs%3A%20L.CRS.EPSG3857%2C%0A%20%20%20%20%20%20%20%20%20%20%20%20%20%20%20%20%20%20%20%20zoom%3A%207%2C%0A%20%20%20%20%20%20%20%20%20%20%20%20%20%20%20%20%20%20%20%20zoomControl%3A%20true%2C%0A%20%20%20%20%20%20%20%20%20%20%20%20%20%20%20%20%20%20%20%20preferCanvas%3A%20false%2C%0A%20%20%20%20%20%20%20%20%20%20%20%20%20%20%20%20%7D%0A%20%20%20%20%20%20%20%20%20%20%20%20%29%3B%0A%0A%20%20%20%20%20%20%20%20%20%20%20%20%0A%0A%20%20%20%20%20%20%20%20%0A%20%20%20%20%0A%20%20%20%20%20%20%20%20%20%20%20%20var%20tile_layer_c62309262b2041159a3c84ce8ba92b01%20%3D%20L.tileLayer%28%0A%20%20%20%20%20%20%20%20%20%20%20%20%20%20%20%20%22https%3A//%7Bs%7D.tile.openstreetmap.org/%7Bz%7D/%7Bx%7D/%7By%7D.png%22%2C%0A%20%20%20%20%20%20%20%20%20%20%20%20%20%20%20%20%7B%22attribution%22%3A%20%22Data%20by%20%5Cu0026copy%3B%20%5Cu003ca%20href%3D%5C%22http%3A//openstreetmap.org%5C%22%5Cu003eOpenStreetMap%5Cu003c/a%5Cu003e%2C%20under%20%5Cu003ca%20href%3D%5C%22http%3A//www.openstreetmap.org/copyright%5C%22%5Cu003eODbL%5Cu003c/a%5Cu003e.%22%2C%20%22detectRetina%22%3A%20false%2C%20%22maxNativeZoom%22%3A%2018%2C%20%22maxZoom%22%3A%2018%2C%20%22minZoom%22%3A%200%2C%20%22noWrap%22%3A%20false%2C%20%22opacity%22%3A%201%2C%20%22subdomains%22%3A%20%22abc%22%2C%20%22tms%22%3A%20false%7D%0A%20%20%20%20%20%20%20%20%20%20%20%20%29.addTo%28map_571c908fc6e64247bde2c783446c399c%29%3B%0A%20%20%20%20%20%20%20%20%0A%20%20%20%20%0A%20%20%20%20%20%20%20%20%20%20%20%20var%20marker_09966f2b87c64f1eb38995b713bb4f7c%20%3D%20L.marker%28%0A%20%20%20%20%20%20%20%20%20%20%20%20%20%20%20%20%5B40.793056%2C%20-4.010556%5D%2C%0A%20%20%20%20%20%20%20%20%20%20%20%20%20%20%20%20%7B%22radius%22%3A%2010%7D%0A%20%20%20%20%20%20%20%20%20%20%20%20%29.addTo%28map_571c908fc6e64247bde2c783446c399c%29%3B%0A%20%20%20%20%20%20%20%20%0A%20%20%20%20%0A%20%20%20%20%20%20%20%20%20%20%20%20var%20icon_368417ff4cfc424497071561f4b53941%20%3D%20L.AwesomeMarkers.icon%28%0A%20%20%20%20%20%20%20%20%20%20%20%20%20%20%20%20%7B%22extraClasses%22%3A%20%22fa-rotate-0%22%2C%20%22icon%22%3A%20%22cloud%22%2C%20%22iconColor%22%3A%20%22white%22%2C%20%22markerColor%22%3A%20%22blue%22%2C%20%22prefix%22%3A%20%22glyphicon%22%7D%0A%20%20%20%20%20%20%20%20%20%20%20%20%29%3B%0A%20%20%20%20%20%20%20%20%20%20%20%20marker_09966f2b87c64f1eb38995b713bb4f7c.setIcon%28icon_368417ff4cfc424497071561f4b53941%29%3B%0A%20%20%20%20%20%20%20%20%0A%20%20%20%20%0A%20%20%20%20%20%20%20%20%20%20%20%20marker_09966f2b87c64f1eb38995b713bb4f7c.bindTooltip%28%0A%20%20%20%20%20%20%20%20%20%20%20%20%20%20%20%20%60%3Cdiv%3E%0A%20%20%20%20%20%20%20%20%20%20%20%20%20%20%20%20%20%20%20%20%20T%C2%AA%3A%201.825%20C%C2%BA.%20T%C2%AA%20Max%3A%202.204166666666667%20C%C2%BA.%20T%C2%AA%20Min%3A%201.4749999999999996%20C%C2%BA%0A%20%20%20%20%20%20%20%20%20%20%20%20%20%20%20%20%20%3C/div%3E%60%2C%0A%20%20%20%20%20%20%20%20%20%20%20%20%20%20%20%20%7B%22sticky%22%3A%20true%7D%0A%20%20%20%20%20%20%20%20%20%20%20%20%29%3B%0A%20%20%20%20%20%20%20%20%0A%20%20%20%20%0A%20%20%20%20%20%20%20%20%20%20%20%20var%20marker_a90dcdbec8d540f49cd8650d0853f058%20%3D%20L.marker%28%0A%20%20%20%20%20%20%20%20%20%20%20%20%20%20%20%20%5B40.06714%2C%20-3.546025%5D%2C%0A%20%20%20%20%20%20%20%20%20%20%20%20%20%20%20%20%7B%22radius%22%3A%2010%7D%0A%20%20%20%20%20%20%20%20%20%20%20%20%29.addTo%28map_571c908fc6e64247bde2c783446c399c%29%3B%0A%20%20%20%20%20%20%20%20%0A%20%20%20%20%0A%20%20%20%20%20%20%20%20%20%20%20%20var%20icon_662847aa7e834e22b14b69be52f80d9f%20%3D%20L.AwesomeMarkers.icon%28%0A%20%20%20%20%20%20%20%20%20%20%20%20%20%20%20%20%7B%22extraClasses%22%3A%20%22fa-rotate-0%22%2C%20%22icon%22%3A%20%22cloud%22%2C%20%22iconColor%22%3A%20%22white%22%2C%20%22markerColor%22%3A%20%22red%22%2C%20%22prefix%22%3A%20%22glyphicon%22%7D%0A%20%20%20%20%20%20%20%20%20%20%20%20%29%3B%0A%20%20%20%20%20%20%20%20%20%20%20%20marker_a90dcdbec8d540f49cd8650d0853f058.setIcon%28icon_662847aa7e834e22b14b69be52f80d9f%29%3B%0A%20%20%20%20%20%20%20%20%0A%20%20%20%20%0A%20%20%20%20%20%20%20%20%20%20%20%20marker_a90dcdbec8d540f49cd8650d0853f058.bindTooltip%28%0A%20%20%20%20%20%20%20%20%20%20%20%20%20%20%20%20%60%3Cdiv%3E%0A%20%20%20%20%20%20%20%20%20%20%20%20%20%20%20%20%20%20%20%20%20T%C2%AA%3A%208.662500000000001%20C%C2%BA.%20T%C2%AA%20Max%3A%209.258333333333335%20C%C2%BA.%20T%C2%AA%20Min%3A%208.229166666666668%20C%C2%BA%0A%20%20%20%20%20%20%20%20%20%20%20%20%20%20%20%20%20%3C/div%3E%60%2C%0A%20%20%20%20%20%20%20%20%20%20%20%20%20%20%20%20%7B%22sticky%22%3A%20true%7D%0A%20%20%20%20%20%20%20%20%20%20%20%20%29%3B%0A%20%20%20%20%20%20%20%20%0A%20%20%20%20%0A%20%20%20%20%20%20%20%20%20%20%20%20var%20marker_daf7f5d9de69471dafae5b2b935e0af6%20%3D%20L.marker%28%0A%20%20%20%20%20%20%20%20%20%20%20%20%20%20%20%20%5B41.006985%2C%20-3.613809%5D%2C%0A%20%20%20%20%20%20%20%20%20%20%20%20%20%20%20%20%7B%22radius%22%3A%2010%7D%0A%20%20%20%20%20%20%20%20%20%20%20%20%29.addTo%28map_571c908fc6e64247bde2c783446c399c%29%3B%0A%20%20%20%20%20%20%20%20%0A%20%20%20%20%0A%20%20%20%20%20%20%20%20%20%20%20%20var%20icon_6ec5673490f84fcc859a2ad497feb720%20%3D%20L.AwesomeMarkers.icon%28%0A%20%20%20%20%20%20%20%20%20%20%20%20%20%20%20%20%7B%22extraClasses%22%3A%20%22fa-rotate-0%22%2C%20%22icon%22%3A%20%22cloud%22%2C%20%22iconColor%22%3A%20%22white%22%2C%20%22markerColor%22%3A%20%22orange%22%2C%20%22prefix%22%3A%20%22glyphicon%22%7D%0A%20%20%20%20%20%20%20%20%20%20%20%20%29%3B%0A%20%20%20%20%20%20%20%20%20%20%20%20marker_daf7f5d9de69471dafae5b2b935e0af6.setIcon%28icon_6ec5673490f84fcc859a2ad497feb720%29%3B%0A%20%20%20%20%20%20%20%20%0A%20%20%20%20%0A%20%20%20%20%20%20%20%20%20%20%20%20marker_daf7f5d9de69471dafae5b2b935e0af6.bindTooltip%28%0A%20%20%20%20%20%20%20%20%20%20%20%20%20%20%20%20%60%3Cdiv%3E%0A%20%20%20%20%20%20%20%20%20%20%20%20%20%20%20%20%20%20%20%20%20T%C2%AA%3A%206.791666666666665%20C%C2%BA.%20T%C2%AA%20Max%3A%207.366666666666668%20C%C2%BA.%20T%C2%AA%20Min%3A%206.424999999999998%20C%C2%BA%0A%20%20%20%20%20%20%20%20%20%20%20%20%20%20%20%20%20%3C/div%3E%60%2C%0A%20%20%20%20%20%20%20%20%20%20%20%20%20%20%20%20%7B%22sticky%22%3A%20true%7D%0A%20%20%20%20%20%20%20%20%20%20%20%20%29%3B%0A%20%20%20%20%20%20%20%20%0A%20%20%20%20%0A%20%20%20%20%20%20%20%20%20%20%20%20var%20marker_9568309e0eb9416a938e75c712208182%20%3D%20L.marker%28%0A%20%20%20%20%20%20%20%20%20%20%20%20%20%20%20%20%5B41.135685%2C%20-3.580467%5D%2C%0A%20%20%20%20%20%20%20%20%20%20%20%20%20%20%20%20%7B%22radius%22%3A%2010%7D%0A%20%20%20%20%20%20%20%20%20%20%20%20%29.addTo%28map_571c908fc6e64247bde2c783446c399c%29%3B%0A%20%20%20%20%20%20%20%20%0A%20%20%20%20%0A%20%20%20%20%20%20%20%20%20%20%20%20var%20icon_3c991d9d21914b8b8732223adc761c9e%20%3D%20L.AwesomeMarkers.icon%28%0A%20%20%20%20%20%20%20%20%20%20%20%20%20%20%20%20%7B%22extraClasses%22%3A%20%22fa-rotate-0%22%2C%20%22icon%22%3A%20%22cloud%22%2C%20%22iconColor%22%3A%20%22white%22%2C%20%22markerColor%22%3A%20%22blue%22%2C%20%22prefix%22%3A%20%22glyphicon%22%7D%0A%20%20%20%20%20%20%20%20%20%20%20%20%29%3B%0A%20%20%20%20%20%20%20%20%20%20%20%20marker_9568309e0eb9416a938e75c712208182.setIcon%28icon_3c991d9d21914b8b8732223adc761c9e%29%3B%0A%20%20%20%20%20%20%20%20%0A%20%20%20%20%0A%20%20%20%20%20%20%20%20%20%20%20%20marker_9568309e0eb9416a938e75c712208182.bindTooltip%28%0A%20%20%20%20%20%20%20%20%20%20%20%20%20%20%20%20%60%3Cdiv%3E%0A%20%20%20%20%20%20%20%20%20%20%20%20%20%20%20%20%20%20%20%20%20T%C2%AA%3A%203.7624999999999997%20C%C2%BA.%20T%C2%AA%20Max%3A%204.258333333333333%20C%C2%BA.%20T%C2%AA%20Min%3A%203.3708333333333336%20C%C2%BA%0A%20%20%20%20%20%20%20%20%20%20%20%20%20%20%20%20%20%3C/div%3E%60%2C%0A%20%20%20%20%20%20%20%20%20%20%20%20%20%20%20%20%7B%22sticky%22%3A%20true%7D%0A%20%20%20%20%20%20%20%20%20%20%20%20%29%3B%0A%20%20%20%20%20%20%20%20%0A%20%20%20%20%0A%20%20%20%20%20%20%20%20%20%20%20%20var%20marker_50013e7b4d7f4f91b9b6c6bc0a01d1c3%20%3D%20L.marker%28%0A%20%20%20%20%20%20%20%20%20%20%20%20%20%20%20%20%5B40.46656%2C%20-3.555593%5D%2C%0A%20%20%20%20%20%20%20%20%20%20%20%20%20%20%20%20%7B%22radius%22%3A%2010%7D%0A%20%20%20%20%20%20%20%20%20%20%20%20%29.addTo%28map_571c908fc6e64247bde2c783446c399c%29%3B%0A%20%20%20%20%20%20%20%20%0A%20%20%20%20%0A%20%20%20%20%20%20%20%20%20%20%20%20var%20icon_d7ca2227bc734a6fbc8eba291dec2530%20%3D%20L.AwesomeMarkers.icon%28%0A%20%20%20%20%20%20%20%20%20%20%20%20%20%20%20%20%7B%22extraClasses%22%3A%20%22fa-rotate-0%22%2C%20%22icon%22%3A%20%22cloud%22%2C%20%22iconColor%22%3A%20%22white%22%2C%20%22markerColor%22%3A%20%22red%22%2C%20%22prefix%22%3A%20%22glyphicon%22%7D%0A%20%20%20%20%20%20%20%20%20%20%20%20%29%3B%0A%20%20%20%20%20%20%20%20%20%20%20%20marker_50013e7b4d7f4f91b9b6c6bc0a01d1c3.setIcon%28icon_d7ca2227bc734a6fbc8eba291dec2530%29%3B%0A%20%20%20%20%20%20%20%20%0A%20%20%20%20%0A%20%20%20%20%20%20%20%20%20%20%20%20marker_50013e7b4d7f4f91b9b6c6bc0a01d1c3.bindTooltip%28%0A%20%20%20%20%20%20%20%20%20%20%20%20%20%20%20%20%60%3Cdiv%3E%0A%20%20%20%20%20%20%20%20%20%20%20%20%20%20%20%20%20%20%20%20%20T%C2%AA%3A%208.920833333333336%20C%C2%BA.%20T%C2%AA%20Max%3A%209.504166666666668%20C%C2%BA.%20T%C2%AA%20Min%3A%208.516666666666666%20C%C2%BA%0A%20%20%20%20%20%20%20%20%20%20%20%20%20%20%20%20%20%3C/div%3E%60%2C%0A%20%20%20%20%20%20%20%20%20%20%20%20%20%20%20%20%7B%22sticky%22%3A%20true%7D%0A%20%20%20%20%20%20%20%20%20%20%20%20%29%3B%0A%20%20%20%20%20%20%20%20%0A%20%20%20%20%0A%20%20%20%20%20%20%20%20%20%20%20%20var%20marker_4badfaa038c54111991553e73af8b5d0%20%3D%20L.marker%28%0A%20%20%20%20%20%20%20%20%20%20%20%20%20%20%20%20%5B40.696068%2C%20-3.765135%5D%2C%0A%20%20%20%20%20%20%20%20%20%20%20%20%20%20%20%20%7B%22radius%22%3A%2010%7D%0A%20%20%20%20%20%20%20%20%20%20%20%20%29.addTo%28map_571c908fc6e64247bde2c783446c399c%29%3B%0A%20%20%20%20%20%20%20%20%0A%20%20%20%20%0A%20%20%20%20%20%20%20%20%20%20%20%20var%20icon_0213151ce547425891fde670d85fd13a%20%3D%20L.AwesomeMarkers.icon%28%0A%20%20%20%20%20%20%20%20%20%20%20%20%20%20%20%20%7B%22extraClasses%22%3A%20%22fa-rotate-0%22%2C%20%22icon%22%3A%20%22cloud%22%2C%20%22iconColor%22%3A%20%22white%22%2C%20%22markerColor%22%3A%20%22orange%22%2C%20%22prefix%22%3A%20%22glyphicon%22%7D%0A%20%20%20%20%20%20%20%20%20%20%20%20%29%3B%0A%20%20%20%20%20%20%20%20%20%20%20%20marker_4badfaa038c54111991553e73af8b5d0.setIcon%28icon_0213151ce547425891fde670d85fd13a%29%3B%0A%20%20%20%20%20%20%20%20%0A%20%20%20%20%0A%20%20%20%20%20%20%20%20%20%20%20%20marker_4badfaa038c54111991553e73af8b5d0.bindTooltip%28%0A%20%20%20%20%20%20%20%20%20%20%20%20%20%20%20%20%60%3Cdiv%3E%0A%20%20%20%20%20%20%20%20%20%20%20%20%20%20%20%20%20%20%20%20%20T%C2%AA%3A%206.387500000000002%20C%C2%BA.%20T%C2%AA%20Max%3A%206.820833333333333%20C%C2%BA.%20T%C2%AA%20Min%3A%205.975000000000001%20C%C2%BA%0A%20%20%20%20%20%20%20%20%20%20%20%20%20%20%20%20%20%3C/div%3E%60%2C%0A%20%20%20%20%20%20%20%20%20%20%20%20%20%20%20%20%7B%22sticky%22%3A%20true%7D%0A%20%20%20%20%20%20%20%20%20%20%20%20%29%3B%0A%20%20%20%20%20%20%20%20%0A%20%20%20%20%0A%20%20%20%20%20%20%20%20%20%20%20%20var%20marker_9e3318972d2a4bbd9567327ffc58822b%20%3D%20L.marker%28%0A%20%20%20%20%20%20%20%20%20%20%20%20%20%20%20%20%5B40.411804%2C%20-3.678095%5D%2C%0A%20%20%20%20%20%20%20%20%20%20%20%20%20%20%20%20%7B%22radius%22%3A%2010%7D%0A%20%20%20%20%20%20%20%20%20%20%20%20%29.addTo%28map_571c908fc6e64247bde2c783446c399c%29%3B%0A%20%20%20%20%20%20%20%20%0A%20%20%20%20%0A%20%20%20%20%20%20%20%20%20%20%20%20var%20icon_13b61399e0bb4805953a5f2853ea7fcd%20%3D%20L.AwesomeMarkers.icon%28%0A%20%20%20%20%20%20%20%20%20%20%20%20%20%20%20%20%7B%22extraClasses%22%3A%20%22fa-rotate-0%22%2C%20%22icon%22%3A%20%22cloud%22%2C%20%22iconColor%22%3A%20%22white%22%2C%20%22markerColor%22%3A%20%22red%22%2C%20%22prefix%22%3A%20%22glyphicon%22%7D%0A%20%20%20%20%20%20%20%20%20%20%20%20%29%3B%0A%20%20%20%20%20%20%20%20%20%20%20%20marker_9e3318972d2a4bbd9567327ffc58822b.setIcon%28icon_13b61399e0bb4805953a5f2853ea7fcd%29%3B%0A%20%20%20%20%20%20%20%20%0A%20%20%20%20%0A%20%20%20%20%20%20%20%20%20%20%20%20marker_9e3318972d2a4bbd9567327ffc58822b.bindTooltip%28%0A%20%20%20%20%20%20%20%20%20%20%20%20%20%20%20%20%60%3Cdiv%3E%0A%20%20%20%20%20%20%20%20%20%20%20%20%20%20%20%20%20%20%20%20%20T%C2%AA%3A%209.387500000000001%20C%C2%BA.%20T%C2%AA%20Max%3A%209.745833333333335%20C%C2%BA.%20T%C2%AA%20Min%3A%209.075%20C%C2%BA%0A%20%20%20%20%20%20%20%20%20%20%20%20%20%20%20%20%20%3C/div%3E%60%2C%0A%20%20%20%20%20%20%20%20%20%20%20%20%20%20%20%20%7B%22sticky%22%3A%20true%7D%0A%20%20%20%20%20%20%20%20%20%20%20%20%29%3B%0A%20%20%20%20%20%20%20%20%0A%20%20%20%20%0A%20%20%20%20%20%20%20%20%20%20%20%20var%20marker_cd2dd621d4f14301b8fc155f2900934d%20%3D%20L.marker%28%0A%20%20%20%20%20%20%20%20%20%20%20%20%20%20%20%20%5B40.42775%2C%20-4.249927%5D%2C%0A%20%20%20%20%20%20%20%20%20%20%20%20%20%20%20%20%7B%22radius%22%3A%2010%7D%0A%20%20%20%20%20%20%20%20%20%20%20%20%29.addTo%28map_571c908fc6e64247bde2c783446c399c%29%3B%0A%20%20%20%20%20%20%20%20%0A%20%20%20%20%0A%20%20%20%20%20%20%20%20%20%20%20%20var%20icon_d12812638a8d44aa901c8527160a196a%20%3D%20L.AwesomeMarkers.icon%28%0A%20%20%20%20%20%20%20%20%20%20%20%20%20%20%20%20%7B%22extraClasses%22%3A%20%22fa-rotate-0%22%2C%20%22icon%22%3A%20%22cloud%22%2C%20%22iconColor%22%3A%20%22white%22%2C%20%22markerColor%22%3A%20%22red%22%2C%20%22prefix%22%3A%20%22glyphicon%22%7D%0A%20%20%20%20%20%20%20%20%20%20%20%20%29%3B%0A%20%20%20%20%20%20%20%20%20%20%20%20marker_cd2dd621d4f14301b8fc155f2900934d.setIcon%28icon_d12812638a8d44aa901c8527160a196a%29%3B%0A%20%20%20%20%20%20%20%20%0A%20%20%20%20%0A%20%20%20%20%20%20%20%20%20%20%20%20marker_cd2dd621d4f14301b8fc155f2900934d.bindTooltip%28%0A%20%20%20%20%20%20%20%20%20%20%20%20%20%20%20%20%60%3Cdiv%3E%0A%20%20%20%20%20%20%20%20%20%20%20%20%20%20%20%20%20%20%20%20%20T%C2%AA%3A%207.525000000000002%20C%C2%BA.%20T%C2%AA%20Max%3A%208.204166666666667%20C%C2%BA.%20T%C2%AA%20Min%3A%207.05%20C%C2%BA%0A%20%20%20%20%20%20%20%20%20%20%20%20%20%20%20%20%20%3C/div%3E%60%2C%0A%20%20%20%20%20%20%20%20%20%20%20%20%20%20%20%20%7B%22sticky%22%3A%20true%7D%0A%20%20%20%20%20%20%20%20%20%20%20%20%29%3B%0A%20%20%20%20%20%20%20%20%0A%20%20%20%20%0A%20%20%20%20%20%20%20%20%20%20%20%20var%20marker_52d979aaf6004e9586afab9e74783374%20%3D%20L.marker%28%0A%20%20%20%20%20%20%20%20%20%20%20%20%20%20%20%20%5B40.793056%2C%20-4.010556%5D%2C%0A%20%20%20%20%20%20%20%20%20%20%20%20%20%20%20%20%7B%22radius%22%3A%2010%7D%0A%20%20%20%20%20%20%20%20%20%20%20%20%29.addTo%28map_571c908fc6e64247bde2c783446c399c%29%3B%0A%20%20%20%20%20%20%20%20%0A%20%20%20%20%0A%20%20%20%20%20%20%20%20%20%20%20%20var%20icon_2b7e55dc2dcd4200a97a328d21ddb01b%20%3D%20L.AwesomeMarkers.icon%28%0A%20%20%20%20%20%20%20%20%20%20%20%20%20%20%20%20%7B%22extraClasses%22%3A%20%22fa-rotate-0%22%2C%20%22icon%22%3A%20%22cloud%22%2C%20%22iconColor%22%3A%20%22white%22%2C%20%22markerColor%22%3A%20%22blue%22%2C%20%22prefix%22%3A%20%22glyphicon%22%7D%0A%20%20%20%20%20%20%20%20%20%20%20%20%29%3B%0A%20%20%20%20%20%20%20%20%20%20%20%20marker_52d979aaf6004e9586afab9e74783374.setIcon%28icon_2b7e55dc2dcd4200a97a328d21ddb01b%29%3B%0A%20%20%20%20%20%20%20%20%0A%20%20%20%20%0A%20%20%20%20%20%20%20%20%20%20%20%20marker_52d979aaf6004e9586afab9e74783374.bindTooltip%28%0A%20%20%20%20%20%20%20%20%20%20%20%20%20%20%20%20%60%3Cdiv%3E%0A%20%20%20%20%20%20%20%20%20%20%20%20%20%20%20%20%20%20%20%20%20PUERTO%20DE%20NAVACERRADA%20T%C2%AA%3A%201.8%20C%C2%BA.%20T%C2%AA%20Max%3A%202.2%20C%C2%BA.%20T%C2%AA%20Min%3A%201.5%20C%C2%BA.%0A%20%20%20%20%20%20%20%20%20%20%20%20%20%20%20%20%20%3C/div%3E%60%2C%0A%20%20%20%20%20%20%20%20%20%20%20%20%20%20%20%20%7B%22sticky%22%3A%20true%7D%0A%20%20%20%20%20%20%20%20%20%20%20%20%29%3B%0A%20%20%20%20%20%20%20%20%0A%20%20%20%20%0A%20%20%20%20%20%20%20%20%20%20%20%20var%20marker_da340a3803694e3abc0b4fc8bc2bc5a5%20%3D%20L.marker%28%0A%20%20%20%20%20%20%20%20%20%20%20%20%20%20%20%20%5B40.06714%2C%20-3.546025%5D%2C%0A%20%20%20%20%20%20%20%20%20%20%20%20%20%20%20%20%7B%22radius%22%3A%2010%7D%0A%20%20%20%20%20%20%20%20%20%20%20%20%29.addTo%28map_571c908fc6e64247bde2c783446c399c%29%3B%0A%20%20%20%20%20%20%20%20%0A%20%20%20%20%0A%20%20%20%20%20%20%20%20%20%20%20%20var%20icon_65c9a0be6fdc47bfbfc41fb219d0795e%20%3D%20L.AwesomeMarkers.icon%28%0A%20%20%20%20%20%20%20%20%20%20%20%20%20%20%20%20%7B%22extraClasses%22%3A%20%22fa-rotate-0%22%2C%20%22icon%22%3A%20%22cloud%22%2C%20%22iconColor%22%3A%20%22white%22%2C%20%22markerColor%22%3A%20%22red%22%2C%20%22prefix%22%3A%20%22glyphicon%22%7D%0A%20%20%20%20%20%20%20%20%20%20%20%20%29%3B%0A%20%20%20%20%20%20%20%20%20%20%20%20marker_da340a3803694e3abc0b4fc8bc2bc5a5.setIcon%28icon_65c9a0be6fdc47bfbfc41fb219d0795e%29%3B%0A%20%20%20%20%20%20%20%20%0A%20%20%20%20%0A%20%20%20%20%20%20%20%20%20%20%20%20marker_da340a3803694e3abc0b4fc8bc2bc5a5.bindTooltip%28%0A%20%20%20%20%20%20%20%20%20%20%20%20%20%20%20%20%60%3Cdiv%3E%0A%20%20%20%20%20%20%20%20%20%20%20%20%20%20%20%20%20%20%20%20%20ARANJUEZ%20T%C2%AA%3A%208.7%20C%C2%BA.%20T%C2%AA%20Max%3A%209.3%20C%C2%BA.%20T%C2%AA%20Min%3A%208.2%20C%C2%BA.%0A%20%20%20%20%20%20%20%20%20%20%20%20%20%20%20%20%20%3C/div%3E%60%2C%0A%20%20%20%20%20%20%20%20%20%20%20%20%20%20%20%20%7B%22sticky%22%3A%20true%7D%0A%20%20%20%20%20%20%20%20%20%20%20%20%29%3B%0A%20%20%20%20%20%20%20%20%0A%20%20%20%20%0A%20%20%20%20%20%20%20%20%20%20%20%20var%20marker_bd50af36531646929c655c934a1fa8d6%20%3D%20L.marker%28%0A%20%20%20%20%20%20%20%20%20%20%20%20%20%20%20%20%5B41.006985%2C%20-3.613809%5D%2C%0A%20%20%20%20%20%20%20%20%20%20%20%20%20%20%20%20%7B%22radius%22%3A%2010%7D%0A%20%20%20%20%20%20%20%20%20%20%20%20%29.addTo%28map_571c908fc6e64247bde2c783446c399c%29%3B%0A%20%20%20%20%20%20%20%20%0A%20%20%20%20%0A%20%20%20%20%20%20%20%20%20%20%20%20var%20icon_580a5ea97d76465290d1eb6ba5a1d0b6%20%3D%20L.AwesomeMarkers.icon%28%0A%20%20%20%20%20%20%20%20%20%20%20%20%20%20%20%20%7B%22extraClasses%22%3A%20%22fa-rotate-0%22%2C%20%22icon%22%3A%20%22cloud%22%2C%20%22iconColor%22%3A%20%22white%22%2C%20%22markerColor%22%3A%20%22orange%22%2C%20%22prefix%22%3A%20%22glyphicon%22%7D%0A%20%20%20%20%20%20%20%20%20%20%20%20%29%3B%0A%20%20%20%20%20%20%20%20%20%20%20%20marker_bd50af36531646929c655c934a1fa8d6.setIcon%28icon_580a5ea97d76465290d1eb6ba5a1d0b6%29%3B%0A%20%20%20%20%20%20%20%20%0A%20%20%20%20%0A%20%20%20%20%20%20%20%20%20%20%20%20marker_bd50af36531646929c655c934a1fa8d6.bindTooltip%28%0A%20%20%20%20%20%20%20%20%20%20%20%20%20%20%20%20%60%3Cdiv%3E%0A%20%20%20%20%20%20%20%20%20%20%20%20%20%20%20%20%20%20%20%20%20BUITRAGO%20DEL%20LOZOYA%20T%C2%AA%3A%206.8%20C%C2%BA.%20T%C2%AA%20Max%3A%207.4%20C%C2%BA.%20T%C2%AA%20Min%3A%206.4%20C%C2%BA.%0A%20%20%20%20%20%20%20%20%20%20%20%20%20%20%20%20%20%3C/div%3E%60%2C%0A%20%20%20%20%20%20%20%20%20%20%20%20%20%20%20%20%7B%22sticky%22%3A%20true%7D%0A%20%20%20%20%20%20%20%20%20%20%20%20%29%3B%0A%20%20%20%20%20%20%20%20%0A%20%20%20%20%0A%20%20%20%20%20%20%20%20%20%20%20%20var%20marker_6154a10ae08f463b99a3f81300bcd2e7%20%3D%20L.marker%28%0A%20%20%20%20%20%20%20%20%20%20%20%20%20%20%20%20%5B41.135685%2C%20-3.580467%5D%2C%0A%20%20%20%20%20%20%20%20%20%20%20%20%20%20%20%20%7B%22radius%22%3A%2010%7D%0A%20%20%20%20%20%20%20%20%20%20%20%20%29.addTo%28map_571c908fc6e64247bde2c783446c399c%29%3B%0A%20%20%20%20%20%20%20%20%0A%20%20%20%20%0A%20%20%20%20%20%20%20%20%20%20%20%20var%20icon_d8d0c5ef2bae45e5a78729ec9d9cc82b%20%3D%20L.AwesomeMarkers.icon%28%0A%20%20%20%20%20%20%20%20%20%20%20%20%20%20%20%20%7B%22extraClasses%22%3A%20%22fa-rotate-0%22%2C%20%22icon%22%3A%20%22cloud%22%2C%20%22iconColor%22%3A%20%22white%22%2C%20%22markerColor%22%3A%20%22blue%22%2C%20%22prefix%22%3A%20%22glyphicon%22%7D%0A%20%20%20%20%20%20%20%20%20%20%20%20%29%3B%0A%20%20%20%20%20%20%20%20%20%20%20%20marker_6154a10ae08f463b99a3f81300bcd2e7.setIcon%28icon_d8d0c5ef2bae45e5a78729ec9d9cc82b%29%3B%0A%20%20%20%20%20%20%20%20%0A%20%20%20%20%0A%20%20%20%20%20%20%20%20%20%20%20%20marker_6154a10ae08f463b99a3f81300bcd2e7.bindTooltip%28%0A%20%20%20%20%20%20%20%20%20%20%20%20%20%20%20%20%60%3Cdiv%3E%0A%20%20%20%20%20%20%20%20%20%20%20%20%20%20%20%20%20%20%20%20%20SOMOSIERRA%20T%C2%AA%3A%203.8%20C%C2%BA.%20T%C2%AA%20Max%3A%204.3%20C%C2%BA.%20T%C2%AA%20Min%3A%203.4%20C%C2%BA.%0A%20%20%20%20%20%20%20%20%20%20%20%20%20%20%20%20%20%3C/div%3E%60%2C%0A%20%20%20%20%20%20%20%20%20%20%20%20%20%20%20%20%7B%22sticky%22%3A%20true%7D%0A%20%20%20%20%20%20%20%20%20%20%20%20%29%3B%0A%20%20%20%20%20%20%20%20%0A%20%20%20%20%0A%20%20%20%20%20%20%20%20%20%20%20%20var%20marker_40adfb2f5a6b4769876ff89527af910d%20%3D%20L.marker%28%0A%20%20%20%20%20%20%20%20%20%20%20%20%20%20%20%20%5B40.46656%2C%20-3.555593%5D%2C%0A%20%20%20%20%20%20%20%20%20%20%20%20%20%20%20%20%7B%22radius%22%3A%2010%7D%0A%20%20%20%20%20%20%20%20%20%20%20%20%29.addTo%28map_571c908fc6e64247bde2c783446c399c%29%3B%0A%20%20%20%20%20%20%20%20%0A%20%20%20%20%0A%20%20%20%20%20%20%20%20%20%20%20%20var%20icon_3806899116cd42458141be6fe1d1a11a%20%3D%20L.AwesomeMarkers.icon%28%0A%20%20%20%20%20%20%20%20%20%20%20%20%20%20%20%20%7B%22extraClasses%22%3A%20%22fa-rotate-0%22%2C%20%22icon%22%3A%20%22cloud%22%2C%20%22iconColor%22%3A%20%22white%22%2C%20%22markerColor%22%3A%20%22red%22%2C%20%22prefix%22%3A%20%22glyphicon%22%7D%0A%20%20%20%20%20%20%20%20%20%20%20%20%29%3B%0A%20%20%20%20%20%20%20%20%20%20%20%20marker_40adfb2f5a6b4769876ff89527af910d.setIcon%28icon_3806899116cd42458141be6fe1d1a11a%29%3B%0A%20%20%20%20%20%20%20%20%0A%20%20%20%20%0A%20%20%20%20%20%20%20%20%20%20%20%20marker_40adfb2f5a6b4769876ff89527af910d.bindTooltip%28%0A%20%20%20%20%20%20%20%20%20%20%20%20%20%20%20%20%60%3Cdiv%3E%0A%20%20%20%20%20%20%20%20%20%20%20%20%20%20%20%20%20%20%20%20%20MADRID%20AEROPUERTO%20T%C2%AA%3A%208.9%20C%C2%BA.%20T%C2%AA%20Max%3A%209.5%20C%C2%BA.%20T%C2%AA%20Min%3A%208.5%20C%C2%BA.%0A%20%20%20%20%20%20%20%20%20%20%20%20%20%20%20%20%20%3C/div%3E%60%2C%0A%20%20%20%20%20%20%20%20%20%20%20%20%20%20%20%20%7B%22sticky%22%3A%20true%7D%0A%20%20%20%20%20%20%20%20%20%20%20%20%29%3B%0A%20%20%20%20%20%20%20%20%0A%20%20%20%20%0A%20%20%20%20%20%20%20%20%20%20%20%20var%20marker_b97a195cfa4e4d5c8028c6eebf16bfd5%20%3D%20L.marker%28%0A%20%20%20%20%20%20%20%20%20%20%20%20%20%20%20%20%5B40.696068%2C%20-3.765135%5D%2C%0A%20%20%20%20%20%20%20%20%20%20%20%20%20%20%20%20%7B%22radius%22%3A%2010%7D%0A%20%20%20%20%20%20%20%20%20%20%20%20%29.addTo%28map_571c908fc6e64247bde2c783446c399c%29%3B%0A%20%20%20%20%20%20%20%20%0A%20%20%20%20%0A%20%20%20%20%20%20%20%20%20%20%20%20var%20icon_e4a223b921924cb79059bc4a8faede22%20%3D%20L.AwesomeMarkers.icon%28%0A%20%20%20%20%20%20%20%20%20%20%20%20%20%20%20%20%7B%22extraClasses%22%3A%20%22fa-rotate-0%22%2C%20%22icon%22%3A%20%22cloud%22%2C%20%22iconColor%22%3A%20%22white%22%2C%20%22markerColor%22%3A%20%22orange%22%2C%20%22prefix%22%3A%20%22glyphicon%22%7D%0A%20%20%20%20%20%20%20%20%20%20%20%20%29%3B%0A%20%20%20%20%20%20%20%20%20%20%20%20marker_b97a195cfa4e4d5c8028c6eebf16bfd5.setIcon%28icon_e4a223b921924cb79059bc4a8faede22%29%3B%0A%20%20%20%20%20%20%20%20%0A%20%20%20%20%0A%20%20%20%20%20%20%20%20%20%20%20%20marker_b97a195cfa4e4d5c8028c6eebf16bfd5.bindTooltip%28%0A%20%20%20%20%20%20%20%20%20%20%20%20%20%20%20%20%60%3Cdiv%3E%0A%20%20%20%20%20%20%20%20%20%20%20%20%20%20%20%20%20%20%20%20%20COLMENAR%20VIEJO%20T%C2%AA%3A%206.4%20C%C2%BA.%20T%C2%AA%20Max%3A%206.8%20C%C2%BA.%20T%C2%AA%20Min%3A%206.0%20C%C2%BA.%0A%20%20%20%20%20%20%20%20%20%20%20%20%20%20%20%20%20%3C/div%3E%60%2C%0A%20%20%20%20%20%20%20%20%20%20%20%20%20%20%20%20%7B%22sticky%22%3A%20true%7D%0A%20%20%20%20%20%20%20%20%20%20%20%20%29%3B%0A%20%20%20%20%20%20%20%20%0A%20%20%20%20%0A%20%20%20%20%20%20%20%20%20%20%20%20var%20marker_08f313ce9a89480da1e874140f6efbfe%20%3D%20L.marker%28%0A%20%20%20%20%20%20%20%20%20%20%20%20%20%20%20%20%5B40.411804%2C%20-3.678095%5D%2C%0A%20%20%20%20%20%20%20%20%20%20%20%20%20%20%20%20%7B%22radius%22%3A%2010%7D%0A%20%20%20%20%20%20%20%20%20%20%20%20%29.addTo%28map_571c908fc6e64247bde2c783446c399c%29%3B%0A%20%20%20%20%20%20%20%20%0A%20%20%20%20%0A%20%20%20%20%20%20%20%20%20%20%20%20var%20icon_4708ac8653c04bf8b803c47e445e2a0f%20%3D%20L.AwesomeMarkers.icon%28%0A%20%20%20%20%20%20%20%20%20%20%20%20%20%20%20%20%7B%22extraClasses%22%3A%20%22fa-rotate-0%22%2C%20%22icon%22%3A%20%22cloud%22%2C%20%22iconColor%22%3A%20%22white%22%2C%20%22markerColor%22%3A%20%22red%22%2C%20%22prefix%22%3A%20%22glyphicon%22%7D%0A%20%20%20%20%20%20%20%20%20%20%20%20%29%3B%0A%20%20%20%20%20%20%20%20%20%20%20%20marker_08f313ce9a89480da1e874140f6efbfe.setIcon%28icon_4708ac8653c04bf8b803c47e445e2a0f%29%3B%0A%20%20%20%20%20%20%20%20%0A%20%20%20%20%0A%20%20%20%20%20%20%20%20%20%20%20%20marker_08f313ce9a89480da1e874140f6efbfe.bindTooltip%28%0A%20%20%20%20%20%20%20%20%20%20%20%20%20%20%20%20%60%3Cdiv%3E%0A%20%20%20%20%20%20%20%20%20%20%20%20%20%20%20%20%20%20%20%20%20MADRID%2C%20RETIRO%20T%C2%AA%3A%209.4%20C%C2%BA.%20T%C2%AA%20Max%3A%209.7%20C%C2%BA.%20T%C2%AA%20Min%3A%209.1%20C%C2%BA.%0A%20%20%20%20%20%20%20%20%20%20%20%20%20%20%20%20%20%3C/div%3E%60%2C%0A%20%20%20%20%20%20%20%20%20%20%20%20%20%20%20%20%7B%22sticky%22%3A%20true%7D%0A%20%20%20%20%20%20%20%20%20%20%20%20%29%3B%0A%20%20%20%20%20%20%20%20%0A%20%20%20%20%0A%20%20%20%20%20%20%20%20%20%20%20%20var%20marker_13c7f224e64f4a4d942d6df198c34df1%20%3D%20L.marker%28%0A%20%20%20%20%20%20%20%20%20%20%20%20%20%20%20%20%5B40.42775%2C%20-4.249927%5D%2C%0A%20%20%20%20%20%20%20%20%20%20%20%20%20%20%20%20%7B%22radius%22%3A%2010%7D%0A%20%20%20%20%20%20%20%20%20%20%20%20%29.addTo%28map_571c908fc6e64247bde2c783446c399c%29%3B%0A%20%20%20%20%20%20%20%20%0A%20%20%20%20%0A%20%20%20%20%20%20%20%20%20%20%20%20var%20icon_97f8a4fb0bd149cfb20067e0cedc91a3%20%3D%20L.AwesomeMarkers.icon%28%0A%20%20%20%20%20%20%20%20%20%20%20%20%20%20%20%20%7B%22extraClasses%22%3A%20%22fa-rotate-0%22%2C%20%22icon%22%3A%20%22cloud%22%2C%20%22iconColor%22%3A%20%22white%22%2C%20%22markerColor%22%3A%20%22red%22%2C%20%22prefix%22%3A%20%22glyphicon%22%7D%0A%20%20%20%20%20%20%20%20%20%20%20%20%29%3B%0A%20%20%20%20%20%20%20%20%20%20%20%20marker_13c7f224e64f4a4d942d6df198c34df1.setIcon%28icon_97f8a4fb0bd149cfb20067e0cedc91a3%29%3B%0A%20%20%20%20%20%20%20%20%0A%20%20%20%20%0A%20%20%20%20%20%20%20%20%20%20%20%20marker_13c7f224e64f4a4d942d6df198c34df1.bindTooltip%28%0A%20%20%20%20%20%20%20%20%20%20%20%20%20%20%20%20%60%3Cdiv%3E%0A%20%20%20%20%20%20%20%20%20%20%20%20%20%20%20%20%20%20%20%20%20ROBLEDO%20DE%20CHAVELA%20T%C2%AA%3A%207.5%20C%C2%BA.%20T%C2%AA%20Max%3A%208.2%20C%C2%BA.%20T%C2%AA%20Min%3A%207.0%20C%C2%BA.%0A%20%20%20%20%20%20%20%20%20%20%20%20%20%20%20%20%20%3C/div%3E%60%2C%0A%20%20%20%20%20%20%20%20%20%20%20%20%20%20%20%20%7B%22sticky%22%3A%20true%7D%0A%20%20%20%20%20%20%20%20%20%20%20%20%29%3B%0A%20%20%20%20%20%20%20%20%0A%20%20%20%20%0A%20%20%20%20%20%20%20%20%20%20%20%20var%20marker_5a752212a774433ca9117ca4bbf22a43%20%3D%20L.marker%28%0A%20%20%20%20%20%20%20%20%20%20%20%20%20%20%20%20%5B40.793056%2C%20-4.010556%5D%2C%0A%20%20%20%20%20%20%20%20%20%20%20%20%20%20%20%20%7B%22radius%22%3A%2010%7D%0A%20%20%20%20%20%20%20%20%20%20%20%20%29.addTo%28map_571c908fc6e64247bde2c783446c399c%29%3B%0A%20%20%20%20%20%20%20%20%0A%20%20%20%20%0A%20%20%20%20%20%20%20%20%20%20%20%20var%20icon_965fdf135454454b998b45d280ed3e38%20%3D%20L.AwesomeMarkers.icon%28%0A%20%20%20%20%20%20%20%20%20%20%20%20%20%20%20%20%7B%22extraClasses%22%3A%20%22fa-rotate-0%22%2C%20%22icon%22%3A%20%22cloud%22%2C%20%22iconColor%22%3A%20%22white%22%2C%20%22markerColor%22%3A%20%22blue%22%2C%20%22prefix%22%3A%20%22glyphicon%22%7D%0A%20%20%20%20%20%20%20%20%20%20%20%20%29%3B%0A%20%20%20%20%20%20%20%20%20%20%20%20marker_5a752212a774433ca9117ca4bbf22a43.setIcon%28icon_965fdf135454454b998b45d280ed3e38%29%3B%0A%20%20%20%20%20%20%20%20%0A%20%20%20%20%0A%20%20%20%20%20%20%20%20%20%20%20%20marker_5a752212a774433ca9117ca4bbf22a43.bindTooltip%28%0A%20%20%20%20%20%20%20%20%20%20%20%20%20%20%20%20%60%3Cdiv%3E%0A%20%20%20%20%20%20%20%20%20%20%20%20%20%20%20%20%20%20%20%20%20PUERTO%20DE%20NAVACERRADA%3A%20%20T%C2%AA%3A%201.8%20C%C2%BA.%20T%C2%AA%20Max%3A%202.2%20C%C2%BA.%20T%C2%AA%20Min%3A%201.5%20C%C2%BA.%0A%20%20%20%20%20%20%20%20%20%20%20%20%20%20%20%20%20%3C/div%3E%60%2C%0A%20%20%20%20%20%20%20%20%20%20%20%20%20%20%20%20%7B%22sticky%22%3A%20true%7D%0A%20%20%20%20%20%20%20%20%20%20%20%20%29%3B%0A%20%20%20%20%20%20%20%20%0A%20%20%20%20%0A%20%20%20%20%20%20%20%20%20%20%20%20var%20marker_33b2c811fc46480bb216ab45e2a41fe8%20%3D%20L.marker%28%0A%20%20%20%20%20%20%20%20%20%20%20%20%20%20%20%20%5B40.06714%2C%20-3.546025%5D%2C%0A%20%20%20%20%20%20%20%20%20%20%20%20%20%20%20%20%7B%22radius%22%3A%2010%7D%0A%20%20%20%20%20%20%20%20%20%20%20%20%29.addTo%28map_571c908fc6e64247bde2c783446c399c%29%3B%0A%20%20%20%20%20%20%20%20%0A%20%20%20%20%0A%20%20%20%20%20%20%20%20%20%20%20%20var%20icon_b5c0185c9595436698e2973a14fe90e1%20%3D%20L.AwesomeMarkers.icon%28%0A%20%20%20%20%20%20%20%20%20%20%20%20%20%20%20%20%7B%22extraClasses%22%3A%20%22fa-rotate-0%22%2C%20%22icon%22%3A%20%22cloud%22%2C%20%22iconColor%22%3A%20%22white%22%2C%20%22markerColor%22%3A%20%22red%22%2C%20%22prefix%22%3A%20%22glyphicon%22%7D%0A%20%20%20%20%20%20%20%20%20%20%20%20%29%3B%0A%20%20%20%20%20%20%20%20%20%20%20%20marker_33b2c811fc46480bb216ab45e2a41fe8.setIcon%28icon_b5c0185c9595436698e2973a14fe90e1%29%3B%0A%20%20%20%20%20%20%20%20%0A%20%20%20%20%0A%20%20%20%20%20%20%20%20%20%20%20%20marker_33b2c811fc46480bb216ab45e2a41fe8.bindTooltip%28%0A%20%20%20%20%20%20%20%20%20%20%20%20%20%20%20%20%60%3Cdiv%3E%0A%20%20%20%20%20%20%20%20%20%20%20%20%20%20%20%20%20%20%20%20%20ARANJUEZ%3A%20%20T%C2%AA%3A%208.7%20C%C2%BA.%20T%C2%AA%20Max%3A%209.3%20C%C2%BA.%20T%C2%AA%20Min%3A%208.2%20C%C2%BA.%0A%20%20%20%20%20%20%20%20%20%20%20%20%20%20%20%20%20%3C/div%3E%60%2C%0A%20%20%20%20%20%20%20%20%20%20%20%20%20%20%20%20%7B%22sticky%22%3A%20true%7D%0A%20%20%20%20%20%20%20%20%20%20%20%20%29%3B%0A%20%20%20%20%20%20%20%20%0A%20%20%20%20%0A%20%20%20%20%20%20%20%20%20%20%20%20var%20marker_7132020742b149b689d79561ae993f9f%20%3D%20L.marker%28%0A%20%20%20%20%20%20%20%20%20%20%20%20%20%20%20%20%5B41.006985%2C%20-3.613809%5D%2C%0A%20%20%20%20%20%20%20%20%20%20%20%20%20%20%20%20%7B%22radius%22%3A%2010%7D%0A%20%20%20%20%20%20%20%20%20%20%20%20%29.addTo%28map_571c908fc6e64247bde2c783446c399c%29%3B%0A%20%20%20%20%20%20%20%20%0A%20%20%20%20%0A%20%20%20%20%20%20%20%20%20%20%20%20var%20icon_9682fc1c7afd4fdbb6db65bc27071410%20%3D%20L.AwesomeMarkers.icon%28%0A%20%20%20%20%20%20%20%20%20%20%20%20%20%20%20%20%7B%22extraClasses%22%3A%20%22fa-rotate-0%22%2C%20%22icon%22%3A%20%22cloud%22%2C%20%22iconColor%22%3A%20%22white%22%2C%20%22markerColor%22%3A%20%22orange%22%2C%20%22prefix%22%3A%20%22glyphicon%22%7D%0A%20%20%20%20%20%20%20%20%20%20%20%20%29%3B%0A%20%20%20%20%20%20%20%20%20%20%20%20marker_7132020742b149b689d79561ae993f9f.setIcon%28icon_9682fc1c7afd4fdbb6db65bc27071410%29%3B%0A%20%20%20%20%20%20%20%20%0A%20%20%20%20%0A%20%20%20%20%20%20%20%20%20%20%20%20marker_7132020742b149b689d79561ae993f9f.bindTooltip%28%0A%20%20%20%20%20%20%20%20%20%20%20%20%20%20%20%20%60%3Cdiv%3E%0A%20%20%20%20%20%20%20%20%20%20%20%20%20%20%20%20%20%20%20%20%20BUITRAGO%20DEL%20LOZOYA%3A%20%20T%C2%AA%3A%206.8%20C%C2%BA.%20T%C2%AA%20Max%3A%207.4%20C%C2%BA.%20T%C2%AA%20Min%3A%206.4%20C%C2%BA.%0A%20%20%20%20%20%20%20%20%20%20%20%20%20%20%20%20%20%3C/div%3E%60%2C%0A%20%20%20%20%20%20%20%20%20%20%20%20%20%20%20%20%7B%22sticky%22%3A%20true%7D%0A%20%20%20%20%20%20%20%20%20%20%20%20%29%3B%0A%20%20%20%20%20%20%20%20%0A%20%20%20%20%0A%20%20%20%20%20%20%20%20%20%20%20%20var%20marker_2549283653594aa98aa319fa961d6834%20%3D%20L.marker%28%0A%20%20%20%20%20%20%20%20%20%20%20%20%20%20%20%20%5B41.135685%2C%20-3.580467%5D%2C%0A%20%20%20%20%20%20%20%20%20%20%20%20%20%20%20%20%7B%22radius%22%3A%2010%7D%0A%20%20%20%20%20%20%20%20%20%20%20%20%29.addTo%28map_571c908fc6e64247bde2c783446c399c%29%3B%0A%20%20%20%20%20%20%20%20%0A%20%20%20%20%0A%20%20%20%20%20%20%20%20%20%20%20%20var%20icon_4dde9e00fc7346cf8321872fbb7f195c%20%3D%20L.AwesomeMarkers.icon%28%0A%20%20%20%20%20%20%20%20%20%20%20%20%20%20%20%20%7B%22extraClasses%22%3A%20%22fa-rotate-0%22%2C%20%22icon%22%3A%20%22cloud%22%2C%20%22iconColor%22%3A%20%22white%22%2C%20%22markerColor%22%3A%20%22blue%22%2C%20%22prefix%22%3A%20%22glyphicon%22%7D%0A%20%20%20%20%20%20%20%20%20%20%20%20%29%3B%0A%20%20%20%20%20%20%20%20%20%20%20%20marker_2549283653594aa98aa319fa961d6834.setIcon%28icon_4dde9e00fc7346cf8321872fbb7f195c%29%3B%0A%20%20%20%20%20%20%20%20%0A%20%20%20%20%0A%20%20%20%20%20%20%20%20%20%20%20%20marker_2549283653594aa98aa319fa961d6834.bindTooltip%28%0A%20%20%20%20%20%20%20%20%20%20%20%20%20%20%20%20%60%3Cdiv%3E%0A%20%20%20%20%20%20%20%20%20%20%20%20%20%20%20%20%20%20%20%20%20SOMOSIERRA%3A%20%20T%C2%AA%3A%203.8%20C%C2%BA.%20T%C2%AA%20Max%3A%204.3%20C%C2%BA.%20T%C2%AA%20Min%3A%203.4%20C%C2%BA.%0A%20%20%20%20%20%20%20%20%20%20%20%20%20%20%20%20%20%3C/div%3E%60%2C%0A%20%20%20%20%20%20%20%20%20%20%20%20%20%20%20%20%7B%22sticky%22%3A%20true%7D%0A%20%20%20%20%20%20%20%20%20%20%20%20%29%3B%0A%20%20%20%20%20%20%20%20%0A%20%20%20%20%0A%20%20%20%20%20%20%20%20%20%20%20%20var%20marker_cccc7f74f3d94ac483b5dd1ea816aa57%20%3D%20L.marker%28%0A%20%20%20%20%20%20%20%20%20%20%20%20%20%20%20%20%5B40.46656%2C%20-3.555593%5D%2C%0A%20%20%20%20%20%20%20%20%20%20%20%20%20%20%20%20%7B%22radius%22%3A%2010%7D%0A%20%20%20%20%20%20%20%20%20%20%20%20%29.addTo%28map_571c908fc6e64247bde2c783446c399c%29%3B%0A%20%20%20%20%20%20%20%20%0A%20%20%20%20%0A%20%20%20%20%20%20%20%20%20%20%20%20var%20icon_14d82a43cbb54efbb00a193252faca49%20%3D%20L.AwesomeMarkers.icon%28%0A%20%20%20%20%20%20%20%20%20%20%20%20%20%20%20%20%7B%22extraClasses%22%3A%20%22fa-rotate-0%22%2C%20%22icon%22%3A%20%22cloud%22%2C%20%22iconColor%22%3A%20%22white%22%2C%20%22markerColor%22%3A%20%22red%22%2C%20%22prefix%22%3A%20%22glyphicon%22%7D%0A%20%20%20%20%20%20%20%20%20%20%20%20%29%3B%0A%20%20%20%20%20%20%20%20%20%20%20%20marker_cccc7f74f3d94ac483b5dd1ea816aa57.setIcon%28icon_14d82a43cbb54efbb00a193252faca49%29%3B%0A%20%20%20%20%20%20%20%20%0A%20%20%20%20%0A%20%20%20%20%20%20%20%20%20%20%20%20marker_cccc7f74f3d94ac483b5dd1ea816aa57.bindTooltip%28%0A%20%20%20%20%20%20%20%20%20%20%20%20%20%20%20%20%60%3Cdiv%3E%0A%20%20%20%20%20%20%20%20%20%20%20%20%20%20%20%20%20%20%20%20%20MADRID%20AEROPUERTO%3A%20%20T%C2%AA%3A%208.9%20C%C2%BA.%20T%C2%AA%20Max%3A%209.5%20C%C2%BA.%20T%C2%AA%20Min%3A%208.5%20C%C2%BA.%0A%20%20%20%20%20%20%20%20%20%20%20%20%20%20%20%20%20%3C/div%3E%60%2C%0A%20%20%20%20%20%20%20%20%20%20%20%20%20%20%20%20%7B%22sticky%22%3A%20true%7D%0A%20%20%20%20%20%20%20%20%20%20%20%20%29%3B%0A%20%20%20%20%20%20%20%20%0A%20%20%20%20%0A%20%20%20%20%20%20%20%20%20%20%20%20var%20marker_e57a1a7b2bed4abf9ab2c71b688fac10%20%3D%20L.marker%28%0A%20%20%20%20%20%20%20%20%20%20%20%20%20%20%20%20%5B40.696068%2C%20-3.765135%5D%2C%0A%20%20%20%20%20%20%20%20%20%20%20%20%20%20%20%20%7B%22radius%22%3A%2010%7D%0A%20%20%20%20%20%20%20%20%20%20%20%20%29.addTo%28map_571c908fc6e64247bde2c783446c399c%29%3B%0A%20%20%20%20%20%20%20%20%0A%20%20%20%20%0A%20%20%20%20%20%20%20%20%20%20%20%20var%20icon_0639402e2f1a4185b87693dbd34ea8b5%20%3D%20L.AwesomeMarkers.icon%28%0A%20%20%20%20%20%20%20%20%20%20%20%20%20%20%20%20%7B%22extraClasses%22%3A%20%22fa-rotate-0%22%2C%20%22icon%22%3A%20%22cloud%22%2C%20%22iconColor%22%3A%20%22white%22%2C%20%22markerColor%22%3A%20%22orange%22%2C%20%22prefix%22%3A%20%22glyphicon%22%7D%0A%20%20%20%20%20%20%20%20%20%20%20%20%29%3B%0A%20%20%20%20%20%20%20%20%20%20%20%20marker_e57a1a7b2bed4abf9ab2c71b688fac10.setIcon%28icon_0639402e2f1a4185b87693dbd34ea8b5%29%3B%0A%20%20%20%20%20%20%20%20%0A%20%20%20%20%0A%20%20%20%20%20%20%20%20%20%20%20%20marker_e57a1a7b2bed4abf9ab2c71b688fac10.bindTooltip%28%0A%20%20%20%20%20%20%20%20%20%20%20%20%20%20%20%20%60%3Cdiv%3E%0A%20%20%20%20%20%20%20%20%20%20%20%20%20%20%20%20%20%20%20%20%20COLMENAR%20VIEJO%3A%20%20T%C2%AA%3A%206.4%20C%C2%BA.%20T%C2%AA%20Max%3A%206.8%20C%C2%BA.%20T%C2%AA%20Min%3A%206.0%20C%C2%BA.%0A%20%20%20%20%20%20%20%20%20%20%20%20%20%20%20%20%20%3C/div%3E%60%2C%0A%20%20%20%20%20%20%20%20%20%20%20%20%20%20%20%20%7B%22sticky%22%3A%20true%7D%0A%20%20%20%20%20%20%20%20%20%20%20%20%29%3B%0A%20%20%20%20%20%20%20%20%0A%20%20%20%20%0A%20%20%20%20%20%20%20%20%20%20%20%20var%20marker_6b09f0c55a994caab994ec486a325523%20%3D%20L.marker%28%0A%20%20%20%20%20%20%20%20%20%20%20%20%20%20%20%20%5B40.411804%2C%20-3.678095%5D%2C%0A%20%20%20%20%20%20%20%20%20%20%20%20%20%20%20%20%7B%22radius%22%3A%2010%7D%0A%20%20%20%20%20%20%20%20%20%20%20%20%29.addTo%28map_571c908fc6e64247bde2c783446c399c%29%3B%0A%20%20%20%20%20%20%20%20%0A%20%20%20%20%0A%20%20%20%20%20%20%20%20%20%20%20%20var%20icon_78aa4da5c8d6462595108dfdc17623e9%20%3D%20L.AwesomeMarkers.icon%28%0A%20%20%20%20%20%20%20%20%20%20%20%20%20%20%20%20%7B%22extraClasses%22%3A%20%22fa-rotate-0%22%2C%20%22icon%22%3A%20%22cloud%22%2C%20%22iconColor%22%3A%20%22white%22%2C%20%22markerColor%22%3A%20%22red%22%2C%20%22prefix%22%3A%20%22glyphicon%22%7D%0A%20%20%20%20%20%20%20%20%20%20%20%20%29%3B%0A%20%20%20%20%20%20%20%20%20%20%20%20marker_6b09f0c55a994caab994ec486a325523.setIcon%28icon_78aa4da5c8d6462595108dfdc17623e9%29%3B%0A%20%20%20%20%20%20%20%20%0A%20%20%20%20%0A%20%20%20%20%20%20%20%20%20%20%20%20marker_6b09f0c55a994caab994ec486a325523.bindTooltip%28%0A%20%20%20%20%20%20%20%20%20%20%20%20%20%20%20%20%60%3Cdiv%3E%0A%20%20%20%20%20%20%20%20%20%20%20%20%20%20%20%20%20%20%20%20%20MADRID%2C%20RETIRO%3A%20%20T%C2%AA%3A%209.4%20C%C2%BA.%20T%C2%AA%20Max%3A%209.7%20C%C2%BA.%20T%C2%AA%20Min%3A%209.1%20C%C2%BA.%0A%20%20%20%20%20%20%20%20%20%20%20%20%20%20%20%20%20%3C/div%3E%60%2C%0A%20%20%20%20%20%20%20%20%20%20%20%20%20%20%20%20%7B%22sticky%22%3A%20true%7D%0A%20%20%20%20%20%20%20%20%20%20%20%20%29%3B%0A%20%20%20%20%20%20%20%20%0A%20%20%20%20%0A%20%20%20%20%20%20%20%20%20%20%20%20var%20marker_0123caeaf657474c9c68d56902a6cca4%20%3D%20L.marker%28%0A%20%20%20%20%20%20%20%20%20%20%20%20%20%20%20%20%5B40.42775%2C%20-4.249927%5D%2C%0A%20%20%20%20%20%20%20%20%20%20%20%20%20%20%20%20%7B%22radius%22%3A%2010%7D%0A%20%20%20%20%20%20%20%20%20%20%20%20%29.addTo%28map_571c908fc6e64247bde2c783446c399c%29%3B%0A%20%20%20%20%20%20%20%20%0A%20%20%20%20%0A%20%20%20%20%20%20%20%20%20%20%20%20var%20icon_b52f21fba25d4e4bad9e02bb695da1b0%20%3D%20L.AwesomeMarkers.icon%28%0A%20%20%20%20%20%20%20%20%20%20%20%20%20%20%20%20%7B%22extraClasses%22%3A%20%22fa-rotate-0%22%2C%20%22icon%22%3A%20%22cloud%22%2C%20%22iconColor%22%3A%20%22white%22%2C%20%22markerColor%22%3A%20%22red%22%2C%20%22prefix%22%3A%20%22glyphicon%22%7D%0A%20%20%20%20%20%20%20%20%20%20%20%20%29%3B%0A%20%20%20%20%20%20%20%20%20%20%20%20marker_0123caeaf657474c9c68d56902a6cca4.setIcon%28icon_b52f21fba25d4e4bad9e02bb695da1b0%29%3B%0A%20%20%20%20%20%20%20%20%0A%20%20%20%20%0A%20%20%20%20%20%20%20%20%20%20%20%20marker_0123caeaf657474c9c68d56902a6cca4.bindTooltip%28%0A%20%20%20%20%20%20%20%20%20%20%20%20%20%20%20%20%60%3Cdiv%3E%0A%20%20%20%20%20%20%20%20%20%20%20%20%20%20%20%20%20%20%20%20%20ROBLEDO%20DE%20CHAVELA%3A%20%20T%C2%AA%3A%207.5%20C%C2%BA.%20T%C2%AA%20Max%3A%208.2%20C%C2%BA.%20T%C2%AA%20Min%3A%207.0%20C%C2%BA.%0A%20%20%20%20%20%20%20%20%20%20%20%20%20%20%20%20%20%3C/div%3E%60%2C%0A%20%20%20%20%20%20%20%20%20%20%20%20%20%20%20%20%7B%22sticky%22%3A%20true%7D%0A%20%20%20%20%20%20%20%20%20%20%20%20%29%3B%0A%20%20%20%20%20%20%20%20%0A%20%20%20%20%0A%20%20%20%20%20%20%20%20%20%20%20%20var%20marker_833f03c722a240d5b1142f68a05eb2f5%20%3D%20L.marker%28%0A%20%20%20%20%20%20%20%20%20%20%20%20%20%20%20%20%5B40.793056%2C%20-4.010556%5D%2C%0A%20%20%20%20%20%20%20%20%20%20%20%20%20%20%20%20%7B%22radius%22%3A%2010%7D%0A%20%20%20%20%20%20%20%20%20%20%20%20%29.addTo%28map_571c908fc6e64247bde2c783446c399c%29%3B%0A%20%20%20%20%20%20%20%20%0A%20%20%20%20%0A%20%20%20%20%20%20%20%20%20%20%20%20var%20icon_d169cb29961f4e84b79d80162dc8fc1e%20%3D%20L.AwesomeMarkers.icon%28%0A%20%20%20%20%20%20%20%20%20%20%20%20%20%20%20%20%7B%22extraClasses%22%3A%20%22fa-rotate-0%22%2C%20%22icon%22%3A%20%22cloud%22%2C%20%22iconColor%22%3A%20%22white%22%2C%20%22markerColor%22%3A%20%22blue%22%2C%20%22prefix%22%3A%20%22glyphicon%22%7D%0A%20%20%20%20%20%20%20%20%20%20%20%20%29%3B%0A%20%20%20%20%20%20%20%20%20%20%20%20marker_833f03c722a240d5b1142f68a05eb2f5.setIcon%28icon_d169cb29961f4e84b79d80162dc8fc1e%29%3B%0A%20%20%20%20%20%20%20%20%0A%20%20%20%20%0A%20%20%20%20%20%20%20%20%20%20%20%20marker_833f03c722a240d5b1142f68a05eb2f5.bindTooltip%28%0A%20%20%20%20%20%20%20%20%20%20%20%20%20%20%20%20%60%3Cdiv%3E%0A%20%20%20%20%20%20%20%20%20%20%20%20%20%20%20%20%20%20%20%20%20PUERTO%20DE%20NAVACERRADA%3A%20%20T%C2%AA%3A%201.8%20C%C2%BA.%20T%C2%AA%20Max%3A%202.2%20C%C2%BA.%20T%C2%AA%20Min%3A%201.5%20C%C2%BA.%0A%20%20%20%20%20%20%20%20%20%20%20%20%20%20%20%20%20%3C/div%3E%60%2C%0A%20%20%20%20%20%20%20%20%20%20%20%20%20%20%20%20%7B%22sticky%22%3A%20true%7D%0A%20%20%20%20%20%20%20%20%20%20%20%20%29%3B%0A%20%20%20%20%20%20%20%20%0A%20%20%20%20%0A%20%20%20%20%20%20%20%20%20%20%20%20var%20marker_0ce3f6b2154a4cfbbb4fbc87b5deb437%20%3D%20L.marker%28%0A%20%20%20%20%20%20%20%20%20%20%20%20%20%20%20%20%5B40.06714%2C%20-3.546025%5D%2C%0A%20%20%20%20%20%20%20%20%20%20%20%20%20%20%20%20%7B%22radius%22%3A%2010%7D%0A%20%20%20%20%20%20%20%20%20%20%20%20%29.addTo%28map_571c908fc6e64247bde2c783446c399c%29%3B%0A%20%20%20%20%20%20%20%20%0A%20%20%20%20%0A%20%20%20%20%20%20%20%20%20%20%20%20var%20icon_8f570dae7414496fa548734b8778601e%20%3D%20L.AwesomeMarkers.icon%28%0A%20%20%20%20%20%20%20%20%20%20%20%20%20%20%20%20%7B%22extraClasses%22%3A%20%22fa-rotate-0%22%2C%20%22icon%22%3A%20%22cloud%22%2C%20%22iconColor%22%3A%20%22white%22%2C%20%22markerColor%22%3A%20%22red%22%2C%20%22prefix%22%3A%20%22glyphicon%22%7D%0A%20%20%20%20%20%20%20%20%20%20%20%20%29%3B%0A%20%20%20%20%20%20%20%20%20%20%20%20marker_0ce3f6b2154a4cfbbb4fbc87b5deb437.setIcon%28icon_8f570dae7414496fa548734b8778601e%29%3B%0A%20%20%20%20%20%20%20%20%0A%20%20%20%20%0A%20%20%20%20%20%20%20%20%20%20%20%20marker_0ce3f6b2154a4cfbbb4fbc87b5deb437.bindTooltip%28%0A%20%20%20%20%20%20%20%20%20%20%20%20%20%20%20%20%60%3Cdiv%3E%0A%20%20%20%20%20%20%20%20%20%20%20%20%20%20%20%20%20%20%20%20%20ARANJUEZ%3A%20%20T%C2%AA%3A%208.7%20C%C2%BA.%20T%C2%AA%20Max%3A%209.3%20C%C2%BA.%20T%C2%AA%20Min%3A%208.2%20C%C2%BA.%0A%20%20%20%20%20%20%20%20%20%20%20%20%20%20%20%20%20%3C/div%3E%60%2C%0A%20%20%20%20%20%20%20%20%20%20%20%20%20%20%20%20%7B%22sticky%22%3A%20true%7D%0A%20%20%20%20%20%20%20%20%20%20%20%20%29%3B%0A%20%20%20%20%20%20%20%20%0A%20%20%20%20%0A%20%20%20%20%20%20%20%20%20%20%20%20var%20marker_39bd1778c5054c8db95c97c6cd9789b6%20%3D%20L.marker%28%0A%20%20%20%20%20%20%20%20%20%20%20%20%20%20%20%20%5B41.006985%2C%20-3.613809%5D%2C%0A%20%20%20%20%20%20%20%20%20%20%20%20%20%20%20%20%7B%22radius%22%3A%2010%7D%0A%20%20%20%20%20%20%20%20%20%20%20%20%29.addTo%28map_571c908fc6e64247bde2c783446c399c%29%3B%0A%20%20%20%20%20%20%20%20%0A%20%20%20%20%0A%20%20%20%20%20%20%20%20%20%20%20%20var%20icon_e47b82fc21dc418c81f5d00564770e8d%20%3D%20L.AwesomeMarkers.icon%28%0A%20%20%20%20%20%20%20%20%20%20%20%20%20%20%20%20%7B%22extraClasses%22%3A%20%22fa-rotate-0%22%2C%20%22icon%22%3A%20%22cloud%22%2C%20%22iconColor%22%3A%20%22white%22%2C%20%22markerColor%22%3A%20%22orange%22%2C%20%22prefix%22%3A%20%22glyphicon%22%7D%0A%20%20%20%20%20%20%20%20%20%20%20%20%29%3B%0A%20%20%20%20%20%20%20%20%20%20%20%20marker_39bd1778c5054c8db95c97c6cd9789b6.setIcon%28icon_e47b82fc21dc418c81f5d00564770e8d%29%3B%0A%20%20%20%20%20%20%20%20%0A%20%20%20%20%0A%20%20%20%20%20%20%20%20%20%20%20%20marker_39bd1778c5054c8db95c97c6cd9789b6.bindTooltip%28%0A%20%20%20%20%20%20%20%20%20%20%20%20%20%20%20%20%60%3Cdiv%3E%0A%20%20%20%20%20%20%20%20%20%20%20%20%20%20%20%20%20%20%20%20%20BUITRAGO%20DEL%20LOZOYA%3A%20%20T%C2%AA%3A%206.8%20C%C2%BA.%20T%C2%AA%20Max%3A%207.4%20C%C2%BA.%20T%C2%AA%20Min%3A%206.4%20C%C2%BA.%0A%20%20%20%20%20%20%20%20%20%20%20%20%20%20%20%20%20%3C/div%3E%60%2C%0A%20%20%20%20%20%20%20%20%20%20%20%20%20%20%20%20%7B%22sticky%22%3A%20true%7D%0A%20%20%20%20%20%20%20%20%20%20%20%20%29%3B%0A%20%20%20%20%20%20%20%20%0A%20%20%20%20%0A%20%20%20%20%20%20%20%20%20%20%20%20var%20marker_eeec1c6af3ac4543b95907cb77932c31%20%3D%20L.marker%28%0A%20%20%20%20%20%20%20%20%20%20%20%20%20%20%20%20%5B41.135685%2C%20-3.580467%5D%2C%0A%20%20%20%20%20%20%20%20%20%20%20%20%20%20%20%20%7B%22radius%22%3A%2010%7D%0A%20%20%20%20%20%20%20%20%20%20%20%20%29.addTo%28map_571c908fc6e64247bde2c783446c399c%29%3B%0A%20%20%20%20%20%20%20%20%0A%20%20%20%20%0A%20%20%20%20%20%20%20%20%20%20%20%20var%20icon_d713ea78ccb8433988a199bb2b7a567a%20%3D%20L.AwesomeMarkers.icon%28%0A%20%20%20%20%20%20%20%20%20%20%20%20%20%20%20%20%7B%22extraClasses%22%3A%20%22fa-rotate-0%22%2C%20%22icon%22%3A%20%22cloud%22%2C%20%22iconColor%22%3A%20%22white%22%2C%20%22markerColor%22%3A%20%22blue%22%2C%20%22prefix%22%3A%20%22glyphicon%22%7D%0A%20%20%20%20%20%20%20%20%20%20%20%20%29%3B%0A%20%20%20%20%20%20%20%20%20%20%20%20marker_eeec1c6af3ac4543b95907cb77932c31.setIcon%28icon_d713ea78ccb8433988a199bb2b7a567a%29%3B%0A%20%20%20%20%20%20%20%20%0A%20%20%20%20%0A%20%20%20%20%20%20%20%20%20%20%20%20marker_eeec1c6af3ac4543b95907cb77932c31.bindTooltip%28%0A%20%20%20%20%20%20%20%20%20%20%20%20%20%20%20%20%60%3Cdiv%3E%0A%20%20%20%20%20%20%20%20%20%20%20%20%20%20%20%20%20%20%20%20%20SOMOSIERRA%3A%20%20T%C2%AA%3A%203.8%20C%C2%BA.%20T%C2%AA%20Max%3A%204.3%20C%C2%BA.%20T%C2%AA%20Min%3A%203.4%20C%C2%BA.%0A%20%20%20%20%20%20%20%20%20%20%20%20%20%20%20%20%20%3C/div%3E%60%2C%0A%20%20%20%20%20%20%20%20%20%20%20%20%20%20%20%20%7B%22sticky%22%3A%20true%7D%0A%20%20%20%20%20%20%20%20%20%20%20%20%29%3B%0A%20%20%20%20%20%20%20%20%0A%20%20%20%20%0A%20%20%20%20%20%20%20%20%20%20%20%20var%20marker_f0b8cf3afaed467d8066ae0b90867bd6%20%3D%20L.marker%28%0A%20%20%20%20%20%20%20%20%20%20%20%20%20%20%20%20%5B40.46656%2C%20-3.555593%5D%2C%0A%20%20%20%20%20%20%20%20%20%20%20%20%20%20%20%20%7B%22radius%22%3A%2010%7D%0A%20%20%20%20%20%20%20%20%20%20%20%20%29.addTo%28map_571c908fc6e64247bde2c783446c399c%29%3B%0A%20%20%20%20%20%20%20%20%0A%20%20%20%20%0A%20%20%20%20%20%20%20%20%20%20%20%20var%20icon_65bd3ddb30474eadbb3f1ff6a1ce36d4%20%3D%20L.AwesomeMarkers.icon%28%0A%20%20%20%20%20%20%20%20%20%20%20%20%20%20%20%20%7B%22extraClasses%22%3A%20%22fa-rotate-0%22%2C%20%22icon%22%3A%20%22cloud%22%2C%20%22iconColor%22%3A%20%22white%22%2C%20%22markerColor%22%3A%20%22red%22%2C%20%22prefix%22%3A%20%22glyphicon%22%7D%0A%20%20%20%20%20%20%20%20%20%20%20%20%29%3B%0A%20%20%20%20%20%20%20%20%20%20%20%20marker_f0b8cf3afaed467d8066ae0b90867bd6.setIcon%28icon_65bd3ddb30474eadbb3f1ff6a1ce36d4%29%3B%0A%20%20%20%20%20%20%20%20%0A%20%20%20%20%0A%20%20%20%20%20%20%20%20%20%20%20%20marker_f0b8cf3afaed467d8066ae0b90867bd6.bindTooltip%28%0A%20%20%20%20%20%20%20%20%20%20%20%20%20%20%20%20%60%3Cdiv%3E%0A%20%20%20%20%20%20%20%20%20%20%20%20%20%20%20%20%20%20%20%20%20MADRID%20AEROPUERTO%3A%20%20T%C2%AA%3A%208.9%20C%C2%BA.%20T%C2%AA%20Max%3A%209.5%20C%C2%BA.%20T%C2%AA%20Min%3A%208.5%20C%C2%BA.%0A%20%20%20%20%20%20%20%20%20%20%20%20%20%20%20%20%20%3C/div%3E%60%2C%0A%20%20%20%20%20%20%20%20%20%20%20%20%20%20%20%20%7B%22sticky%22%3A%20true%7D%0A%20%20%20%20%20%20%20%20%20%20%20%20%29%3B%0A%20%20%20%20%20%20%20%20%0A%20%20%20%20%0A%20%20%20%20%20%20%20%20%20%20%20%20var%20marker_497de9b893ee41db90fd24ad1e8165dd%20%3D%20L.marker%28%0A%20%20%20%20%20%20%20%20%20%20%20%20%20%20%20%20%5B40.696068%2C%20-3.765135%5D%2C%0A%20%20%20%20%20%20%20%20%20%20%20%20%20%20%20%20%7B%22radius%22%3A%2010%7D%0A%20%20%20%20%20%20%20%20%20%20%20%20%29.addTo%28map_571c908fc6e64247bde2c783446c399c%29%3B%0A%20%20%20%20%20%20%20%20%0A%20%20%20%20%0A%20%20%20%20%20%20%20%20%20%20%20%20var%20icon_59e0385e9b694d99ae4d70365ed55351%20%3D%20L.AwesomeMarkers.icon%28%0A%20%20%20%20%20%20%20%20%20%20%20%20%20%20%20%20%7B%22extraClasses%22%3A%20%22fa-rotate-0%22%2C%20%22icon%22%3A%20%22cloud%22%2C%20%22iconColor%22%3A%20%22white%22%2C%20%22markerColor%22%3A%20%22orange%22%2C%20%22prefix%22%3A%20%22glyphicon%22%7D%0A%20%20%20%20%20%20%20%20%20%20%20%20%29%3B%0A%20%20%20%20%20%20%20%20%20%20%20%20marker_497de9b893ee41db90fd24ad1e8165dd.setIcon%28icon_59e0385e9b694d99ae4d70365ed55351%29%3B%0A%20%20%20%20%20%20%20%20%0A%20%20%20%20%0A%20%20%20%20%20%20%20%20%20%20%20%20marker_497de9b893ee41db90fd24ad1e8165dd.bindTooltip%28%0A%20%20%20%20%20%20%20%20%20%20%20%20%20%20%20%20%60%3Cdiv%3E%0A%20%20%20%20%20%20%20%20%20%20%20%20%20%20%20%20%20%20%20%20%20COLMENAR%20VIEJO%3A%20%20T%C2%AA%3A%206.4%20C%C2%BA.%20T%C2%AA%20Max%3A%206.8%20C%C2%BA.%20T%C2%AA%20Min%3A%206.0%20C%C2%BA.%0A%20%20%20%20%20%20%20%20%20%20%20%20%20%20%20%20%20%3C/div%3E%60%2C%0A%20%20%20%20%20%20%20%20%20%20%20%20%20%20%20%20%7B%22sticky%22%3A%20true%7D%0A%20%20%20%20%20%20%20%20%20%20%20%20%29%3B%0A%20%20%20%20%20%20%20%20%0A%20%20%20%20%0A%20%20%20%20%20%20%20%20%20%20%20%20var%20marker_882d06db51b24af6b33afb8e646df9bf%20%3D%20L.marker%28%0A%20%20%20%20%20%20%20%20%20%20%20%20%20%20%20%20%5B40.411804%2C%20-3.678095%5D%2C%0A%20%20%20%20%20%20%20%20%20%20%20%20%20%20%20%20%7B%22radius%22%3A%2010%7D%0A%20%20%20%20%20%20%20%20%20%20%20%20%29.addTo%28map_571c908fc6e64247bde2c783446c399c%29%3B%0A%20%20%20%20%20%20%20%20%0A%20%20%20%20%0A%20%20%20%20%20%20%20%20%20%20%20%20var%20icon_d2f74c5165c24f0588fafd0f36cad434%20%3D%20L.AwesomeMarkers.icon%28%0A%20%20%20%20%20%20%20%20%20%20%20%20%20%20%20%20%7B%22extraClasses%22%3A%20%22fa-rotate-0%22%2C%20%22icon%22%3A%20%22cloud%22%2C%20%22iconColor%22%3A%20%22white%22%2C%20%22markerColor%22%3A%20%22red%22%2C%20%22prefix%22%3A%20%22glyphicon%22%7D%0A%20%20%20%20%20%20%20%20%20%20%20%20%29%3B%0A%20%20%20%20%20%20%20%20%20%20%20%20marker_882d06db51b24af6b33afb8e646df9bf.setIcon%28icon_d2f74c5165c24f0588fafd0f36cad434%29%3B%0A%20%20%20%20%20%20%20%20%0A%20%20%20%20%0A%20%20%20%20%20%20%20%20%20%20%20%20marker_882d06db51b24af6b33afb8e646df9bf.bindTooltip%28%0A%20%20%20%20%20%20%20%20%20%20%20%20%20%20%20%20%60%3Cdiv%3E%0A%20%20%20%20%20%20%20%20%20%20%20%20%20%20%20%20%20%20%20%20%20MADRID%2C%20RETIRO%3A%20%20T%C2%AA%3A%209.4%20C%C2%BA.%20T%C2%AA%20Max%3A%209.7%20C%C2%BA.%20T%C2%AA%20Min%3A%209.1%20C%C2%BA.%0A%20%20%20%20%20%20%20%20%20%20%20%20%20%20%20%20%20%3C/div%3E%60%2C%0A%20%20%20%20%20%20%20%20%20%20%20%20%20%20%20%20%7B%22sticky%22%3A%20true%7D%0A%20%20%20%20%20%20%20%20%20%20%20%20%29%3B%0A%20%20%20%20%20%20%20%20%0A%20%20%20%20%0A%20%20%20%20%20%20%20%20%20%20%20%20var%20marker_8d1ebfce11b84ab0ab049a7053e0d2eb%20%3D%20L.marker%28%0A%20%20%20%20%20%20%20%20%20%20%20%20%20%20%20%20%5B40.42775%2C%20-4.249927%5D%2C%0A%20%20%20%20%20%20%20%20%20%20%20%20%20%20%20%20%7B%22radius%22%3A%2010%7D%0A%20%20%20%20%20%20%20%20%20%20%20%20%29.addTo%28map_571c908fc6e64247bde2c783446c399c%29%3B%0A%20%20%20%20%20%20%20%20%0A%20%20%20%20%0A%20%20%20%20%20%20%20%20%20%20%20%20var%20icon_2e0d38c5b6f64c34a5c27cbe6ba54842%20%3D%20L.AwesomeMarkers.icon%28%0A%20%20%20%20%20%20%20%20%20%20%20%20%20%20%20%20%7B%22extraClasses%22%3A%20%22fa-rotate-0%22%2C%20%22icon%22%3A%20%22cloud%22%2C%20%22iconColor%22%3A%20%22white%22%2C%20%22markerColor%22%3A%20%22red%22%2C%20%22prefix%22%3A%20%22glyphicon%22%7D%0A%20%20%20%20%20%20%20%20%20%20%20%20%29%3B%0A%20%20%20%20%20%20%20%20%20%20%20%20marker_8d1ebfce11b84ab0ab049a7053e0d2eb.setIcon%28icon_2e0d38c5b6f64c34a5c27cbe6ba54842%29%3B%0A%20%20%20%20%20%20%20%20%0A%20%20%20%20%0A%20%20%20%20%20%20%20%20%20%20%20%20marker_8d1ebfce11b84ab0ab049a7053e0d2eb.bindTooltip%28%0A%20%20%20%20%20%20%20%20%20%20%20%20%20%20%20%20%60%3Cdiv%3E%0A%20%20%20%20%20%20%20%20%20%20%20%20%20%20%20%20%20%20%20%20%20ROBLEDO%20DE%20CHAVELA%3A%20%20T%C2%AA%3A%207.5%20C%C2%BA.%20T%C2%AA%20Max%3A%208.2%20C%C2%BA.%20T%C2%AA%20Min%3A%207.0%20C%C2%BA.%0A%20%20%20%20%20%20%20%20%20%20%20%20%20%20%20%20%20%3C/div%3E%60%2C%0A%20%20%20%20%20%20%20%20%20%20%20%20%20%20%20%20%7B%22sticky%22%3A%20true%7D%0A%20%20%20%20%20%20%20%20%20%20%20%20%29%3B%0A%20%20%20%20%20%20%20%20%0A%20%20%20%20%0A%20%20%20%20%20%20%20%20%20%20%20%20var%20marker_b7f9bf6d5e974699a4f94d040ee56c1a%20%3D%20L.marker%28%0A%20%20%20%20%20%20%20%20%20%20%20%20%20%20%20%20%5B40.793056%2C%20-4.010556%5D%2C%0A%20%20%20%20%20%20%20%20%20%20%20%20%20%20%20%20%7B%22radius%22%3A%2010%7D%0A%20%20%20%20%20%20%20%20%20%20%20%20%29.addTo%28map_571c908fc6e64247bde2c783446c399c%29%3B%0A%20%20%20%20%20%20%20%20%0A%20%20%20%20%0A%20%20%20%20%20%20%20%20%20%20%20%20var%20icon_398734a97fc34c91bb3e09b6783526d4%20%3D%20L.AwesomeMarkers.icon%28%0A%20%20%20%20%20%20%20%20%20%20%20%20%20%20%20%20%7B%22extraClasses%22%3A%20%22fa-rotate-0%22%2C%20%22icon%22%3A%20%22cloud%22%2C%20%22iconColor%22%3A%20%22white%22%2C%20%22markerColor%22%3A%20%22blue%22%2C%20%22prefix%22%3A%20%22glyphicon%22%7D%0A%20%20%20%20%20%20%20%20%20%20%20%20%29%3B%0A%20%20%20%20%20%20%20%20%20%20%20%20marker_b7f9bf6d5e974699a4f94d040ee56c1a.setIcon%28icon_398734a97fc34c91bb3e09b6783526d4%29%3B%0A%20%20%20%20%20%20%20%20%0A%20%20%20%20%0A%20%20%20%20%20%20%20%20%20%20%20%20marker_b7f9bf6d5e974699a4f94d040ee56c1a.bindTooltip%28%0A%20%20%20%20%20%20%20%20%20%20%20%20%20%20%20%20%60%3Cdiv%3E%0A%20%20%20%20%20%20%20%20%20%20%20%20%20%20%20%20%20%20%20%20%20PUERTO%20DE%20NAVACERRADA--%3E%20%20T%C2%AA%3A%201.8%20C%C2%BA.%20T%C2%AA%20Max%3A%202.2%20C%C2%BA.%20T%C2%AA%20Min%3A%201.5%20C%C2%BA.%0A%20%20%20%20%20%20%20%20%20%20%20%20%20%20%20%20%20%3C/div%3E%60%2C%0A%20%20%20%20%20%20%20%20%20%20%20%20%20%20%20%20%7B%22sticky%22%3A%20true%7D%0A%20%20%20%20%20%20%20%20%20%20%20%20%29%3B%0A%20%20%20%20%20%20%20%20%0A%20%20%20%20%0A%20%20%20%20%20%20%20%20%20%20%20%20var%20marker_208602556dd44fa5aba79980028f43dc%20%3D%20L.marker%28%0A%20%20%20%20%20%20%20%20%20%20%20%20%20%20%20%20%5B40.06714%2C%20-3.546025%5D%2C%0A%20%20%20%20%20%20%20%20%20%20%20%20%20%20%20%20%7B%22radius%22%3A%2010%7D%0A%20%20%20%20%20%20%20%20%20%20%20%20%29.addTo%28map_571c908fc6e64247bde2c783446c399c%29%3B%0A%20%20%20%20%20%20%20%20%0A%20%20%20%20%0A%20%20%20%20%20%20%20%20%20%20%20%20var%20icon_b707a4eaee4340fcbade6cb2fac893cc%20%3D%20L.AwesomeMarkers.icon%28%0A%20%20%20%20%20%20%20%20%20%20%20%20%20%20%20%20%7B%22extraClasses%22%3A%20%22fa-rotate-0%22%2C%20%22icon%22%3A%20%22cloud%22%2C%20%22iconColor%22%3A%20%22white%22%2C%20%22markerColor%22%3A%20%22red%22%2C%20%22prefix%22%3A%20%22glyphicon%22%7D%0A%20%20%20%20%20%20%20%20%20%20%20%20%29%3B%0A%20%20%20%20%20%20%20%20%20%20%20%20marker_208602556dd44fa5aba79980028f43dc.setIcon%28icon_b707a4eaee4340fcbade6cb2fac893cc%29%3B%0A%20%20%20%20%20%20%20%20%0A%20%20%20%20%0A%20%20%20%20%20%20%20%20%20%20%20%20marker_208602556dd44fa5aba79980028f43dc.bindTooltip%28%0A%20%20%20%20%20%20%20%20%20%20%20%20%20%20%20%20%60%3Cdiv%3E%0A%20%20%20%20%20%20%20%20%20%20%20%20%20%20%20%20%20%20%20%20%20ARANJUEZ--%3E%20%20T%C2%AA%3A%208.7%20C%C2%BA.%20T%C2%AA%20Max%3A%209.3%20C%C2%BA.%20T%C2%AA%20Min%3A%208.2%20C%C2%BA.%0A%20%20%20%20%20%20%20%20%20%20%20%20%20%20%20%20%20%3C/div%3E%60%2C%0A%20%20%20%20%20%20%20%20%20%20%20%20%20%20%20%20%7B%22sticky%22%3A%20true%7D%0A%20%20%20%20%20%20%20%20%20%20%20%20%29%3B%0A%20%20%20%20%20%20%20%20%0A%20%20%20%20%0A%20%20%20%20%20%20%20%20%20%20%20%20var%20marker_b65cc08b82154512b8efe19d125852a0%20%3D%20L.marker%28%0A%20%20%20%20%20%20%20%20%20%20%20%20%20%20%20%20%5B41.006985%2C%20-3.613809%5D%2C%0A%20%20%20%20%20%20%20%20%20%20%20%20%20%20%20%20%7B%22radius%22%3A%2010%7D%0A%20%20%20%20%20%20%20%20%20%20%20%20%29.addTo%28map_571c908fc6e64247bde2c783446c399c%29%3B%0A%20%20%20%20%20%20%20%20%0A%20%20%20%20%0A%20%20%20%20%20%20%20%20%20%20%20%20var%20icon_ba05e60baf3d415290709d34cf441bc7%20%3D%20L.AwesomeMarkers.icon%28%0A%20%20%20%20%20%20%20%20%20%20%20%20%20%20%20%20%7B%22extraClasses%22%3A%20%22fa-rotate-0%22%2C%20%22icon%22%3A%20%22cloud%22%2C%20%22iconColor%22%3A%20%22white%22%2C%20%22markerColor%22%3A%20%22orange%22%2C%20%22prefix%22%3A%20%22glyphicon%22%7D%0A%20%20%20%20%20%20%20%20%20%20%20%20%29%3B%0A%20%20%20%20%20%20%20%20%20%20%20%20marker_b65cc08b82154512b8efe19d125852a0.setIcon%28icon_ba05e60baf3d415290709d34cf441bc7%29%3B%0A%20%20%20%20%20%20%20%20%0A%20%20%20%20%0A%20%20%20%20%20%20%20%20%20%20%20%20marker_b65cc08b82154512b8efe19d125852a0.bindTooltip%28%0A%20%20%20%20%20%20%20%20%20%20%20%20%20%20%20%20%60%3Cdiv%3E%0A%20%20%20%20%20%20%20%20%20%20%20%20%20%20%20%20%20%20%20%20%20BUITRAGO%20DEL%20LOZOYA--%3E%20%20T%C2%AA%3A%206.8%20C%C2%BA.%20T%C2%AA%20Max%3A%207.4%20C%C2%BA.%20T%C2%AA%20Min%3A%206.4%20C%C2%BA.%0A%20%20%20%20%20%20%20%20%20%20%20%20%20%20%20%20%20%3C/div%3E%60%2C%0A%20%20%20%20%20%20%20%20%20%20%20%20%20%20%20%20%7B%22sticky%22%3A%20true%7D%0A%20%20%20%20%20%20%20%20%20%20%20%20%29%3B%0A%20%20%20%20%20%20%20%20%0A%20%20%20%20%0A%20%20%20%20%20%20%20%20%20%20%20%20var%20marker_a2abd21c93ce445abf661b7ae0bb1beb%20%3D%20L.marker%28%0A%20%20%20%20%20%20%20%20%20%20%20%20%20%20%20%20%5B41.135685%2C%20-3.580467%5D%2C%0A%20%20%20%20%20%20%20%20%20%20%20%20%20%20%20%20%7B%22radius%22%3A%2010%7D%0A%20%20%20%20%20%20%20%20%20%20%20%20%29.addTo%28map_571c908fc6e64247bde2c783446c399c%29%3B%0A%20%20%20%20%20%20%20%20%0A%20%20%20%20%0A%20%20%20%20%20%20%20%20%20%20%20%20var%20icon_81c9b19ca00e4d20ae8936bcb884a08b%20%3D%20L.AwesomeMarkers.icon%28%0A%20%20%20%20%20%20%20%20%20%20%20%20%20%20%20%20%7B%22extraClasses%22%3A%20%22fa-rotate-0%22%2C%20%22icon%22%3A%20%22cloud%22%2C%20%22iconColor%22%3A%20%22white%22%2C%20%22markerColor%22%3A%20%22blue%22%2C%20%22prefix%22%3A%20%22glyphicon%22%7D%0A%20%20%20%20%20%20%20%20%20%20%20%20%29%3B%0A%20%20%20%20%20%20%20%20%20%20%20%20marker_a2abd21c93ce445abf661b7ae0bb1beb.setIcon%28icon_81c9b19ca00e4d20ae8936bcb884a08b%29%3B%0A%20%20%20%20%20%20%20%20%0A%20%20%20%20%0A%20%20%20%20%20%20%20%20%20%20%20%20marker_a2abd21c93ce445abf661b7ae0bb1beb.bindTooltip%28%0A%20%20%20%20%20%20%20%20%20%20%20%20%20%20%20%20%60%3Cdiv%3E%0A%20%20%20%20%20%20%20%20%20%20%20%20%20%20%20%20%20%20%20%20%20SOMOSIERRA--%3E%20%20T%C2%AA%3A%203.8%20C%C2%BA.%20T%C2%AA%20Max%3A%204.3%20C%C2%BA.%20T%C2%AA%20Min%3A%203.4%20C%C2%BA.%0A%20%20%20%20%20%20%20%20%20%20%20%20%20%20%20%20%20%3C/div%3E%60%2C%0A%20%20%20%20%20%20%20%20%20%20%20%20%20%20%20%20%7B%22sticky%22%3A%20true%7D%0A%20%20%20%20%20%20%20%20%20%20%20%20%29%3B%0A%20%20%20%20%20%20%20%20%0A%20%20%20%20%0A%20%20%20%20%20%20%20%20%20%20%20%20var%20marker_db17f1fa66d841628fb1f077b3e2a3cf%20%3D%20L.marker%28%0A%20%20%20%20%20%20%20%20%20%20%20%20%20%20%20%20%5B40.46656%2C%20-3.555593%5D%2C%0A%20%20%20%20%20%20%20%20%20%20%20%20%20%20%20%20%7B%22radius%22%3A%2010%7D%0A%20%20%20%20%20%20%20%20%20%20%20%20%29.addTo%28map_571c908fc6e64247bde2c783446c399c%29%3B%0A%20%20%20%20%20%20%20%20%0A%20%20%20%20%0A%20%20%20%20%20%20%20%20%20%20%20%20var%20icon_ea35ac8ea24c42dd9c04532265d5d9e9%20%3D%20L.AwesomeMarkers.icon%28%0A%20%20%20%20%20%20%20%20%20%20%20%20%20%20%20%20%7B%22extraClasses%22%3A%20%22fa-rotate-0%22%2C%20%22icon%22%3A%20%22cloud%22%2C%20%22iconColor%22%3A%20%22white%22%2C%20%22markerColor%22%3A%20%22red%22%2C%20%22prefix%22%3A%20%22glyphicon%22%7D%0A%20%20%20%20%20%20%20%20%20%20%20%20%29%3B%0A%20%20%20%20%20%20%20%20%20%20%20%20marker_db17f1fa66d841628fb1f077b3e2a3cf.setIcon%28icon_ea35ac8ea24c42dd9c04532265d5d9e9%29%3B%0A%20%20%20%20%20%20%20%20%0A%20%20%20%20%0A%20%20%20%20%20%20%20%20%20%20%20%20marker_db17f1fa66d841628fb1f077b3e2a3cf.bindTooltip%28%0A%20%20%20%20%20%20%20%20%20%20%20%20%20%20%20%20%60%3Cdiv%3E%0A%20%20%20%20%20%20%20%20%20%20%20%20%20%20%20%20%20%20%20%20%20MADRID%20AEROPUERTO--%3E%20%20T%C2%AA%3A%208.9%20C%C2%BA.%20T%C2%AA%20Max%3A%209.5%20C%C2%BA.%20T%C2%AA%20Min%3A%208.5%20C%C2%BA.%0A%20%20%20%20%20%20%20%20%20%20%20%20%20%20%20%20%20%3C/div%3E%60%2C%0A%20%20%20%20%20%20%20%20%20%20%20%20%20%20%20%20%7B%22sticky%22%3A%20true%7D%0A%20%20%20%20%20%20%20%20%20%20%20%20%29%3B%0A%20%20%20%20%20%20%20%20%0A%20%20%20%20%0A%20%20%20%20%20%20%20%20%20%20%20%20var%20marker_6fa35768587a48239c064bc4f94fa5dc%20%3D%20L.marker%28%0A%20%20%20%20%20%20%20%20%20%20%20%20%20%20%20%20%5B40.696068%2C%20-3.765135%5D%2C%0A%20%20%20%20%20%20%20%20%20%20%20%20%20%20%20%20%7B%22radius%22%3A%2010%7D%0A%20%20%20%20%20%20%20%20%20%20%20%20%29.addTo%28map_571c908fc6e64247bde2c783446c399c%29%3B%0A%20%20%20%20%20%20%20%20%0A%20%20%20%20%0A%20%20%20%20%20%20%20%20%20%20%20%20var%20icon_ec87a09e1c054a13a3ad98e09f170ea6%20%3D%20L.AwesomeMarkers.icon%28%0A%20%20%20%20%20%20%20%20%20%20%20%20%20%20%20%20%7B%22extraClasses%22%3A%20%22fa-rotate-0%22%2C%20%22icon%22%3A%20%22cloud%22%2C%20%22iconColor%22%3A%20%22white%22%2C%20%22markerColor%22%3A%20%22orange%22%2C%20%22prefix%22%3A%20%22glyphicon%22%7D%0A%20%20%20%20%20%20%20%20%20%20%20%20%29%3B%0A%20%20%20%20%20%20%20%20%20%20%20%20marker_6fa35768587a48239c064bc4f94fa5dc.setIcon%28icon_ec87a09e1c054a13a3ad98e09f170ea6%29%3B%0A%20%20%20%20%20%20%20%20%0A%20%20%20%20%0A%20%20%20%20%20%20%20%20%20%20%20%20marker_6fa35768587a48239c064bc4f94fa5dc.bindTooltip%28%0A%20%20%20%20%20%20%20%20%20%20%20%20%20%20%20%20%60%3Cdiv%3E%0A%20%20%20%20%20%20%20%20%20%20%20%20%20%20%20%20%20%20%20%20%20COLMENAR%20VIEJO--%3E%20%20T%C2%AA%3A%206.4%20C%C2%BA.%20T%C2%AA%20Max%3A%206.8%20C%C2%BA.%20T%C2%AA%20Min%3A%206.0%20C%C2%BA.%0A%20%20%20%20%20%20%20%20%20%20%20%20%20%20%20%20%20%3C/div%3E%60%2C%0A%20%20%20%20%20%20%20%20%20%20%20%20%20%20%20%20%7B%22sticky%22%3A%20true%7D%0A%20%20%20%20%20%20%20%20%20%20%20%20%29%3B%0A%20%20%20%20%20%20%20%20%0A%20%20%20%20%0A%20%20%20%20%20%20%20%20%20%20%20%20var%20marker_5e728bb26071464f900056e6995f4cb1%20%3D%20L.marker%28%0A%20%20%20%20%20%20%20%20%20%20%20%20%20%20%20%20%5B40.411804%2C%20-3.678095%5D%2C%0A%20%20%20%20%20%20%20%20%20%20%20%20%20%20%20%20%7B%22radius%22%3A%2010%7D%0A%20%20%20%20%20%20%20%20%20%20%20%20%29.addTo%28map_571c908fc6e64247bde2c783446c399c%29%3B%0A%20%20%20%20%20%20%20%20%0A%20%20%20%20%0A%20%20%20%20%20%20%20%20%20%20%20%20var%20icon_8c7e816336ed4278ace2cf7e9238743a%20%3D%20L.AwesomeMarkers.icon%28%0A%20%20%20%20%20%20%20%20%20%20%20%20%20%20%20%20%7B%22extraClasses%22%3A%20%22fa-rotate-0%22%2C%20%22icon%22%3A%20%22cloud%22%2C%20%22iconColor%22%3A%20%22white%22%2C%20%22markerColor%22%3A%20%22red%22%2C%20%22prefix%22%3A%20%22glyphicon%22%7D%0A%20%20%20%20%20%20%20%20%20%20%20%20%29%3B%0A%20%20%20%20%20%20%20%20%20%20%20%20marker_5e728bb26071464f900056e6995f4cb1.setIcon%28icon_8c7e816336ed4278ace2cf7e9238743a%29%3B%0A%20%20%20%20%20%20%20%20%0A%20%20%20%20%0A%20%20%20%20%20%20%20%20%20%20%20%20marker_5e728bb26071464f900056e6995f4cb1.bindTooltip%28%0A%20%20%20%20%20%20%20%20%20%20%20%20%20%20%20%20%60%3Cdiv%3E%0A%20%20%20%20%20%20%20%20%20%20%20%20%20%20%20%20%20%20%20%20%20MADRID%2C%20RETIRO--%3E%20%20T%C2%AA%3A%209.4%20C%C2%BA.%20T%C2%AA%20Max%3A%209.7%20C%C2%BA.%20T%C2%AA%20Min%3A%209.1%20C%C2%BA.%0A%20%20%20%20%20%20%20%20%20%20%20%20%20%20%20%20%20%3C/div%3E%60%2C%0A%20%20%20%20%20%20%20%20%20%20%20%20%20%20%20%20%7B%22sticky%22%3A%20true%7D%0A%20%20%20%20%20%20%20%20%20%20%20%20%29%3B%0A%20%20%20%20%20%20%20%20%0A%20%20%20%20%0A%20%20%20%20%20%20%20%20%20%20%20%20var%20marker_0322e57a6734413f8a8da09a85b98422%20%3D%20L.marker%28%0A%20%20%20%20%20%20%20%20%20%20%20%20%20%20%20%20%5B40.42775%2C%20-4.249927%5D%2C%0A%20%20%20%20%20%20%20%20%20%20%20%20%20%20%20%20%7B%22radius%22%3A%2010%7D%0A%20%20%20%20%20%20%20%20%20%20%20%20%29.addTo%28map_571c908fc6e64247bde2c783446c399c%29%3B%0A%20%20%20%20%20%20%20%20%0A%20%20%20%20%0A%20%20%20%20%20%20%20%20%20%20%20%20var%20icon_592cdd797224413f96634e0d4216d00d%20%3D%20L.AwesomeMarkers.icon%28%0A%20%20%20%20%20%20%20%20%20%20%20%20%20%20%20%20%7B%22extraClasses%22%3A%20%22fa-rotate-0%22%2C%20%22icon%22%3A%20%22cloud%22%2C%20%22iconColor%22%3A%20%22white%22%2C%20%22markerColor%22%3A%20%22red%22%2C%20%22prefix%22%3A%20%22glyphicon%22%7D%0A%20%20%20%20%20%20%20%20%20%20%20%20%29%3B%0A%20%20%20%20%20%20%20%20%20%20%20%20marker_0322e57a6734413f8a8da09a85b98422.setIcon%28icon_592cdd797224413f96634e0d4216d00d%29%3B%0A%20%20%20%20%20%20%20%20%0A%20%20%20%20%0A%20%20%20%20%20%20%20%20%20%20%20%20marker_0322e57a6734413f8a8da09a85b98422.bindTooltip%28%0A%20%20%20%20%20%20%20%20%20%20%20%20%20%20%20%20%60%3Cdiv%3E%0A%20%20%20%20%20%20%20%20%20%20%20%20%20%20%20%20%20%20%20%20%20ROBLEDO%20DE%20CHAVELA--%3E%20%20T%C2%AA%3A%207.5%20C%C2%BA.%20T%C2%AA%20Max%3A%208.2%20C%C2%BA.%20T%C2%AA%20Min%3A%207.0%20C%C2%BA.%0A%20%20%20%20%20%20%20%20%20%20%20%20%20%20%20%20%20%3C/div%3E%60%2C%0A%20%20%20%20%20%20%20%20%20%20%20%20%20%20%20%20%7B%22sticky%22%3A%20true%7D%0A%20%20%20%20%20%20%20%20%20%20%20%20%29%3B%0A%20%20%20%20%20%20%20%20%0A%3C/script%3E onload=\"this.contentDocument.open();this.contentDocument.write(    decodeURIComponent(this.getAttribute('data-html')));this.contentDocument.close();\" allowfullscreen webkitallowfullscreen mozallowfullscreen></iframe></div></div>"
      ],
      "text/plain": [
       "<folium.folium.Map at 0x7feb506c3ca0>"
      ]
     },
     "execution_count": 24,
     "metadata": {},
     "output_type": "execute_result"
    }
   ],
   "source": [
    "map_"
   ]
  }
 ],
 "metadata": {
  "kernelspec": {
   "display_name": "Python 3 (ipykernel)",
   "language": "python",
   "name": "python3"
  },
  "language_info": {
   "codemirror_mode": {
    "name": "ipython",
    "version": 3
   },
   "file_extension": ".py",
   "mimetype": "text/x-python",
   "name": "python",
   "nbconvert_exporter": "python",
   "pygments_lexer": "ipython3",
   "version": "3.9.7"
  }
 },
 "nbformat": 4,
 "nbformat_minor": 5
}
